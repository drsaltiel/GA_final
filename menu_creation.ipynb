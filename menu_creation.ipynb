{
 "metadata": {
  "name": "",
  "signature": "sha256:55a558c160ee6d8579dbe04fa6c5e9fa680a5c6e31517180afb1acf09c9efa00"
 },
 "nbformat": 3,
 "nbformat_minor": 0,
 "worksheets": [
  {
   "cells": [
    {
     "cell_type": "code",
     "collapsed": false,
     "input": [
      "import pandas as pd"
     ],
     "language": "python",
     "metadata": {},
     "outputs": [],
     "prompt_number": 24
    },
    {
     "cell_type": "code",
     "collapsed": false,
     "input": [
      "bus_data=pd.read_csv('yelp_academic_dataset_business.csv')\n",
      "rev_data=pd.read_csv('yelp_academic_dataset_review.csv')"
     ],
     "language": "python",
     "metadata": {},
     "outputs": [
      {
       "output_type": "stream",
       "stream": "stderr",
       "text": [
        "/home/daniel/anaconda/lib/python2.7/site-packages/pandas/io/parsers.py:1139: DtypeWarning: Columns (1,4,7,14,18,21,27,30,43,49,52,62,64,66,70,84,89,92,100) have mixed types. Specify dtype option on import or set low_memory=False.\n",
        "  data = self._reader.read(nrows)\n"
       ]
      }
     ],
     "prompt_number": 25
    },
    {
     "cell_type": "code",
     "collapsed": false,
     "input": [
      "tip_data=pd.read_csv('yelp_academic_dataset_tip.csv')\n",
      "user_data = pd.read_csv('yelp_academic_dataset_user.csv')"
     ],
     "language": "python",
     "metadata": {},
     "outputs": [],
     "prompt_number": 43
    },
    {
     "cell_type": "code",
     "collapsed": false,
     "input": [
      "bus_data.head()"
     ],
     "language": "python",
     "metadata": {},
     "outputs": [
      {
       "html": [
        "<div style=\"max-height:1000px;max-width:1500px;overflow:auto;\">\n",
        "<table border=\"1\" class=\"dataframe\">\n",
        "  <thead>\n",
        "    <tr style=\"text-align: right;\">\n",
        "      <th></th>\n",
        "      <th>attributes.Ambience.divey</th>\n",
        "      <th>attributes.Dietary Restrictions.vegan</th>\n",
        "      <th>attributes.Happy Hour</th>\n",
        "      <th>hours.Thursday.open</th>\n",
        "      <th>attributes.Order at Counter</th>\n",
        "      <th>attributes.Hair Types Specialized In.africanamerican</th>\n",
        "      <th>attributes.Hair Types Specialized In.kids</th>\n",
        "      <th>attributes.BYOB</th>\n",
        "      <th>hours.Friday.open</th>\n",
        "      <th>categories</th>\n",
        "      <th>...</th>\n",
        "      <th>attributes.Smoking</th>\n",
        "      <th>attributes.Attire</th>\n",
        "      <th>attributes.Hair Types Specialized In.curly</th>\n",
        "      <th>attributes.Good For Groups</th>\n",
        "      <th>neighborhoods</th>\n",
        "      <th>attributes.Open 24 Hours</th>\n",
        "      <th>attributes.Ambience.romantic</th>\n",
        "      <th>attributes.Hair Types Specialized In.perms</th>\n",
        "      <th>attributes.Music.jukebox</th>\n",
        "      <th>attributes.Ambience.upscale</th>\n",
        "    </tr>\n",
        "  </thead>\n",
        "  <tbody>\n",
        "    <tr>\n",
        "      <th>0</th>\n",
        "      <td>   NaN</td>\n",
        "      <td> NaN</td>\n",
        "      <td> NaN</td>\n",
        "      <td> 08:00</td>\n",
        "      <td> NaN</td>\n",
        "      <td> NaN</td>\n",
        "      <td> NaN</td>\n",
        "      <td> NaN</td>\n",
        "      <td> 08:00</td>\n",
        "      <td>                   ['Doctors', 'Health &amp; Medical']</td>\n",
        "      <td>...</td>\n",
        "      <td> NaN</td>\n",
        "      <td>    NaN</td>\n",
        "      <td> NaN</td>\n",
        "      <td>  NaN</td>\n",
        "      <td> []</td>\n",
        "      <td> NaN</td>\n",
        "      <td>   NaN</td>\n",
        "      <td> NaN</td>\n",
        "      <td> NaN</td>\n",
        "      <td>   NaN</td>\n",
        "    </tr>\n",
        "    <tr>\n",
        "      <th>1</th>\n",
        "      <td> False</td>\n",
        "      <td> NaN</td>\n",
        "      <td> NaN</td>\n",
        "      <td>   NaN</td>\n",
        "      <td> NaN</td>\n",
        "      <td> NaN</td>\n",
        "      <td> NaN</td>\n",
        "      <td> NaN</td>\n",
        "      <td>   NaN</td>\n",
        "      <td>                                   ['Restaurants']</td>\n",
        "      <td>...</td>\n",
        "      <td> NaN</td>\n",
        "      <td> casual</td>\n",
        "      <td> NaN</td>\n",
        "      <td> True</td>\n",
        "      <td> []</td>\n",
        "      <td> NaN</td>\n",
        "      <td> False</td>\n",
        "      <td> NaN</td>\n",
        "      <td> NaN</td>\n",
        "      <td> False</td>\n",
        "    </tr>\n",
        "    <tr>\n",
        "      <th>2</th>\n",
        "      <td> False</td>\n",
        "      <td> NaN</td>\n",
        "      <td> NaN</td>\n",
        "      <td> 06:00</td>\n",
        "      <td> NaN</td>\n",
        "      <td> NaN</td>\n",
        "      <td> NaN</td>\n",
        "      <td> NaN</td>\n",
        "      <td> 06:00</td>\n",
        "      <td>         ['American (Traditional)', 'Restaurants']</td>\n",
        "      <td>...</td>\n",
        "      <td> NaN</td>\n",
        "      <td> casual</td>\n",
        "      <td> NaN</td>\n",
        "      <td> True</td>\n",
        "      <td> []</td>\n",
        "      <td> NaN</td>\n",
        "      <td> False</td>\n",
        "      <td> NaN</td>\n",
        "      <td> NaN</td>\n",
        "      <td> False</td>\n",
        "    </tr>\n",
        "    <tr>\n",
        "      <th>3</th>\n",
        "      <td>   NaN</td>\n",
        "      <td> NaN</td>\n",
        "      <td> NaN</td>\n",
        "      <td> 10:30</td>\n",
        "      <td> NaN</td>\n",
        "      <td> NaN</td>\n",
        "      <td> NaN</td>\n",
        "      <td> NaN</td>\n",
        "      <td> 10:30</td>\n",
        "      <td> ['Food', 'Ice Cream &amp; Frozen Yogurt', 'Fast Fo...</td>\n",
        "      <td>...</td>\n",
        "      <td> NaN</td>\n",
        "      <td> casual</td>\n",
        "      <td> NaN</td>\n",
        "      <td> True</td>\n",
        "      <td> []</td>\n",
        "      <td> NaN</td>\n",
        "      <td>   NaN</td>\n",
        "      <td> NaN</td>\n",
        "      <td> NaN</td>\n",
        "      <td>   NaN</td>\n",
        "    </tr>\n",
        "    <tr>\n",
        "      <th>4</th>\n",
        "      <td>   NaN</td>\n",
        "      <td> NaN</td>\n",
        "      <td> NaN</td>\n",
        "      <td> 11:00</td>\n",
        "      <td> NaN</td>\n",
        "      <td> NaN</td>\n",
        "      <td> NaN</td>\n",
        "      <td> NaN</td>\n",
        "      <td> 11:00</td>\n",
        "      <td>                        ['Chinese', 'Restaurants']</td>\n",
        "      <td>...</td>\n",
        "      <td> NaN</td>\n",
        "      <td> casual</td>\n",
        "      <td> NaN</td>\n",
        "      <td>  NaN</td>\n",
        "      <td> []</td>\n",
        "      <td> NaN</td>\n",
        "      <td>   NaN</td>\n",
        "      <td> NaN</td>\n",
        "      <td> NaN</td>\n",
        "      <td>   NaN</td>\n",
        "    </tr>\n",
        "  </tbody>\n",
        "</table>\n",
        "<p>5 rows \u00d7 105 columns</p>\n",
        "</div>"
       ],
       "metadata": {},
       "output_type": "pyout",
       "prompt_number": 5,
       "text": [
        "  attributes.Ambience.divey attributes.Dietary Restrictions.vegan  \\\n",
        "0                       NaN                                   NaN   \n",
        "1                     False                                   NaN   \n",
        "2                     False                                   NaN   \n",
        "3                       NaN                                   NaN   \n",
        "4                       NaN                                   NaN   \n",
        "\n",
        "  attributes.Happy Hour hours.Thursday.open attributes.Order at Counter  \\\n",
        "0                   NaN               08:00                         NaN   \n",
        "1                   NaN                 NaN                         NaN   \n",
        "2                   NaN               06:00                         NaN   \n",
        "3                   NaN               10:30                         NaN   \n",
        "4                   NaN               11:00                         NaN   \n",
        "\n",
        "  attributes.Hair Types Specialized In.africanamerican  \\\n",
        "0                                                NaN     \n",
        "1                                                NaN     \n",
        "2                                                NaN     \n",
        "3                                                NaN     \n",
        "4                                                NaN     \n",
        "\n",
        "  attributes.Hair Types Specialized In.kids attributes.BYOB hours.Friday.open  \\\n",
        "0                                       NaN             NaN             08:00   \n",
        "1                                       NaN             NaN               NaN   \n",
        "2                                       NaN             NaN             06:00   \n",
        "3                                       NaN             NaN             10:30   \n",
        "4                                       NaN             NaN             11:00   \n",
        "\n",
        "                                          categories  \\\n",
        "0                    ['Doctors', 'Health & Medical']   \n",
        "1                                    ['Restaurants']   \n",
        "2          ['American (Traditional)', 'Restaurants']   \n",
        "3  ['Food', 'Ice Cream & Frozen Yogurt', 'Fast Fo...   \n",
        "4                         ['Chinese', 'Restaurants']   \n",
        "\n",
        "                         ...                          attributes.Smoking  \\\n",
        "0                        ...                                         NaN   \n",
        "1                        ...                                         NaN   \n",
        "2                        ...                                         NaN   \n",
        "3                        ...                                         NaN   \n",
        "4                        ...                                         NaN   \n",
        "\n",
        "  attributes.Attire attributes.Hair Types Specialized In.curly  \\\n",
        "0               NaN                                        NaN   \n",
        "1            casual                                        NaN   \n",
        "2            casual                                        NaN   \n",
        "3            casual                                        NaN   \n",
        "4            casual                                        NaN   \n",
        "\n",
        "  attributes.Good For Groups neighborhoods attributes.Open 24 Hours  \\\n",
        "0                        NaN            []                      NaN   \n",
        "1                       True            []                      NaN   \n",
        "2                       True            []                      NaN   \n",
        "3                       True            []                      NaN   \n",
        "4                        NaN            []                      NaN   \n",
        "\n",
        "  attributes.Ambience.romantic attributes.Hair Types Specialized In.perms  \\\n",
        "0                          NaN                                        NaN   \n",
        "1                        False                                        NaN   \n",
        "2                        False                                        NaN   \n",
        "3                          NaN                                        NaN   \n",
        "4                          NaN                                        NaN   \n",
        "\n",
        "  attributes.Music.jukebox attributes.Ambience.upscale  \n",
        "0                      NaN                         NaN  \n",
        "1                      NaN                       False  \n",
        "2                      NaN                       False  \n",
        "3                      NaN                         NaN  \n",
        "4                      NaN                         NaN  \n",
        "\n",
        "[5 rows x 105 columns]"
       ]
      }
     ],
     "prompt_number": 5
    },
    {
     "cell_type": "code",
     "collapsed": false,
     "input": [
      "rev_data.head()"
     ],
     "language": "python",
     "metadata": {},
     "outputs": [
      {
       "html": [
        "<div style=\"max-height:1000px;max-width:1500px;overflow:auto;\">\n",
        "<table border=\"1\" class=\"dataframe\">\n",
        "  <thead>\n",
        "    <tr style=\"text-align: right;\">\n",
        "      <th></th>\n",
        "      <th>user_id</th>\n",
        "      <th>review_id</th>\n",
        "      <th>text</th>\n",
        "      <th>votes.cool</th>\n",
        "      <th>business_id</th>\n",
        "      <th>votes.funny</th>\n",
        "      <th>stars</th>\n",
        "      <th>date</th>\n",
        "      <th>type</th>\n",
        "      <th>votes.useful</th>\n",
        "    </tr>\n",
        "  </thead>\n",
        "  <tbody>\n",
        "    <tr>\n",
        "      <th>0</th>\n",
        "      <td> Xqd0DzHaiyRqVH3WRG7hzg</td>\n",
        "      <td> 15SdjuK7DmYqUAj6rjGowg</td>\n",
        "      <td> dr. goldberg offers everything i look for in a...</td>\n",
        "      <td> 1</td>\n",
        "      <td> vcNAWiLM4dR7D2nwwJ7nCA</td>\n",
        "      <td> 0</td>\n",
        "      <td> 5</td>\n",
        "      <td> 2007-05-17</td>\n",
        "      <td> review</td>\n",
        "      <td> 2</td>\n",
        "    </tr>\n",
        "    <tr>\n",
        "      <th>1</th>\n",
        "      <td> H1kH6QZV7Le4zqTRNxoZow</td>\n",
        "      <td> RF6UnRTtG7tWMcrO2GEoAg</td>\n",
        "      <td> Unfortunately, the frustration of being Dr. Go...</td>\n",
        "      <td> 0</td>\n",
        "      <td> vcNAWiLM4dR7D2nwwJ7nCA</td>\n",
        "      <td> 0</td>\n",
        "      <td> 2</td>\n",
        "      <td> 2010-03-22</td>\n",
        "      <td> review</td>\n",
        "      <td> 2</td>\n",
        "    </tr>\n",
        "    <tr>\n",
        "      <th>2</th>\n",
        "      <td> zvJCcrpm2yOZrxKffwGQLA</td>\n",
        "      <td> -TsVN230RCkLYKBeLsuz7A</td>\n",
        "      <td> Dr. Goldberg has been my doctor for years and ...</td>\n",
        "      <td> 1</td>\n",
        "      <td> vcNAWiLM4dR7D2nwwJ7nCA</td>\n",
        "      <td> 0</td>\n",
        "      <td> 4</td>\n",
        "      <td> 2012-02-14</td>\n",
        "      <td> review</td>\n",
        "      <td> 1</td>\n",
        "    </tr>\n",
        "    <tr>\n",
        "      <th>3</th>\n",
        "      <td> KBLW4wJA_fwoWmMhiHRVOA</td>\n",
        "      <td> dNocEAyUucjT371NNND41Q</td>\n",
        "      <td> Been going to Dr. Goldberg for over 10 years. ...</td>\n",
        "      <td> 0</td>\n",
        "      <td> vcNAWiLM4dR7D2nwwJ7nCA</td>\n",
        "      <td> 0</td>\n",
        "      <td> 4</td>\n",
        "      <td> 2012-03-02</td>\n",
        "      <td> review</td>\n",
        "      <td> 0</td>\n",
        "    </tr>\n",
        "    <tr>\n",
        "      <th>4</th>\n",
        "      <td> zvJCcrpm2yOZrxKffwGQLA</td>\n",
        "      <td> ebcN2aqmNUuYNoyvQErgnA</td>\n",
        "      <td> Got a letter in the mail last week that said D...</td>\n",
        "      <td> 1</td>\n",
        "      <td> vcNAWiLM4dR7D2nwwJ7nCA</td>\n",
        "      <td> 0</td>\n",
        "      <td> 4</td>\n",
        "      <td> 2012-05-15</td>\n",
        "      <td> review</td>\n",
        "      <td> 2</td>\n",
        "    </tr>\n",
        "  </tbody>\n",
        "</table>\n",
        "</div>"
       ],
       "metadata": {},
       "output_type": "pyout",
       "prompt_number": 6,
       "text": [
        "                  user_id               review_id  \\\n",
        "0  Xqd0DzHaiyRqVH3WRG7hzg  15SdjuK7DmYqUAj6rjGowg   \n",
        "1  H1kH6QZV7Le4zqTRNxoZow  RF6UnRTtG7tWMcrO2GEoAg   \n",
        "2  zvJCcrpm2yOZrxKffwGQLA  -TsVN230RCkLYKBeLsuz7A   \n",
        "3  KBLW4wJA_fwoWmMhiHRVOA  dNocEAyUucjT371NNND41Q   \n",
        "4  zvJCcrpm2yOZrxKffwGQLA  ebcN2aqmNUuYNoyvQErgnA   \n",
        "\n",
        "                                                text  votes.cool  \\\n",
        "0  dr. goldberg offers everything i look for in a...           1   \n",
        "1  Unfortunately, the frustration of being Dr. Go...           0   \n",
        "2  Dr. Goldberg has been my doctor for years and ...           1   \n",
        "3  Been going to Dr. Goldberg for over 10 years. ...           0   \n",
        "4  Got a letter in the mail last week that said D...           1   \n",
        "\n",
        "              business_id  votes.funny  stars        date    type  \\\n",
        "0  vcNAWiLM4dR7D2nwwJ7nCA            0      5  2007-05-17  review   \n",
        "1  vcNAWiLM4dR7D2nwwJ7nCA            0      2  2010-03-22  review   \n",
        "2  vcNAWiLM4dR7D2nwwJ7nCA            0      4  2012-02-14  review   \n",
        "3  vcNAWiLM4dR7D2nwwJ7nCA            0      4  2012-03-02  review   \n",
        "4  vcNAWiLM4dR7D2nwwJ7nCA            0      4  2012-05-15  review   \n",
        "\n",
        "   votes.useful  \n",
        "0             2  \n",
        "1             2  \n",
        "2             1  \n",
        "3             0  \n",
        "4             2  "
       ]
      }
     ],
     "prompt_number": 6
    },
    {
     "cell_type": "code",
     "collapsed": false,
     "input": [
      "tip_data.head()"
     ],
     "language": "python",
     "metadata": {},
     "outputs": [
      {
       "html": [
        "<div style=\"max-height:1000px;max-width:1500px;overflow:auto;\">\n",
        "<table border=\"1\" class=\"dataframe\">\n",
        "  <thead>\n",
        "    <tr style=\"text-align: right;\">\n",
        "      <th></th>\n",
        "      <th>user_id</th>\n",
        "      <th>text</th>\n",
        "      <th>business_id</th>\n",
        "      <th>likes</th>\n",
        "      <th>date</th>\n",
        "      <th>type</th>\n",
        "    </tr>\n",
        "  </thead>\n",
        "  <tbody>\n",
        "    <tr>\n",
        "      <th>0</th>\n",
        "      <td> Vefj29mjork1DLhALLNAsg</td>\n",
        "      <td> Great food, huge portions and a gift shop and ...</td>\n",
        "      <td> JwUE5GmEO-sH1FuwJgKBlQ</td>\n",
        "      <td> 0</td>\n",
        "      <td> 2012-05-16</td>\n",
        "      <td> tip</td>\n",
        "    </tr>\n",
        "    <tr>\n",
        "      <th>1</th>\n",
        "      <td> Bbm6c5CHf5IJG5ju0ozXZQ</td>\n",
        "      <td>           Great bakery. Great country type diner.</td>\n",
        "      <td> JwUE5GmEO-sH1FuwJgKBlQ</td>\n",
        "      <td> 0</td>\n",
        "      <td> 2014-03-29</td>\n",
        "      <td> tip</td>\n",
        "    </tr>\n",
        "    <tr>\n",
        "      <th>2</th>\n",
        "      <td> IORZRljfUkedhh1SGMthTA</td>\n",
        "      <td>              The desserts are enormous..dear god.</td>\n",
        "      <td> JwUE5GmEO-sH1FuwJgKBlQ</td>\n",
        "      <td> 0</td>\n",
        "      <td> 2011-09-29</td>\n",
        "      <td> tip</td>\n",
        "    </tr>\n",
        "    <tr>\n",
        "      <th>3</th>\n",
        "      <td> Bdmk6RQUP0sbXA_V9WiI3Q</td>\n",
        "      <td> There are too many menu items here. Order some...</td>\n",
        "      <td> uGykseHzyS5xAMWoN6YUqA</td>\n",
        "      <td> 0</td>\n",
        "      <td> 2013-07-20</td>\n",
        "      <td> tip</td>\n",
        "    </tr>\n",
        "    <tr>\n",
        "      <th>4</th>\n",
        "      <td> fjGh54rTqVn0ECKroIXwYQ</td>\n",
        "      <td> Really good place, just a mile off the highway...</td>\n",
        "      <td> uGykseHzyS5xAMWoN6YUqA</td>\n",
        "      <td> 0</td>\n",
        "      <td> 2013-08-03</td>\n",
        "      <td> tip</td>\n",
        "    </tr>\n",
        "  </tbody>\n",
        "</table>\n",
        "</div>"
       ],
       "metadata": {},
       "output_type": "pyout",
       "prompt_number": 7,
       "text": [
        "                  user_id                                               text  \\\n",
        "0  Vefj29mjork1DLhALLNAsg  Great food, huge portions and a gift shop and ...   \n",
        "1  Bbm6c5CHf5IJG5ju0ozXZQ            Great bakery. Great country type diner.   \n",
        "2  IORZRljfUkedhh1SGMthTA               The desserts are enormous..dear god.   \n",
        "3  Bdmk6RQUP0sbXA_V9WiI3Q  There are too many menu items here. Order some...   \n",
        "4  fjGh54rTqVn0ECKroIXwYQ  Really good place, just a mile off the highway...   \n",
        "\n",
        "              business_id  likes        date type  \n",
        "0  JwUE5GmEO-sH1FuwJgKBlQ      0  2012-05-16  tip  \n",
        "1  JwUE5GmEO-sH1FuwJgKBlQ      0  2014-03-29  tip  \n",
        "2  JwUE5GmEO-sH1FuwJgKBlQ      0  2011-09-29  tip  \n",
        "3  uGykseHzyS5xAMWoN6YUqA      0  2013-07-20  tip  \n",
        "4  uGykseHzyS5xAMWoN6YUqA      0  2013-08-03  tip  "
       ]
      }
     ],
     "prompt_number": 7
    },
    {
     "cell_type": "code",
     "collapsed": false,
     "input": [
      "user_data.head()"
     ],
     "language": "python",
     "metadata": {},
     "outputs": [
      {
       "html": [
        "<div style=\"max-height:1000px;max-width:1500px;overflow:auto;\">\n",
        "<table border=\"1\" class=\"dataframe\">\n",
        "  <thead>\n",
        "    <tr style=\"text-align: right;\">\n",
        "      <th></th>\n",
        "      <th>yelping_since</th>\n",
        "      <th>compliments.plain</th>\n",
        "      <th>compliments.more</th>\n",
        "      <th>elite</th>\n",
        "      <th>compliments.cute</th>\n",
        "      <th>compliments.writer</th>\n",
        "      <th>fans</th>\n",
        "      <th>compliments.note</th>\n",
        "      <th>type</th>\n",
        "      <th>compliments.hot</th>\n",
        "      <th>...</th>\n",
        "      <th>review_count</th>\n",
        "      <th>friends</th>\n",
        "      <th>name</th>\n",
        "      <th>user_id</th>\n",
        "      <th>votes.cool</th>\n",
        "      <th>compliments.list</th>\n",
        "      <th>votes.funny</th>\n",
        "      <th>compliments.photos</th>\n",
        "      <th>compliments.funny</th>\n",
        "      <th>votes.useful</th>\n",
        "    </tr>\n",
        "  </thead>\n",
        "  <tbody>\n",
        "    <tr>\n",
        "      <th>0</th>\n",
        "      <td> 2012-02</td>\n",
        "      <td>NaN</td>\n",
        "      <td>NaN</td>\n",
        "      <td> []</td>\n",
        "      <td>NaN</td>\n",
        "      <td>NaN</td>\n",
        "      <td> 0</td>\n",
        "      <td>NaN</td>\n",
        "      <td> user</td>\n",
        "      <td>NaN</td>\n",
        "      <td>...</td>\n",
        "      <td>  6</td>\n",
        "      <td>                                                []</td>\n",
        "      <td>     Lee</td>\n",
        "      <td> qtrmBGNqCvupHMHL_bKFgQ</td>\n",
        "      <td>  0</td>\n",
        "      <td>NaN</td>\n",
        "      <td> 1</td>\n",
        "      <td>NaN</td>\n",
        "      <td>NaN</td>\n",
        "      <td>  5</td>\n",
        "    </tr>\n",
        "    <tr>\n",
        "      <th>1</th>\n",
        "      <td> 2011-12</td>\n",
        "      <td>NaN</td>\n",
        "      <td>NaN</td>\n",
        "      <td> []</td>\n",
        "      <td>NaN</td>\n",
        "      <td>NaN</td>\n",
        "      <td> 0</td>\n",
        "      <td>NaN</td>\n",
        "      <td> user</td>\n",
        "      <td>NaN</td>\n",
        "      <td>...</td>\n",
        "      <td>  1</td>\n",
        "      <td> ['8Y2EN4XNNhnwssuPb31sJg', 'A1jPleJ99kXZ3t9wQ3...</td>\n",
        "      <td> Matthew</td>\n",
        "      <td> MWhR9LvOdRbqtu1I_DRFBg</td>\n",
        "      <td>  0</td>\n",
        "      <td>NaN</td>\n",
        "      <td> 0</td>\n",
        "      <td>NaN</td>\n",
        "      <td>NaN</td>\n",
        "      <td>  0</td>\n",
        "    </tr>\n",
        "    <tr>\n",
        "      <th>2</th>\n",
        "      <td> 2010-09</td>\n",
        "      <td>NaN</td>\n",
        "      <td>  2</td>\n",
        "      <td> []</td>\n",
        "      <td>NaN</td>\n",
        "      <td>  1</td>\n",
        "      <td> 1</td>\n",
        "      <td>NaN</td>\n",
        "      <td> user</td>\n",
        "      <td>NaN</td>\n",
        "      <td>...</td>\n",
        "      <td> 22</td>\n",
        "      <td> ['8wK7_qZ18mokBxw5zdSo9w', 'AdxHwIZAOhY4zNXspg...</td>\n",
        "      <td> Jasmine</td>\n",
        "      <td> 0vscrHoajVRa1Yk19XWdwA</td>\n",
        "      <td> 11</td>\n",
        "      <td>NaN</td>\n",
        "      <td> 5</td>\n",
        "      <td>  1</td>\n",
        "      <td>  1</td>\n",
        "      <td> 20</td>\n",
        "    </tr>\n",
        "    <tr>\n",
        "      <th>3</th>\n",
        "      <td> 2012-01</td>\n",
        "      <td>NaN</td>\n",
        "      <td>NaN</td>\n",
        "      <td> []</td>\n",
        "      <td>NaN</td>\n",
        "      <td>NaN</td>\n",
        "      <td> 0</td>\n",
        "      <td>NaN</td>\n",
        "      <td> user</td>\n",
        "      <td>NaN</td>\n",
        "      <td>...</td>\n",
        "      <td>  1</td>\n",
        "      <td>                                                []</td>\n",
        "      <td>  Harley</td>\n",
        "      <td> 5Xh4Qc3rxhAQ_NcNtxLssQ</td>\n",
        "      <td>  0</td>\n",
        "      <td>NaN</td>\n",
        "      <td> 0</td>\n",
        "      <td>NaN</td>\n",
        "      <td>NaN</td>\n",
        "      <td>  1</td>\n",
        "    </tr>\n",
        "    <tr>\n",
        "      <th>4</th>\n",
        "      <td> 2011-08</td>\n",
        "      <td>NaN</td>\n",
        "      <td>NaN</td>\n",
        "      <td> []</td>\n",
        "      <td>NaN</td>\n",
        "      <td>NaN</td>\n",
        "      <td> 0</td>\n",
        "      <td>NaN</td>\n",
        "      <td> user</td>\n",
        "      <td>NaN</td>\n",
        "      <td>...</td>\n",
        "      <td>  6</td>\n",
        "      <td>                                                []</td>\n",
        "      <td>   Tyler</td>\n",
        "      <td> 4dJLZvpYRcjQ6qDR5i7WsA</td>\n",
        "      <td>  1</td>\n",
        "      <td>NaN</td>\n",
        "      <td> 2</td>\n",
        "      <td>NaN</td>\n",
        "      <td>NaN</td>\n",
        "      <td>  6</td>\n",
        "    </tr>\n",
        "  </tbody>\n",
        "</table>\n",
        "<p>5 rows \u00d7 23 columns</p>\n",
        "</div>"
       ],
       "metadata": {},
       "output_type": "pyout",
       "prompt_number": 44,
       "text": [
        "  yelping_since  compliments.plain  compliments.more elite  compliments.cute  \\\n",
        "0       2012-02                NaN               NaN    []               NaN   \n",
        "1       2011-12                NaN               NaN    []               NaN   \n",
        "2       2010-09                NaN                 2    []               NaN   \n",
        "3       2012-01                NaN               NaN    []               NaN   \n",
        "4       2011-08                NaN               NaN    []               NaN   \n",
        "\n",
        "   compliments.writer  fans  compliments.note  type  compliments.hot  \\\n",
        "0                 NaN     0               NaN  user              NaN   \n",
        "1                 NaN     0               NaN  user              NaN   \n",
        "2                   1     1               NaN  user              NaN   \n",
        "3                 NaN     0               NaN  user              NaN   \n",
        "4                 NaN     0               NaN  user              NaN   \n",
        "\n",
        "        ...         review_count  \\\n",
        "0       ...                    6   \n",
        "1       ...                    1   \n",
        "2       ...                   22   \n",
        "3       ...                    1   \n",
        "4       ...                    6   \n",
        "\n",
        "                                             friends     name  \\\n",
        "0                                                 []      Lee   \n",
        "1  ['8Y2EN4XNNhnwssuPb31sJg', 'A1jPleJ99kXZ3t9wQ3...  Matthew   \n",
        "2  ['8wK7_qZ18mokBxw5zdSo9w', 'AdxHwIZAOhY4zNXspg...  Jasmine   \n",
        "3                                                 []   Harley   \n",
        "4                                                 []    Tyler   \n",
        "\n",
        "                  user_id votes.cool compliments.list votes.funny  \\\n",
        "0  qtrmBGNqCvupHMHL_bKFgQ          0              NaN           1   \n",
        "1  MWhR9LvOdRbqtu1I_DRFBg          0              NaN           0   \n",
        "2  0vscrHoajVRa1Yk19XWdwA         11              NaN           5   \n",
        "3  5Xh4Qc3rxhAQ_NcNtxLssQ          0              NaN           0   \n",
        "4  4dJLZvpYRcjQ6qDR5i7WsA          1              NaN           2   \n",
        "\n",
        "   compliments.photos  compliments.funny  votes.useful  \n",
        "0                 NaN                NaN             5  \n",
        "1                 NaN                NaN             0  \n",
        "2                   1                  1            20  \n",
        "3                 NaN                NaN             1  \n",
        "4                 NaN                NaN             6  \n",
        "\n",
        "[5 rows x 23 columns]"
       ]
      }
     ],
     "prompt_number": 44
    },
    {
     "cell_type": "markdown",
     "metadata": {},
     "source": [
      "## general direction:\n",
      "\n",
      "1. get review and tip text\n",
      "2. tokenize text, stem, etc...\n",
      "3. extract menu items (smart way might be to scrape common menu items and make list)\n",
      "4. recommend or don't recommend menu items based \n",
      " - first: if they are in high starred reviews\n",
      " - second: sentiment analysis of reviews and tips they are mentioned in\n",
      " \n",
      "## OR:\n",
      "-compare review sentiment with tip sentiment with stars given\n",
      "1. plot distributions\n",
      "2. devise metric for comparing if people are more positive in words or grades"
     ]
    },
    {
     "cell_type": "code",
     "collapsed": false,
     "input": [
      "def extract_review_indicies(bus_id, rev_data = rev_data):\n",
      "    '''\n",
      "    find the indicies of reviews and tips for a given business id\n",
      "    '''\n",
      "    reviews = []\n",
      "    for i, _id in rev_data['business_id'].iteritems():\n",
      "        if _id == bus_id:\n",
      "            reviews.append(i)\n",
      "    tips = []\n",
      "    for i, _id in tip_data['business_id'].iteritems():\n",
      "        if _id == bus_id:\n",
      "            tips.append(i)\n",
      "    return reviews, tips"
     ],
     "language": "python",
     "metadata": {},
     "outputs": [],
     "prompt_number": 27
    },
    {
     "cell_type": "code",
     "collapsed": false,
     "input": [
      "a = extract_review_indicies('vcNAWiLM4dR7D2nwwJ7nCA')\n",
      "a"
     ],
     "language": "python",
     "metadata": {},
     "outputs": [
      {
       "metadata": {},
       "output_type": "pyout",
       "prompt_number": 28,
       "text": [
        "([0, 1, 2, 3, 4, 5, 6, 7], [])"
       ]
      }
     ],
     "prompt_number": 28
    },
    {
     "cell_type": "code",
     "collapsed": false,
     "input": [
      "a[0]"
     ],
     "language": "python",
     "metadata": {},
     "outputs": [
      {
       "metadata": {},
       "output_type": "pyout",
       "prompt_number": 29,
       "text": [
        "[0, 1, 2, 3, 4, 5, 6, 7]"
       ]
      }
     ],
     "prompt_number": 29
    },
    {
     "cell_type": "code",
     "collapsed": false,
     "input": [
      "a[1]"
     ],
     "language": "python",
     "metadata": {},
     "outputs": [
      {
       "metadata": {},
       "output_type": "pyout",
       "prompt_number": 30,
       "text": [
        "[]"
       ]
      }
     ],
     "prompt_number": 30
    },
    {
     "cell_type": "code",
     "collapsed": false,
     "input": [
      "rev_data.ix[0]['text']"
     ],
     "language": "python",
     "metadata": {},
     "outputs": [
      {
       "metadata": {},
       "output_type": "pyout",
       "prompt_number": 69,
       "text": [
        "\"dr. goldberg offers everything i look for in a general practitioner.  he's nice and easy to talk to without being patronizing; he's always on time in seeing his patients; he's affiliated with a top-notch hospital (nyu) which my parents have explained to me is very important in case something happens and you need surgery; and you can get referrals to see specialists without having to see him first.  really, what more do you need?  i'm sitting here trying to think of any complaints i have about him, but i'm really drawing a blank.\""
       ]
      }
     ],
     "prompt_number": 69
    },
    {
     "cell_type": "code",
     "collapsed": false,
     "input": [
      "def make_sentiment_dict():\n",
      "    '''\n",
      "    makes dictionary of sentiment scores from file AFINN-111.txt\n",
      "    '''\n",
      "    scores = {}\n",
      "    with open(\"AFINN-111.txt\", \"r\") as afinnfile:\n",
      "        for line in afinnfile:\n",
      "            term, score = line.split('\\t')\n",
      "            scores[term] = int(score)\n",
      "    return scores"
     ],
     "language": "python",
     "metadata": {},
     "outputs": [],
     "prompt_number": 31
    },
    {
     "cell_type": "code",
     "collapsed": false,
     "input": [
      "scores = make_sentiment_dict()"
     ],
     "language": "python",
     "metadata": {},
     "outputs": [],
     "prompt_number": 33
    },
    {
     "cell_type": "code",
     "collapsed": false,
     "input": [
      "def business_sentiment_score(bus_id, rev_data = rev_data, tip_data = tip_data):\n",
      "    '''\n",
      "    scores sentiment about a business\n",
      "    returns tuple with scores from (reviews, tips)\n",
      "    '''\n",
      "    indicies = extract_review_indicies(bus_id)\n",
      "    review_score = 0\n",
      "    for index in indicies[0]:\n",
      "        text = rev_data.ix[index]['text']\n",
      "        review_score+=sentiment_score(text)\n",
      "    tip_score = 0\n",
      "    for index in indicies[1]:\n",
      "        text = tip_data.ix[index]['text']\n",
      "        tip_score+=sentiment_score(text)\n",
      "    return review_score, tip_score\n",
      "\n",
      "def sentiment_score(text, scores = scores):\n",
      "    '''\n",
      "    takes in text and returns sentiment score using file 'afinn111.txt'\n",
      "    '''\n",
      "    \n",
      "    words = text.split()\n",
      "    score = 0\n",
      "    for word in words:\n",
      "        if word in scores:\n",
      "            score+=scores[word]\n",
      "    return score\n"
     ],
     "language": "python",
     "metadata": {},
     "outputs": [],
     "prompt_number": 34
    },
    {
     "cell_type": "code",
     "collapsed": false,
     "input": [
      "a, b = business_sentiment_score('vcNAWiLM4dR7D2nwwJ7nCA')\n",
      "a, b"
     ],
     "language": "python",
     "metadata": {},
     "outputs": [
      {
       "metadata": {},
       "output_type": "pyout",
       "prompt_number": 46,
       "text": [
        "(26, 0)"
       ]
      }
     ],
     "prompt_number": 46
    },
    {
     "cell_type": "code",
     "collapsed": false,
     "input": [
      "float(bus_data[bus_data['business_id'] == 'vcNAWiLM4dR7D2nwwJ7nCA']['stars'])"
     ],
     "language": "python",
     "metadata": {},
     "outputs": [
      {
       "metadata": {},
       "output_type": "pyout",
       "prompt_number": 107,
       "text": [
        "3.5"
       ]
      }
     ],
     "prompt_number": 107
    },
    {
     "cell_type": "code",
     "collapsed": false,
     "input": [
      "len(set(bus_data['business_id']))"
     ],
     "language": "python",
     "metadata": {},
     "outputs": [
      {
       "metadata": {},
       "output_type": "pyout",
       "prompt_number": 92,
       "text": [
        "42153"
       ]
      }
     ],
     "prompt_number": 92
    },
    {
     "cell_type": "code",
     "collapsed": false,
     "input": [
      "def ratio_words_to_stars(bus_id, bus_data = bus_data):\n",
      "    '''\n",
      "    returns the ratio of the sentiment score of the reviews and tips to the given stars\n",
      "    '''\n",
      "    review_score, tip_score = business_sentiment_score(bus_id)\n",
      "#     return review_score, tip_score\n",
      "    stars = float(bus_data[bus_data['business_id'] == bus_id]['stars'])\n",
      "#     return stars\n",
      "    return (review_score + tip_score) / stars"
     ],
     "language": "python",
     "metadata": {},
     "outputs": [],
     "prompt_number": 35
    },
    {
     "cell_type": "code",
     "collapsed": false,
     "input": [
      "ratio_words_to_stars('uGykseHzyS5xAMWoN6YUqA')"
     ],
     "language": "python",
     "metadata": {},
     "outputs": [
      {
       "metadata": {},
       "output_type": "pyout",
       "prompt_number": 111,
       "text": [
        "15.5"
       ]
      }
     ],
     "prompt_number": 111
    },
    {
     "cell_type": "markdown",
     "metadata": {},
     "source": [
      "## Look at distributions for both sentiment and stars!!!!!\n",
      "\n",
      "####what are good metrics for comparing sentiment to stars?\n",
      "\n",
      "- normalize and average positive/negative sentiment to average positive / negative stars\n",
      "- compare for an individual reviewer distributions of stars vs sentiment (find reviewer(s) who reviewed a lot)"
     ]
    },
    {
     "cell_type": "code",
     "collapsed": false,
     "input": [
      "def sentiment_distribution():\n",
      "    "
     ],
     "language": "python",
     "metadata": {},
     "outputs": [
      {
       "ename": "IndentationError",
       "evalue": "expected an indented block (<ipython-input-42-91b98d2f341a>, line 2)",
       "output_type": "pyerr",
       "traceback": [
        "\u001b[1;36m  File \u001b[1;32m\"<ipython-input-42-91b98d2f341a>\"\u001b[1;36m, line \u001b[1;32m2\u001b[0m\n\u001b[1;33m    \u001b[0m\n\u001b[1;37m    ^\u001b[0m\n\u001b[1;31mIndentationError\u001b[0m\u001b[1;31m:\u001b[0m expected an indented block\n"
       ]
      }
     ],
     "prompt_number": 42
    },
    {
     "cell_type": "code",
     "collapsed": false,
     "input": [
      "def star_distribution()"
     ],
     "language": "python",
     "metadata": {},
     "outputs": []
    },
    {
     "cell_type": "code",
     "collapsed": false,
     "input": [
      "#average ratio of words to stars\n",
      "s = 0\n",
      "n = 0\n",
      "for _, bus_id in bus_data['business_id'].iteritems():\n",
      "    s += ratio_words_to_stars(bus_id)\n",
      "    n += 1\n",
      "print float(s)/n"
     ],
     "language": "python",
     "metadata": {},
     "outputs": [],
     "prompt_number": 41
    },
    {
     "cell_type": "code",
     "collapsed": false,
     "input": [
      "import nltk.corpus as nlc"
     ],
     "language": "python",
     "metadata": {},
     "outputs": [],
     "prompt_number": 3
    },
    {
     "cell_type": "code",
     "collapsed": false,
     "input": [
      "#finding important words\n",
      "\n",
      "#remove stop words\n",
      "text = 'is this a thing i food item wings'\n",
      "text = [word for word in text.split() if word not in (nlc.stopwords.words('english'))]\n",
      "text"
     ],
     "language": "python",
     "metadata": {},
     "outputs": [
      {
       "metadata": {},
       "output_type": "pyout",
       "prompt_number": 8,
       "text": [
        "['thing', 'food', 'item', 'wings']"
       ]
      }
     ],
     "prompt_number": 8
    },
    {
     "cell_type": "code",
     "collapsed": false,
     "input": [
      "extract_review_indicies(bus_id)"
     ],
     "language": "python",
     "metadata": {},
     "outputs": [],
     "prompt_number": 5
    },
    {
     "cell_type": "code",
     "collapsed": false,
     "input": [],
     "language": "python",
     "metadata": {},
     "outputs": []
    },
    {
     "cell_type": "code",
     "collapsed": false,
     "input": [
      "from nltk.corpus import wordnet as wn\n",
      "\n",
      "food = wn.synset('food.n.02')\n",
      "foods_unparsed = [w for w in food.closure(lambda s:s.hyponyms())]\n",
      "f = [foods_unparsed[i].lemma_names for i in range(len(foods_unparsed))]"
     ],
     "language": "python",
     "metadata": {},
     "outputs": [],
     "prompt_number": 18
    },
    {
     "cell_type": "code",
     "collapsed": false,
     "input": [],
     "language": "python",
     "metadata": {},
     "outputs": [],
     "prompt_number": 21
    },
    {
     "cell_type": "code",
     "collapsed": false,
     "input": [],
     "language": "python",
     "metadata": {},
     "outputs": [],
     "prompt_number": 36
    },
    {
     "cell_type": "markdown",
     "metadata": {},
     "source": [
      "restaurant with most reviews"
     ]
    },
    {
     "cell_type": "code",
     "collapsed": false,
     "input": [
      "bus_data[bus_data['review_count'] == max(bus_data['review_count'])]['business_id']"
     ],
     "language": "python",
     "metadata": {},
     "outputs": [
      {
       "metadata": {},
       "output_type": "pyout",
       "prompt_number": 47,
       "text": [
        "11983    4bEjOyTaDG24SY5TxsaUNQ\n",
        "Name: business_id, dtype: object"
       ]
      }
     ],
     "prompt_number": 47
    },
    {
     "cell_type": "code",
     "collapsed": false,
     "input": [
      "print business_sentiment_score('4bEjOyTaDG24SY5TxsaUNQ')\n",
      "print float(bus_data[bus_data['business_id'] == '4bEjOyTaDG24SY5TxsaUNQ']['stars'])"
     ],
     "language": "python",
     "metadata": {},
     "outputs": [
      {
       "output_type": "stream",
       "stream": "stdout",
       "text": [
        "(35025, 540)\n",
        "4.0\n"
       ]
      }
     ],
     "prompt_number": 48
    },
    {
     "cell_type": "code",
     "collapsed": false,
     "input": [
      "# user with the most reviews\n",
      "user_data[user_data['review_count'] == max(user_data['review_count'])]"
     ],
     "language": "python",
     "metadata": {},
     "outputs": [
      {
       "html": [
        "<div style=\"max-height:1000px;max-width:1500px;overflow:auto;\">\n",
        "<table border=\"1\" class=\"dataframe\">\n",
        "  <thead>\n",
        "    <tr style=\"text-align: right;\">\n",
        "      <th></th>\n",
        "      <th>yelping_since</th>\n",
        "      <th>compliments.plain</th>\n",
        "      <th>compliments.more</th>\n",
        "      <th>elite</th>\n",
        "      <th>compliments.cute</th>\n",
        "      <th>compliments.writer</th>\n",
        "      <th>fans</th>\n",
        "      <th>compliments.note</th>\n",
        "      <th>type</th>\n",
        "      <th>compliments.hot</th>\n",
        "      <th>...</th>\n",
        "      <th>review_count</th>\n",
        "      <th>friends</th>\n",
        "      <th>name</th>\n",
        "      <th>user_id</th>\n",
        "      <th>votes.cool</th>\n",
        "      <th>compliments.list</th>\n",
        "      <th>votes.funny</th>\n",
        "      <th>compliments.photos</th>\n",
        "      <th>compliments.funny</th>\n",
        "      <th>votes.useful</th>\n",
        "    </tr>\n",
        "  </thead>\n",
        "  <tbody>\n",
        "    <tr>\n",
        "      <th>151430</th>\n",
        "      <td> 2007-12</td>\n",
        "      <td> 2085</td>\n",
        "      <td> 155</td>\n",
        "      <td> [2008, 2009, 2010, 2011, 2012, 2013, 2014]</td>\n",
        "      <td> 49</td>\n",
        "      <td> 831</td>\n",
        "      <td> 380</td>\n",
        "      <td> 573</td>\n",
        "      <td> user</td>\n",
        "      <td> 1427</td>\n",
        "      <td>...</td>\n",
        "      <td> 8062</td>\n",
        "      <td> ['8J4IIYcqBlFch8T90N923A', '-_1ctLaz3jhPYc12hK...</td>\n",
        "      <td> Victor</td>\n",
        "      <td> JLM36sYWmouJAZ2knzst7A</td>\n",
        "      <td> 17895</td>\n",
        "      <td> 69</td>\n",
        "      <td> 18079</td>\n",
        "      <td> 41</td>\n",
        "      <td> 526</td>\n",
        "      <td> 26615</td>\n",
        "    </tr>\n",
        "  </tbody>\n",
        "</table>\n",
        "<p>1 rows \u00d7 23 columns</p>\n",
        "</div>"
       ],
       "metadata": {},
       "output_type": "pyout",
       "prompt_number": 45,
       "text": [
        "       yelping_since  compliments.plain  compliments.more  \\\n",
        "151430       2007-12               2085               155   \n",
        "\n",
        "                                             elite  compliments.cute  \\\n",
        "151430  [2008, 2009, 2010, 2011, 2012, 2013, 2014]                49   \n",
        "\n",
        "        compliments.writer  fans  compliments.note  type  compliments.hot  \\\n",
        "151430                 831   380               573  user             1427   \n",
        "\n",
        "             ...         review_count  \\\n",
        "151430       ...                 8062   \n",
        "\n",
        "                                                  friends    name  \\\n",
        "151430  ['8J4IIYcqBlFch8T90N923A', '-_1ctLaz3jhPYc12hK...  Victor   \n",
        "\n",
        "                       user_id votes.cool compliments.list votes.funny  \\\n",
        "151430  JLM36sYWmouJAZ2knzst7A      17895               69       18079   \n",
        "\n",
        "        compliments.photos  compliments.funny  votes.useful  \n",
        "151430                  41                526         26615  \n",
        "\n",
        "[1 rows x 23 columns]"
       ]
      }
     ],
     "prompt_number": 45
    },
    {
     "cell_type": "code",
     "collapsed": false,
     "input": [],
     "language": "python",
     "metadata": {},
     "outputs": []
    },
    {
     "cell_type": "code",
     "collapsed": false,
     "input": [
      "def user_scoring_distribution(user_id, rev_data = rev_data):\n",
      "    user_scores = []\n",
      "    user_stars = []\n",
      "    for i, text in rev_data[rev_data['user_id'] == user_id]['text'].iteritems():\n",
      "#         print i, text\n",
      "        stars = rev_data.ix[i]['stars']\n",
      "        score = sentiment_score(text)\n",
      "        user_scores.append(score)\n",
      "        user_stars.append(stars)\n",
      "    return user_scores, user_stars"
     ],
     "language": "python",
     "metadata": {},
     "outputs": [],
     "prompt_number": 74
    },
    {
     "cell_type": "code",
     "collapsed": false,
     "input": [
      "user_scoring_distribution('JLM36sYWmouJAZ2knzst7A')"
     ],
     "language": "python",
     "metadata": {},
     "outputs": [
      {
       "metadata": {},
       "output_type": "pyout",
       "prompt_number": 75,
       "text": [
        "([3, -3, 2, 0, 6, 0], [3, 1, 3, 3, 3, 2])"
       ]
      }
     ],
     "prompt_number": 75
    },
    {
     "cell_type": "code",
     "collapsed": false,
     "input": [
      "user_scoring_distribution('H1kH6QZV7Le4zqTRNxoZow')"
     ],
     "language": "python",
     "metadata": {},
     "outputs": [
      {
       "metadata": {},
       "output_type": "pyout",
       "prompt_number": 76,
       "text": [
        "([-6], [2])"
       ]
      }
     ],
     "prompt_number": 76
    },
    {
     "cell_type": "code",
     "collapsed": false,
     "input": [
      "distributions = []\n",
      "for i, user in user_data['user_id'].iteritems():\n",
      "    score = user_scoring_distribution(user)\n",
      "    distributions.append(score)"
     ],
     "language": "python",
     "metadata": {},
     "outputs": [
      {
       "ename": "KeyboardInterrupt",
       "evalue": "",
       "output_type": "pyerr",
       "traceback": [
        "\u001b[1;31m---------------------------------------------------------------------------\u001b[0m\n\u001b[1;31mKeyboardInterrupt\u001b[0m                         Traceback (most recent call last)",
        "\u001b[1;32m<ipython-input-83-afe95879b152>\u001b[0m in \u001b[0;36m<module>\u001b[1;34m()\u001b[0m\n\u001b[0;32m      1\u001b[0m \u001b[0mdistributions\u001b[0m \u001b[1;33m=\u001b[0m \u001b[1;33m[\u001b[0m\u001b[1;33m]\u001b[0m\u001b[1;33m\u001b[0m\u001b[0m\n\u001b[0;32m      2\u001b[0m \u001b[1;32mfor\u001b[0m \u001b[0mi\u001b[0m\u001b[1;33m,\u001b[0m \u001b[0muser\u001b[0m \u001b[1;32min\u001b[0m \u001b[0muser_data\u001b[0m\u001b[1;33m[\u001b[0m\u001b[1;34m'user_id'\u001b[0m\u001b[1;33m]\u001b[0m\u001b[1;33m.\u001b[0m\u001b[0miteritems\u001b[0m\u001b[1;33m(\u001b[0m\u001b[1;33m)\u001b[0m\u001b[1;33m:\u001b[0m\u001b[1;33m\u001b[0m\u001b[0m\n\u001b[1;32m----> 3\u001b[1;33m     \u001b[0mscore\u001b[0m \u001b[1;33m=\u001b[0m \u001b[0muser_scoring_distribution\u001b[0m\u001b[1;33m(\u001b[0m\u001b[0muser\u001b[0m\u001b[1;33m)\u001b[0m\u001b[1;33m\u001b[0m\u001b[0m\n\u001b[0m\u001b[0;32m      4\u001b[0m     \u001b[0mdistributions\u001b[0m\u001b[1;33m.\u001b[0m\u001b[0mappend\u001b[0m\u001b[1;33m(\u001b[0m\u001b[0mscore\u001b[0m\u001b[1;33m)\u001b[0m\u001b[1;33m\u001b[0m\u001b[0m\n",
        "\u001b[1;32m<ipython-input-74-893b6c8e9d7f>\u001b[0m in \u001b[0;36muser_scoring_distribution\u001b[1;34m(user_id, rev_data)\u001b[0m\n\u001b[0;32m      2\u001b[0m     \u001b[0muser_scores\u001b[0m \u001b[1;33m=\u001b[0m \u001b[1;33m[\u001b[0m\u001b[1;33m]\u001b[0m\u001b[1;33m\u001b[0m\u001b[0m\n\u001b[0;32m      3\u001b[0m     \u001b[0muser_stars\u001b[0m \u001b[1;33m=\u001b[0m \u001b[1;33m[\u001b[0m\u001b[1;33m]\u001b[0m\u001b[1;33m\u001b[0m\u001b[0m\n\u001b[1;32m----> 4\u001b[1;33m     \u001b[1;32mfor\u001b[0m \u001b[0mi\u001b[0m\u001b[1;33m,\u001b[0m \u001b[0mtext\u001b[0m \u001b[1;32min\u001b[0m \u001b[0mrev_data\u001b[0m\u001b[1;33m[\u001b[0m\u001b[0mrev_data\u001b[0m\u001b[1;33m[\u001b[0m\u001b[1;34m'user_id'\u001b[0m\u001b[1;33m]\u001b[0m \u001b[1;33m==\u001b[0m \u001b[0muser_id\u001b[0m\u001b[1;33m]\u001b[0m\u001b[1;33m[\u001b[0m\u001b[1;34m'text'\u001b[0m\u001b[1;33m]\u001b[0m\u001b[1;33m.\u001b[0m\u001b[0miteritems\u001b[0m\u001b[1;33m(\u001b[0m\u001b[1;33m)\u001b[0m\u001b[1;33m:\u001b[0m\u001b[1;33m\u001b[0m\u001b[0m\n\u001b[0m\u001b[0;32m      5\u001b[0m \u001b[1;31m#         print i, text\u001b[0m\u001b[1;33m\u001b[0m\u001b[1;33m\u001b[0m\u001b[0m\n\u001b[0;32m      6\u001b[0m         \u001b[0mstars\u001b[0m \u001b[1;33m=\u001b[0m \u001b[0mrev_data\u001b[0m\u001b[1;33m.\u001b[0m\u001b[0mix\u001b[0m\u001b[1;33m[\u001b[0m\u001b[0mi\u001b[0m\u001b[1;33m]\u001b[0m\u001b[1;33m[\u001b[0m\u001b[1;34m'stars'\u001b[0m\u001b[1;33m]\u001b[0m\u001b[1;33m\u001b[0m\u001b[0m\n",
        "\u001b[1;32m/home/daniel/anaconda/lib/python2.7/site-packages/pandas/core/ops.pyc\u001b[0m in \u001b[0;36mwrapper\u001b[1;34m(self, other)\u001b[0m\n\u001b[0;32m    561\u001b[0m         \u001b[1;32melse\u001b[0m\u001b[1;33m:\u001b[0m\u001b[1;33m\u001b[0m\u001b[0m\n\u001b[0;32m    562\u001b[0m \u001b[1;33m\u001b[0m\u001b[0m\n\u001b[1;32m--> 563\u001b[1;33m             \u001b[0mmask\u001b[0m \u001b[1;33m=\u001b[0m \u001b[0misnull\u001b[0m\u001b[1;33m(\u001b[0m\u001b[0mself\u001b[0m\u001b[1;33m)\u001b[0m\u001b[1;33m\u001b[0m\u001b[0m\n\u001b[0m\u001b[0;32m    564\u001b[0m \u001b[1;33m\u001b[0m\u001b[0m\n\u001b[0;32m    565\u001b[0m             \u001b[0mvalues\u001b[0m \u001b[1;33m=\u001b[0m \u001b[0mself\u001b[0m\u001b[1;33m.\u001b[0m\u001b[0mvalues\u001b[0m\u001b[1;33m\u001b[0m\u001b[0m\n",
        "\u001b[1;32m/home/daniel/anaconda/lib/python2.7/site-packages/pandas/core/common.pyc\u001b[0m in \u001b[0;36misnull\u001b[1;34m(obj)\u001b[0m\n\u001b[0;32m    127\u001b[0m     \u001b[0mpandas\u001b[0m\u001b[1;33m.\u001b[0m\u001b[0mnotnull\u001b[0m\u001b[1;33m:\u001b[0m \u001b[0mboolean\u001b[0m \u001b[0minverse\u001b[0m \u001b[0mof\u001b[0m \u001b[0mpandas\u001b[0m\u001b[1;33m.\u001b[0m\u001b[0misnull\u001b[0m\u001b[1;33m\u001b[0m\u001b[0m\n\u001b[0;32m    128\u001b[0m     \"\"\"\n\u001b[1;32m--> 129\u001b[1;33m     \u001b[1;32mreturn\u001b[0m \u001b[0m_isnull\u001b[0m\u001b[1;33m(\u001b[0m\u001b[0mobj\u001b[0m\u001b[1;33m)\u001b[0m\u001b[1;33m\u001b[0m\u001b[0m\n\u001b[0m\u001b[0;32m    130\u001b[0m \u001b[1;33m\u001b[0m\u001b[0m\n\u001b[0;32m    131\u001b[0m \u001b[1;33m\u001b[0m\u001b[0m\n",
        "\u001b[1;32m/home/daniel/anaconda/lib/python2.7/site-packages/pandas/core/common.pyc\u001b[0m in \u001b[0;36m_isnull_new\u001b[1;34m(obj)\u001b[0m\n\u001b[0;32m    137\u001b[0m         \u001b[1;32mraise\u001b[0m \u001b[0mNotImplementedError\u001b[0m\u001b[1;33m(\u001b[0m\u001b[1;34m\"isnull is not defined for MultiIndex\"\u001b[0m\u001b[1;33m)\u001b[0m\u001b[1;33m\u001b[0m\u001b[0m\n\u001b[0;32m    138\u001b[0m     \u001b[1;32melif\u001b[0m \u001b[0misinstance\u001b[0m\u001b[1;33m(\u001b[0m\u001b[0mobj\u001b[0m\u001b[1;33m,\u001b[0m \u001b[1;33m(\u001b[0m\u001b[0mABCSeries\u001b[0m\u001b[1;33m,\u001b[0m \u001b[0mnp\u001b[0m\u001b[1;33m.\u001b[0m\u001b[0mndarray\u001b[0m\u001b[1;33m)\u001b[0m\u001b[1;33m)\u001b[0m\u001b[1;33m:\u001b[0m\u001b[1;33m\u001b[0m\u001b[0m\n\u001b[1;32m--> 139\u001b[1;33m         \u001b[1;32mreturn\u001b[0m \u001b[0m_isnull_ndarraylike\u001b[0m\u001b[1;33m(\u001b[0m\u001b[0mobj\u001b[0m\u001b[1;33m)\u001b[0m\u001b[1;33m\u001b[0m\u001b[0m\n\u001b[0m\u001b[0;32m    140\u001b[0m     \u001b[1;32melif\u001b[0m \u001b[0misinstance\u001b[0m\u001b[1;33m(\u001b[0m\u001b[0mobj\u001b[0m\u001b[1;33m,\u001b[0m \u001b[0mABCGeneric\u001b[0m\u001b[1;33m)\u001b[0m\u001b[1;33m:\u001b[0m\u001b[1;33m\u001b[0m\u001b[0m\n\u001b[0;32m    141\u001b[0m         \u001b[1;32mreturn\u001b[0m \u001b[0mobj\u001b[0m\u001b[1;33m.\u001b[0m\u001b[0m_constructor\u001b[0m\u001b[1;33m(\u001b[0m\u001b[0mobj\u001b[0m\u001b[1;33m.\u001b[0m\u001b[0m_data\u001b[0m\u001b[1;33m.\u001b[0m\u001b[0misnull\u001b[0m\u001b[1;33m(\u001b[0m\u001b[0mfunc\u001b[0m\u001b[1;33m=\u001b[0m\u001b[0misnull\u001b[0m\u001b[1;33m)\u001b[0m\u001b[1;33m)\u001b[0m\u001b[1;33m\u001b[0m\u001b[0m\n",
        "\u001b[1;32m/home/daniel/anaconda/lib/python2.7/site-packages/pandas/core/common.pyc\u001b[0m in \u001b[0;36m_isnull_ndarraylike\u001b[1;34m(obj)\u001b[0m\n\u001b[0;32m    213\u001b[0m         \u001b[1;32melse\u001b[0m\u001b[1;33m:\u001b[0m\u001b[1;33m\u001b[0m\u001b[0m\n\u001b[0;32m    214\u001b[0m             \u001b[0mresult\u001b[0m \u001b[1;33m=\u001b[0m \u001b[0mnp\u001b[0m\u001b[1;33m.\u001b[0m\u001b[0mempty\u001b[0m\u001b[1;33m(\u001b[0m\u001b[0mshape\u001b[0m\u001b[1;33m,\u001b[0m \u001b[0mdtype\u001b[0m\u001b[1;33m=\u001b[0m\u001b[0mbool\u001b[0m\u001b[1;33m)\u001b[0m\u001b[1;33m\u001b[0m\u001b[0m\n\u001b[1;32m--> 215\u001b[1;33m             \u001b[0mvec\u001b[0m \u001b[1;33m=\u001b[0m \u001b[0mlib\u001b[0m\u001b[1;33m.\u001b[0m\u001b[0misnullobj\u001b[0m\u001b[1;33m(\u001b[0m\u001b[0mvalues\u001b[0m\u001b[1;33m.\u001b[0m\u001b[0mravel\u001b[0m\u001b[1;33m(\u001b[0m\u001b[1;33m)\u001b[0m\u001b[1;33m)\u001b[0m\u001b[1;33m\u001b[0m\u001b[0m\n\u001b[0m\u001b[0;32m    216\u001b[0m             \u001b[0mresult\u001b[0m\u001b[1;33m[\u001b[0m\u001b[1;33m.\u001b[0m\u001b[1;33m.\u001b[0m\u001b[1;33m.\u001b[0m\u001b[1;33m]\u001b[0m \u001b[1;33m=\u001b[0m \u001b[0mvec\u001b[0m\u001b[1;33m.\u001b[0m\u001b[0mreshape\u001b[0m\u001b[1;33m(\u001b[0m\u001b[0mshape\u001b[0m\u001b[1;33m)\u001b[0m\u001b[1;33m\u001b[0m\u001b[0m\n\u001b[0;32m    217\u001b[0m \u001b[1;33m\u001b[0m\u001b[0m\n",
        "\u001b[1;31mKeyboardInterrupt\u001b[0m: "
       ]
      }
     ],
     "prompt_number": 83
    },
    {
     "cell_type": "code",
     "collapsed": false,
     "input": [
      "distributions"
     ],
     "language": "python",
     "metadata": {},
     "outputs": []
    },
    {
     "cell_type": "code",
     "collapsed": false,
     "input": [],
     "language": "python",
     "metadata": {},
     "outputs": []
    }
   ],
   "metadata": {}
  }
 ]
}