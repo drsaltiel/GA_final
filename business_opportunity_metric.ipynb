{
 "metadata": {
  "name": "",
  "signature": "sha256:239491839272edc9f8968d1ba1cfa67d092bacb9f32c682c6b70ab79c266ee8f"
 },
 "nbformat": 3,
 "nbformat_minor": 0,
 "worksheets": [
  {
   "cells": [
    {
     "cell_type": "markdown",
     "metadata": {},
     "source": [
      "find ave distance between business and same type of business as feature for business opportunities\n",
      "- density of businessess/businessess i'm intersted in on a bin and normalize\n",
      "- want place with a lot of businesses but not of given type\n",
      "- for test, draw a line in time: train on existing businessess before line and test on businessess born after that line\n",
      "    -use earliest review as 'open date'\n",
      "- metric for sucess = number of reviews?\n"
     ]
    },
    {
     "cell_type": "code",
     "collapsed": false,
     "input": [
      "import pandas as pd\n",
      "bus_data=pd.read_csv('yelp_academic_dataset_business.csv')\n",
      "rev_data=pd.read_csv('yelp_academic_dataset_review.csv')"
     ],
     "language": "python",
     "metadata": {},
     "outputs": [
      {
       "output_type": "stream",
       "stream": "stderr",
       "text": [
        "/home/daniel/anaconda/lib/python2.7/site-packages/pandas/io/parsers.py:1139: DtypeWarning: Columns (1,4,7,14,18,21,27,30,43,49,52,62,64,66,70,84,89,92,100) have mixed types. Specify dtype option on import or set low_memory=False.\n",
        "  data = self._reader.read(nrows)\n"
       ]
      }
     ],
     "prompt_number": 2
    },
    {
     "cell_type": "code",
     "collapsed": false,
     "input": [
      "import numpy as np\n",
      "import math as math\n",
      "def coord_distance(point1, point2, scale = 'miles'):\n",
      "    '''\n",
      "    finds the distance between two coordinate locations given as\n",
      "    (longitude, latitude)\n",
      "    uses Haversine formula\n",
      "    '''\n",
      "    if len(point1) != 2 or len(point2) != 2:\n",
      "        raise ValueError('Input(s) do not have correct dimensions')\n",
      "    if scale == 'miles': R=3963\n",
      "    elif scale == 'kilometers': R=6373\n",
      "    else: raise ValueError('Need valid scale (miles or kilometers)')\n",
      "    dLat = (point1[1] - point2[1])*np.pi / 180\n",
      "    dLong = (point1[0] - point2[0])*np.pi / 180\n",
      "    a = np.sin(dLat/2) * np.sin(dLat/2) + np.cos(point1[1]*np.pi/180) \\\n",
      "        * np.cos(point2[1]*np.pi/180) * np.sin(dLong/2) * np.sin(dLong/2)\n",
      "    c = 2 * math.atan2(np.sqrt(a), np.sqrt(1-a))\n",
      "    return R*c"
     ],
     "language": "python",
     "metadata": {},
     "outputs": [],
     "prompt_number": 6
    },
    {
     "cell_type": "code",
     "collapsed": false,
     "input": [
      "def ave_min_distance(category, city_data):\n",
      "    '''\n",
      "    returns the average minimum distance from any given business to a business of input category\n",
      "    '''\n",
      "    category_businesses = city_data[[category in j for i, j in city_data['categories'].iteritems()]]\n",
      "    category_bus_coordinates = []\n",
      "    for k, l in category_businesses['latitude'].iteritems():\n",
      "        category_bus_coordinates.append((category_businesses['longitude'][k], category_businesses['latitude'][k]))\n",
      "    coordinates_set = []\n",
      "    for k, l in city_data['latitude'].iteritems():\n",
      "        coordinates_set.append((city_data['longitude'][k], city_data['latitude'][k]))\n",
      "    sum_distances = 0\n",
      "    num_distances = 0\n",
      "    for coord in coordinates_set:\n",
      "        closest_dist = min([coord_distance(coord, cat_bus) for cat_bus in category_bus_coordinates if cat_bus != coord])\n",
      "        sum_distances += closest_dist\n",
      "        num_distances += 1\n",
      "    ave_min_distance = sum_distances / num_distances\n",
      "    return(ave_min_distance)"
     ],
     "language": "python",
     "metadata": {},
     "outputs": [],
     "prompt_number": 4
    },
    {
     "cell_type": "code",
     "collapsed": false,
     "input": [
      "def ave_min_distance_of_same_type(category, city_data):\n",
      "    '''\n",
      "    returns the average minimum distance from any given business to a business of the same type in category\n",
      "    '''\n",
      "    category_businesses = city_data[[category in j for i, j in city_data['categories'].iteritems()]]\n",
      "    category_bus_coordinates = []\n",
      "    for k, l in category_businesses['latitude'].iteritems():\n",
      "        category_bus_coordinates.append((category_businesses['longitude'][k], category_businesses['latitude'][k]))\n",
      "#     return category_bus_coordinates\n",
      "    sum_distances = 0\n",
      "    num_distances = 0\n",
      "    for coord in category_bus_coordinates:\n",
      "        cat_other_bus = category_bus_coordinates#.remove(coord) #need to change this to get rid of business itself\n",
      "        closest_dist = min([coord_distance(coord, cat_bus) for cat_bus in cat_other_bus if cat_bus != coord])\n",
      "        sum_distances += closest_dist\n",
      "        num_distances += 1\n",
      "    ave_min_distance = sum_distances / num_distances\n",
      "    return(ave_min_distance)"
     ],
     "language": "python",
     "metadata": {},
     "outputs": [],
     "prompt_number": 5
    },
    {
     "cell_type": "code",
     "collapsed": false,
     "input": [
      "bus_data['open']"
     ],
     "language": "python",
     "metadata": {},
     "outputs": [
      {
       "metadata": {},
       "output_type": "pyout",
       "prompt_number": 7,
       "text": [
        "0      True\n",
        "1      True\n",
        "2      True\n",
        "3      True\n",
        "4      True\n",
        "5     False\n",
        "6      True\n",
        "7      True\n",
        "8      True\n",
        "9      True\n",
        "10     True\n",
        "11     True\n",
        "12     True\n",
        "13     True\n",
        "14     True\n",
        "...\n",
        "42138    True\n",
        "42139    True\n",
        "42140    True\n",
        "42141    True\n",
        "42142    True\n",
        "42143    True\n",
        "42144    True\n",
        "42145    True\n",
        "42146    True\n",
        "42147    True\n",
        "42148    True\n",
        "42149    True\n",
        "42150    True\n",
        "42151    True\n",
        "42152    True\n",
        "Name: open, Length: 42153, dtype: bool"
       ]
      }
     ],
     "prompt_number": 7
    },
    {
     "cell_type": "code",
     "collapsed": false,
     "input": [],
     "language": "python",
     "metadata": {},
     "outputs": []
    }
   ],
   "metadata": {}
  }
 ]
}