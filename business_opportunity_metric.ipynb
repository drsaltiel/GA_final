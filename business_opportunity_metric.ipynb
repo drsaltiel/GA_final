{
 "metadata": {
  "name": "",
  "signature": "sha256:73756633489fef68aede479cd667dcb63f439f8a8aaf362b9714a1b152292237"
 },
 "nbformat": 3,
 "nbformat_minor": 0,
 "worksheets": [
  {
   "cells": [
    {
     "cell_type": "markdown",
     "metadata": {},
     "source": [
      "find ave distance between business and same type of business as feature for business opportunities\n",
      "- density of businessess/businessess i'm intersted in on a bin and normalize\n",
      "        -bin size = average minimum distance?\n",
      "            -ave per bin ~ 1 (would be one for circle but will use boxes), more than 1 = opportunity, less than 1 = oversaturated\n",
      "- want place with a lot of businesses but not of given type\n",
      "- for test, draw a line in time: train on existing businessess before line and test on businessess born after that line\n",
      "    -use earliest review as 'open date'\n",
      "- metric for sucess = number of reviews?\n"
     ]
    },
    {
     "cell_type": "code",
     "collapsed": false,
     "input": [
      "import pandas as pd\n",
      "bus_data=pd.read_csv('yelp_academic_dataset_business.csv')\n",
      "rev_data=pd.read_csv('yelp_academic_dataset_review.csv')"
     ],
     "language": "python",
     "metadata": {},
     "outputs": [
      {
       "output_type": "stream",
       "stream": "stderr",
       "text": [
        "/home/daniel/anaconda/lib/python2.7/site-packages/pandas/io/parsers.py:1139: DtypeWarning: Columns (1,4,7,14,18,21,27,30,43,49,52,62,64,66,70,84,89,92,100) have mixed types. Specify dtype option on import or set low_memory=False.\n",
        "  data = self._reader.read(nrows)\n"
       ]
      }
     ],
     "prompt_number": 1
    },
    {
     "cell_type": "code",
     "collapsed": false,
     "input": [
      "LV = bus_data[bus_data['city']== 'Las Vegas']"
     ],
     "language": "python",
     "metadata": {},
     "outputs": [],
     "prompt_number": 2
    },
    {
     "cell_type": "code",
     "collapsed": false,
     "input": [
      "import numpy as np\n",
      "import math as math\n",
      "def coord_distance(point1, point2, scale = 'miles'):\n",
      "    '''\n",
      "    finds the distance between two coordinate locations given as\n",
      "    (longitude, latitude)\n",
      "    uses Haversine formula\n",
      "    '''\n",
      "    if len(point1) != 2 or len(point2) != 2:\n",
      "        raise ValueError('Input(s) do not have correct dimensions')\n",
      "    if scale == 'miles': R=3963\n",
      "    elif scale == 'kilometers': R=6373\n",
      "    else: raise ValueError('Need valid scale (miles or kilometers)')\n",
      "    dLat = (point1[1] - point2[1])*np.pi / 180\n",
      "    dLong = (point1[0] - point2[0])*np.pi / 180\n",
      "    a = np.sin(dLat/2) * np.sin(dLat/2) + np.cos(point1[1]*np.pi/180) \\\n",
      "        * np.cos(point2[1]*np.pi/180) * np.sin(dLong/2) * np.sin(dLong/2)\n",
      "    c = 2 * math.atan2(np.sqrt(a), np.sqrt(1-a))\n",
      "    return R*c"
     ],
     "language": "python",
     "metadata": {},
     "outputs": [],
     "prompt_number": 3
    },
    {
     "cell_type": "code",
     "collapsed": false,
     "input": [
      "def ave_min_distance(category, city_data):\n",
      "    '''\n",
      "    returns the average minimum distance from any given business to a business of input category\n",
      "    '''\n",
      "    category_businesses = city_data[[category in j for i, j in city_data['categories'].iteritems()]]\n",
      "    category_bus_coordinates = []\n",
      "    for k, l in category_businesses['latitude'].iteritems():\n",
      "        category_bus_coordinates.append((category_businesses['longitude'][k], category_businesses['latitude'][k]))\n",
      "    coordinates_set = []\n",
      "    for k, l in city_data['latitude'].iteritems():\n",
      "        coordinates_set.append((city_data['longitude'][k], city_data['latitude'][k]))\n",
      "    sum_distances = 0\n",
      "    num_distances = 0\n",
      "    for coord in coordinates_set:\n",
      "        closest_dist = min([coord_distance(coord, cat_bus) for cat_bus in category_bus_coordinates if cat_bus != coord])\n",
      "        sum_distances += closest_dist\n",
      "        num_distances += 1\n",
      "    ave_min_distance = sum_distances / num_distances\n",
      "    return(ave_min_distance)"
     ],
     "language": "python",
     "metadata": {},
     "outputs": [],
     "prompt_number": 4
    },
    {
     "cell_type": "code",
     "collapsed": false,
     "input": [
      "def ave_min_distance_of_same_type(category, city_data):\n",
      "    '''\n",
      "    returns the average minimum distance from any given business to a business of the same type in category\n",
      "    '''\n",
      "    category_businesses = city_data[[category in j for i, j in city_data['categories'].iteritems()]]\n",
      "    category_bus_coordinates = []\n",
      "    for k, l in category_businesses['latitude'].iteritems():\n",
      "        category_bus_coordinates.append((category_businesses['longitude'][k], category_businesses['latitude'][k]))\n",
      "#     return category_bus_coordinates\n",
      "    sum_distances = 0\n",
      "    num_distances = 0\n",
      "    for coord in category_bus_coordinates:\n",
      "        cat_other_bus = category_bus_coordinates#.remove(coord) #need to change this to get rid of business itself\n",
      "        closest_dist = min([coord_distance(coord, cat_bus) for cat_bus in cat_other_bus if cat_bus != coord])\n",
      "        sum_distances += closest_dist\n",
      "        num_distances += 1\n",
      "    ave_min_distance = sum_distances / num_distances\n",
      "    return(ave_min_distance)"
     ],
     "language": "python",
     "metadata": {},
     "outputs": [],
     "prompt_number": 5
    },
    {
     "cell_type": "code",
     "collapsed": false,
     "input": [
      "def bin_business_category(category, num_bins, city=LV):\n",
      "    '''\n",
      "    returns list of bins with number of category businesses\n",
      "    '''\n",
      "    max_lat, min_lat, max_lon, min_lon = city_edges(city)\n",
      "    \n",
      "    dlon = (max_lon - min_lon) / num_bins\n",
      "    dlat = (max_lat - min_lat) / num_bins\n",
      "    \n",
      "    cat_bus = city[[category in j for i, j in city['categories'].iteritems()]]\n",
      "    \n",
      "    matrix = []\n",
      "    for i in xrange(num_bins):\n",
      "        matrix.append([])\n",
      "        for j in xrange(num_bins):\n",
      "            num_category = 0\n",
      "            for k, bus in cat_bus['latitude'].iteritems():\n",
      "                if cat_bus['latitude'][k]>((i*dlat)+min_lat) and cat_bus['latitude'][k]<(((i+1)*dlat)+min_lat) \\\n",
      "                and cat_bus['longitude'][k]>((j*dlon)+min_lon) and cat_bus['longitude'][k]<(((j+1)*dlon)+min_lon):\n",
      "                    num_category+=1\n",
      "            matrix[i].append(num_category)\n",
      "    return matrix"
     ],
     "language": "python",
     "metadata": {},
     "outputs": [],
     "prompt_number": 60
    },
    {
     "cell_type": "code",
     "collapsed": false,
     "input": [
      "def bin_business(num_bins, city=LV):\n",
      "    '''\n",
      "    returns list of businesses in bins\n",
      "    '''\n",
      "    max_lat, min_lat, max_lon, min_lon = city_edges(city)\n",
      "    \n",
      "    dlon = (max_lon - min_lon) / num_bins\n",
      "    dlat = (max_lat - min_lat) / num_bins\n",
      "    \n",
      "    matrix = []\n",
      "    for i in xrange(num_bins):\n",
      "        matrix.append([])\n",
      "        for j in xrange(num_bins):\n",
      "            num_category = 0\n",
      "            for k, bus in city['latitude'].iteritems():\n",
      "                if city['latitude'][k]>((i*dlat)+min_lat) and city['latitude'][k]<(((i+1)*dlat)+min_lat) \\\n",
      "                and city['longitude'][k]>((j*dlon)+min_lon) and city['longitude'][k]<(((j+1)*dlon)+min_lon):\n",
      "                    num_category+=1\n",
      "            matrix[i].append(num_category)\n",
      "    return matrix"
     ],
     "language": "python",
     "metadata": {},
     "outputs": [],
     "prompt_number": 65
    },
    {
     "cell_type": "code",
     "collapsed": false,
     "input": [
      "def city_edges(city = LV):\n",
      "    '''\n",
      "    returns max latitude, min latitude, max longitude, min longitude\n",
      "    '''\n",
      "    lat_set = []\n",
      "    lon_set = []\n",
      "    for k, l in city['latitude'].iteritems():\n",
      "        lat_set.append( city['latitude'][k] )\n",
      "        lon_set.append( city['longitude'][k] )\n",
      "    return max(lat_set), min(lat_set), max(lon_set), min(lon_set)"
     ],
     "language": "python",
     "metadata": {},
     "outputs": [],
     "prompt_number": 7
    },
    {
     "cell_type": "code",
     "collapsed": false,
     "input": [
      "city_edges(LV)"
     ],
     "language": "python",
     "metadata": {},
     "outputs": [
      {
       "metadata": {},
       "output_type": "pyout",
       "prompt_number": 8,
       "text": [
        "(36.335886388500001, 35.950984999999996, -114.9198153, -115.369725428)"
       ]
      }
     ],
     "prompt_number": 8
    },
    {
     "cell_type": "code",
     "collapsed": false,
     "input": [
      "a = bin_business_categories('Chinese',10,LV)"
     ],
     "language": "python",
     "metadata": {},
     "outputs": [],
     "prompt_number": 58
    },
    {
     "cell_type": "code",
     "collapsed": false,
     "input": [
      "a"
     ],
     "language": "python",
     "metadata": {},
     "outputs": [
      {
       "metadata": {},
       "output_type": "pyout",
       "prompt_number": 59,
       "text": [
        "[[0, 0, 0, 0, 0, 0, 0, 0, 0, 0],\n",
        " [0, 0, 2, 1, 2, 8, 0, 0, 0, 0],\n",
        " [0, 0, 7, 3, 2, 3, 0, 1, 0, 0],\n",
        " [0, 5, 3, 4, 9, 6, 3, 2, 0, 0],\n",
        " [0, 3, 9, 74, 43, 8, 7, 0, 0, 0],\n",
        " [3, 6, 7, 10, 6, 8, 5, 1, 0, 0],\n",
        " [0, 3, 8, 2, 1, 0, 0, 1, 0, 0],\n",
        " [1, 0, 0, 2, 1, 0, 1, 0, 0, 0],\n",
        " [0, 2, 5, 2, 0, 0, 0, 0, 0, 0],\n",
        " [0, 1, 0, 0, 0, 0, 0, 0, 0, 0]]"
       ]
      }
     ],
     "prompt_number": 59
    },
    {
     "cell_type": "code",
     "collapsed": false,
     "input": [
      "b = bin_business(10, LV)"
     ],
     "language": "python",
     "metadata": {},
     "outputs": [],
     "prompt_number": 66
    },
    {
     "cell_type": "code",
     "collapsed": false,
     "input": [
      "b"
     ],
     "language": "python",
     "metadata": {},
     "outputs": [
      {
       "metadata": {},
       "output_type": "pyout",
       "prompt_number": 67,
       "text": [
        "[[0, 3, 0, 9, 8, 0, 0, 2, 0, 1],\n",
        " [0, 5, 45, 58, 138, 315, 5, 1, 1, 0],\n",
        " [1, 73, 328, 146, 248, 171, 4, 4, 0, 0],\n",
        " [2, 308, 161, 303, 677, 476, 98, 53, 3, 1],\n",
        " [34, 298, 350, 749, 1913, 447, 161, 11, 0, 0],\n",
        " [105, 410, 379, 474, 613, 647, 159, 23, 0, 0],\n",
        " [4, 189, 427, 121, 22, 14, 29, 17, 1, 0],\n",
        " [10, 17, 91, 99, 11, 5, 53, 11, 0, 0],\n",
        " [2, 123, 183, 70, 5, 3, 0, 11, 2, 0],\n",
        " [2, 36, 33, 3, 0, 1, 0, 2, 0, 0]]"
       ]
      }
     ],
     "prompt_number": 67
    },
    {
     "cell_type": "code",
     "collapsed": false,
     "input": [
      "c = []\n",
      "for i in xrange(len(a)):\n",
      "    c.append([])\n",
      "    for j in xrange(len(a[i])):\n",
      "        try: \n",
      "            ratio = a[i][j]/float(b[i][j])\n",
      "            c[i].append(ratio)\n",
      "        except ZeroDivisionError:\n",
      "            c[i].append(1)"
     ],
     "language": "python",
     "metadata": {},
     "outputs": [],
     "prompt_number": 108
    },
    {
     "cell_type": "code",
     "collapsed": false,
     "input": [
      "c"
     ],
     "language": "python",
     "metadata": {},
     "outputs": [
      {
       "metadata": {},
       "output_type": "pyout",
       "prompt_number": 109,
       "text": [
        "[[1, 0.0, 1, 0.0, 0.0, 1, 1, 0.0, 1, 0.0],\n",
        " [1,\n",
        "  0.0,\n",
        "  0.044444444444444446,\n",
        "  0.017241379310344827,\n",
        "  0.014492753623188406,\n",
        "  0.025396825396825397,\n",
        "  0.0,\n",
        "  0.0,\n",
        "  0.0,\n",
        "  1],\n",
        " [0.0,\n",
        "  0.0,\n",
        "  0.021341463414634148,\n",
        "  0.02054794520547945,\n",
        "  0.008064516129032258,\n",
        "  0.017543859649122806,\n",
        "  0.0,\n",
        "  0.25,\n",
        "  1,\n",
        "  1],\n",
        " [0.0,\n",
        "  0.016233766233766232,\n",
        "  0.018633540372670808,\n",
        "  0.013201320132013201,\n",
        "  0.013293943870014771,\n",
        "  0.012605042016806723,\n",
        "  0.030612244897959183,\n",
        "  0.03773584905660377,\n",
        "  0.0,\n",
        "  0.0],\n",
        " [0.0,\n",
        "  0.010067114093959731,\n",
        "  0.025714285714285714,\n",
        "  0.09879839786381843,\n",
        "  0.02247778358599059,\n",
        "  0.017897091722595078,\n",
        "  0.043478260869565216,\n",
        "  0.0,\n",
        "  1,\n",
        "  1],\n",
        " [0.02857142857142857,\n",
        "  0.014634146341463415,\n",
        "  0.018469656992084433,\n",
        "  0.02109704641350211,\n",
        "  0.009787928221859706,\n",
        "  0.012364760432766615,\n",
        "  0.031446540880503145,\n",
        "  0.043478260869565216,\n",
        "  1,\n",
        "  1],\n",
        " [0.0,\n",
        "  0.015873015873015872,\n",
        "  0.01873536299765808,\n",
        "  0.01652892561983471,\n",
        "  0.045454545454545456,\n",
        "  0.0,\n",
        "  0.0,\n",
        "  0.058823529411764705,\n",
        "  0.0,\n",
        "  1],\n",
        " [0.1,\n",
        "  0.0,\n",
        "  0.0,\n",
        "  0.020202020202020204,\n",
        "  0.09090909090909091,\n",
        "  0.0,\n",
        "  0.018867924528301886,\n",
        "  0.0,\n",
        "  1,\n",
        "  1],\n",
        " [0.0,\n",
        "  0.016260162601626018,\n",
        "  0.0273224043715847,\n",
        "  0.02857142857142857,\n",
        "  0.0,\n",
        "  0.0,\n",
        "  1,\n",
        "  0.0,\n",
        "  0.0,\n",
        "  1],\n",
        " [0.0, 0.027777777777777776, 0.0, 0.0, 1, 0.0, 1, 0.0, 1, 1]]"
       ]
      }
     ],
     "prompt_number": 109
    },
    {
     "cell_type": "code",
     "collapsed": false,
     "input": [
      "import matplotlib.pyplot as plt\n",
      "%matplotlib inline\n",
      "\n",
      "plt.imshow(c, interpolation='none')\n",
      "\n",
      "max_lat, min_lat, max_lon, min_lon = city_edges(LV)\n",
      "plt.xticks([0,len(c[0])],[min_lon, max_lon])\n",
      "plt.yticks([0,len(c)],[min_lat, max_lat])\n",
      "\n",
      "plt.jet()\n",
      "cb = plt.colorbar()\n",
      "cb.set_ticks([1, 0])  \n",
      "cb.set_ticklabels(['bad', 'great!'])  # put text labels on them"
     ],
     "language": "python",
     "metadata": {},
     "outputs": [
      {
       "metadata": {},
       "output_type": "display_data",
       "png": "[encoded data removed]",
       "text": [
        "<matplotlib.figure.Figure at 0x7f1f21fcbc10>"
       ]
      }
     ],
     "prompt_number": 124
    },
    {
     "cell_type": "code",
     "collapsed": false,
     "input": [],
     "language": "python",
     "metadata": {},
     "outputs": []
    }
   ],
   "metadata": {}
  }
 ]
}