{
 "metadata": {
  "name": "",
  "signature": "sha256:adc863667557d5eaa9a1208e4f790250fd533ee708c1302cb4016411c30cdf1a"
 },
 "nbformat": 3,
 "nbformat_minor": 0,
 "worksheets": [
  {
   "cells": [
    {
     "cell_type": "markdown",
     "metadata": {},
     "source": [
      "find ave distance between business and same type of business as feature for business opportunities\n",
      "- density of businessess/businessess i'm intersted in on a bin and normalize\n",
      "        -bin size = average minimum distance?\n",
      "            -ave per bin ~ 1 (would be one for circle but will use boxes), more than 1 = opportunity, less than 1 = oversaturated\n",
      "- want place with a lot of businesses but not of given type\n",
      "- for test, draw a line in time: train on existing businessess before line and test on businessess born after that line\n",
      "    -use earliest review as 'open date'\n",
      "- metric for sucess = number of reviews?\n"
     ]
    },
    {
     "cell_type": "code",
     "collapsed": false,
     "input": [
      "import pandas as pd\n",
      "bus_data=pd.read_csv('yelp_academic_dataset_business.csv')\n",
      "rev_data=pd.read_csv('yelp_academic_dataset_review.csv')"
     ],
     "language": "python",
     "metadata": {},
     "outputs": [
      {
       "output_type": "stream",
       "stream": "stderr",
       "text": [
        "/home/daniel/anaconda/lib/python2.7/site-packages/pandas/io/parsers.py:1139: DtypeWarning: Columns (1,4,7,14,18,21,27,30,43,49,52,62,64,66,70,84,89,92,100) have mixed types. Specify dtype option on import or set low_memory=False.\n",
        "  data = self._reader.read(nrows)\n"
       ]
      }
     ],
     "prompt_number": 1
    },
    {
     "cell_type": "code",
     "collapsed": false,
     "input": [
      "LV = bus_data[bus_data['city']== 'Las Vegas']"
     ],
     "language": "python",
     "metadata": {},
     "outputs": [],
     "prompt_number": 2
    },
    {
     "cell_type": "code",
     "collapsed": false,
     "input": [
      "import numpy as np\n",
      "import math as math\n",
      "\n",
      "\n",
      "def coord_distance(point1, point2, scale='miles'):\n",
      "    '''\n",
      "    finds the distance between two coordinate locations given as\n",
      "    (longitude, latitude)\n",
      "    uses Haversine formula\n",
      "    '''\n",
      "    if len(point1) != 2 or len(point2) != 2:\n",
      "        raise ValueError('Input(s) do not have correct dimensions')\n",
      "    if scale == 'miles': \n",
      "        R = 3963\n",
      "    elif scale == 'kilometers': \n",
      "        R = 6373\n",
      "    else: \n",
      "        raise ValueError('Need valid scale (miles or kilometers)')\n",
      "    dLat = (point1[1] - point2[1]) * np.pi / 180\n",
      "    dLong = (point1[0] - point2[0]) * np.pi / 180\n",
      "    a = np.sin(dLat / 2) * np.sin(dLat / 2) + np.cos(point1[1] * np.pi / 180) \\\n",
      "        * np.cos(point2[1] * np.pi / 180) * np.sin(dLong / 2) * np.sin(dLong / 2)\n",
      "    c = 2 * math.atan2(np.sqrt(a), np.sqrt(1 - a))\n",
      "    return R*c"
     ],
     "language": "python",
     "metadata": {},
     "outputs": [],
     "prompt_number": 3
    },
    {
     "cell_type": "code",
     "collapsed": false,
     "input": [
      "def ave_min_distance(category, city_data):\n",
      "    '''\n",
      "    returns the average minimum distance from any given business to a business of input category\n",
      "    '''\n",
      "    category_businesses = city_data[[category in cats for i, cats in city_data['categories'].iteritems()]]\n",
      "    category_bus_coordinates = []\n",
      "    for k, l in category_businesses['latitude'].iteritems():\n",
      "        category_bus_coordinates.append((category_businesses['longitude'][k], category_businesses['latitude'][k]))\n",
      "    coordinates_set = []\n",
      "    for k, l in city_data['latitude'].iteritems():\n",
      "        coordinates_set.append((city_data['longitude'][k], city_data['latitude'][k]))\n",
      "    sum_distances = 0\n",
      "    num_distances = 0\n",
      "    for coord in coordinates_set:\n",
      "        closest_dist = min([coord_distance(coord, cat_bus) for cat_bus in category_bus_coordinates if cat_bus != coord])\n",
      "        sum_distances += closest_dist\n",
      "        num_distances += 1\n",
      "    ave_min_distance = sum_distances / num_distances\n",
      "    return(ave_min_distance)"
     ],
     "language": "python",
     "metadata": {},
     "outputs": [],
     "prompt_number": 4
    },
    {
     "cell_type": "code",
     "collapsed": false,
     "input": [
      "def ave_min_distance_of_same_type(category, city_data):\n",
      "    '''\n",
      "    returns the average minimum distance from any given business to a business of the same type in category\n",
      "    '''\n",
      "    category_businesses = city_data[[category in j for i, j in city_data['categories'].iteritems()]]\n",
      "    category_bus_coordinates = []\n",
      "    for k, l in category_businesses['latitude'].iteritems():\n",
      "        category_bus_coordinates.append((category_businesses['longitude'][k], category_businesses['latitude'][k]))\n",
      "#     return category_bus_coordinates\n",
      "    sum_distances = 0\n",
      "    num_distances = 0\n",
      "    for coord in category_bus_coordinates:\n",
      "        cat_other_bus = category_bus_coordinates#.remove(coord) #need to change this to get rid of business itself\n",
      "        closest_dist = min([coord_distance(coord, cat_bus) for cat_bus in cat_other_bus if cat_bus != coord])\n",
      "        sum_distances += closest_dist\n",
      "        num_distances += 1\n",
      "    ave_min_distance = sum_distances / num_distances\n",
      "    return(ave_min_distance)"
     ],
     "language": "python",
     "metadata": {},
     "outputs": [],
     "prompt_number": 5
    },
    {
     "cell_type": "code",
     "collapsed": false,
     "input": [
      "def bin_business_category(category, num_bins, city=LV):\n",
      "    '''\n",
      "    returns list of bins with number of category businesses\n",
      "    ***TOO SLOW, use make bins\n",
      "    '''\n",
      "    max_lat, min_lat, max_lon, min_lon = city_edges(city)\n",
      "    \n",
      "    dlon = (max_lon - min_lon) / num_bins\n",
      "    dlat = (max_lat - min_lat) / num_bins\n",
      "    \n",
      "    cat_bus = city[[category in j for i, j in city['categories'].iteritems()]]\n",
      "    \n",
      "    matrix = []\n",
      "    for i in xrange(num_bins):\n",
      "        matrix.append([])\n",
      "        for j in xrange(num_bins):\n",
      "            num_category = 0\n",
      "            for k, bus in cat_bus['latitude'].iteritems():\n",
      "                if cat_bus['latitude'][k]>((i*dlat)+min_lat) and cat_bus['latitude'][k]<(((i+1)*dlat)+min_lat) \\\n",
      "                and cat_bus['longitude'][k]>((j*dlon)+min_lon) and cat_bus['longitude'][k]<(((j+1)*dlon)+min_lon):\n",
      "                    num_category+=1\n",
      "            matrix[i].append(num_category)\n",
      "    return matrix"
     ],
     "language": "python",
     "metadata": {},
     "outputs": [],
     "prompt_number": 6
    },
    {
     "cell_type": "code",
     "collapsed": false,
     "input": [
      "def bin_business(num_bins, city=LV):\n",
      "    '''\n",
      "    returns list of businesses in bins\n",
      "    ***TOO SLOW, use make_bins\n",
      "    '''\n",
      "    max_lat, min_lat, max_lon, min_lon = city_edges(city)\n",
      "    \n",
      "    dlon = (max_lon - min_lon) / num_bins\n",
      "    dlat = (max_lat - min_lat) / num_bins\n",
      "    \n",
      "    matrix = []\n",
      "    for i in xrange(num_bins):\n",
      "        matrix.append([])\n",
      "        for j in xrange(num_bins):\n",
      "            num_category = 0\n",
      "            for k, bus in city['latitude'].iteritems():\n",
      "                if city['latitude'][k]>((i*dlat)+min_lat) and city['latitude'][k]<(((i+1)*dlat)+min_lat) \\\n",
      "                and city['longitude'][k]>((j*dlon)+min_lon) and city['longitude'][k]<(((j+1)*dlon)+min_lon):\n",
      "                    num_category+=1\n",
      "            matrix[i].append(num_category)\n",
      "    return matrix"
     ],
     "language": "python",
     "metadata": {},
     "outputs": [],
     "prompt_number": 11
    },
    {
     "cell_type": "code",
     "collapsed": false,
     "input": [
      "def make_bins(category, num_bins, city=LV):\n",
      "    '''\n",
      "    returns bins of number of businesses and number of businesses in category\n",
      "    '''\n",
      "    max_lat, min_lat, max_lon, min_lon = city_edges(city)\n",
      "    dlon = (max_lon - min_lon) / num_bins\n",
      "    dlat = (max_lat - min_lat) / num_bins\n",
      "    \n",
      "    matrix_category = [list([0]*num_bins) for x in range(num_bins)]\n",
      "    matrix_total = [list([0]*num_bins) for x in range(num_bins)]\n",
      "    \n",
      "    for i, bus in city['categories'].iteritems():\n",
      "        lat = city['latitude'][i]\n",
      "        lon = city['longitude'][i]\n",
      "        j=0\n",
      "        while j<=num_bins:\n",
      "            found_flag = False\n",
      "            k=0\n",
      "            while k<=num_bins:\n",
      "                if (j*dlat)+min_lat < lat < (((j+1)*dlat)+min_lat) and \\\n",
      "                       ((k*dlon)+min_lon) < lon < (((k+1)*dlon)+min_lon):\n",
      "                    matrix_total [j][k] +=1\n",
      "                    if category in bus:\n",
      "                        matrix_category[j][k]+=1\n",
      "                    found_flag = True\n",
      "                    break\n",
      "                else: \n",
      "                    k+=1\n",
      "            if found_flag == True:\n",
      "                break\n",
      "            j+=1\n",
      "    return matrix_category, matrix_total\n",
      "            \n",
      "        "
     ],
     "language": "python",
     "metadata": {},
     "outputs": [],
     "prompt_number": 86
    },
    {
     "cell_type": "code",
     "collapsed": false,
     "input": [],
     "language": "python",
     "metadata": {},
     "outputs": [],
     "prompt_number": 96
    },
    {
     "cell_type": "code",
     "collapsed": false,
     "input": [
      "x, y = make_bins('Chinese',10)"
     ],
     "language": "python",
     "metadata": {},
     "outputs": [],
     "prompt_number": 89
    },
    {
     "cell_type": "code",
     "collapsed": false,
     "input": [
      "def city_edges(city = LV):\n",
      "    '''\n",
      "    returns max latitude, min latitude, max longitude, min longitude\n",
      "    '''\n",
      "    lat_set = []\n",
      "    lon_set = []\n",
      "    for k, l in city['latitude'].iteritems():\n",
      "        lat_set.append( city['latitude'][k] )\n",
      "        lon_set.append( city['longitude'][k] )\n",
      "    return max(lat_set), min(lat_set), max(lon_set), min(lon_set)"
     ],
     "language": "python",
     "metadata": {},
     "outputs": [],
     "prompt_number": 12
    },
    {
     "cell_type": "code",
     "collapsed": false,
     "input": [
      "city_edges(LV)"
     ],
     "language": "python",
     "metadata": {},
     "outputs": [
      {
       "metadata": {},
       "output_type": "pyout",
       "prompt_number": 8,
       "text": [
        "(36.335886388500001, 35.950984999999996, -114.9198153, -115.369725428)"
       ]
      }
     ],
     "prompt_number": 8
    },
    {
     "cell_type": "code",
     "collapsed": false,
     "input": [
      "a = bin_business_category('Chinese',10,LV)"
     ],
     "language": "python",
     "metadata": {},
     "outputs": [],
     "prompt_number": 16
    },
    {
     "cell_type": "code",
     "collapsed": false,
     "input": [
      "a"
     ],
     "language": "python",
     "metadata": {},
     "outputs": [
      {
       "metadata": {},
       "output_type": "pyout",
       "prompt_number": 55,
       "text": [
        "[[0, 0, 0, 0, 0, 0, 0, 0, 0, 0],\n",
        " [0, 0, 2, 1, 2, 8, 0, 0, 0, 0],\n",
        " [0, 0, 7, 3, 2, 3, 0, 1, 0, 0],\n",
        " [0, 5, 3, 4, 9, 6, 3, 2, 0, 0],\n",
        " [0, 3, 9, 74, 43, 8, 7, 0, 0, 0],\n",
        " [3, 6, 7, 10, 6, 8, 5, 1, 0, 0],\n",
        " [0, 3, 8, 2, 1, 0, 0, 1, 0, 0],\n",
        " [1, 0, 0, 2, 1, 0, 1, 0, 0, 0],\n",
        " [0, 2, 5, 2, 0, 0, 0, 0, 0, 0],\n",
        " [0, 1, 0, 0, 0, 0, 0, 0, 0, 0]]"
       ]
      }
     ],
     "prompt_number": 55
    },
    {
     "cell_type": "code",
     "collapsed": false,
     "input": [
      "b = bin_business(10, LV)"
     ],
     "language": "python",
     "metadata": {},
     "outputs": [],
     "prompt_number": 18
    },
    {
     "cell_type": "code",
     "collapsed": false,
     "input": [
      "b"
     ],
     "language": "python",
     "metadata": {},
     "outputs": [
      {
       "metadata": {},
       "output_type": "pyout",
       "prompt_number": 19,
       "text": [
        "[[0, 3, 0, 9, 8, 0, 0, 2, 0, 1],\n",
        " [0, 5, 45, 58, 138, 315, 5, 1, 1, 0],\n",
        " [1, 73, 328, 146, 248, 171, 4, 4, 0, 0],\n",
        " [2, 308, 161, 303, 677, 476, 98, 53, 3, 1],\n",
        " [34, 298, 350, 749, 1913, 447, 161, 11, 0, 0],\n",
        " [105, 410, 379, 474, 613, 647, 159, 23, 0, 0],\n",
        " [4, 189, 427, 121, 22, 14, 29, 17, 1, 0],\n",
        " [10, 17, 91, 99, 11, 5, 53, 11, 0, 0],\n",
        " [2, 123, 183, 70, 5, 3, 0, 11, 2, 0],\n",
        " [2, 36, 33, 3, 0, 1, 0, 2, 0, 0]]"
       ]
      }
     ],
     "prompt_number": 19
    },
    {
     "cell_type": "code",
     "collapsed": false,
     "input": [
      "c = []\n",
      "for i in xrange(len(a)):\n",
      "    c.append([])\n",
      "    for j in xrange(len(a[i])):\n",
      "        try: \n",
      "            ratio = a[i][j]/float(b[i][j])\n",
      "            c[i].append(ratio)\n",
      "        except ZeroDivisionError:\n",
      "            c[i].append(1)"
     ],
     "language": "python",
     "metadata": {},
     "outputs": [],
     "prompt_number": 20
    },
    {
     "cell_type": "code",
     "collapsed": false,
     "input": [],
     "language": "python",
     "metadata": {},
     "outputs": [],
     "prompt_number": 124
    },
    {
     "cell_type": "code",
     "collapsed": false,
     "input": [
      "import matplotlib.pyplot as plt\n",
      "%matplotlib inline\n",
      "\n",
      "plt.imshow(c, interpolation='none', alpha = 1)\n",
      "\n",
      "max_lat, min_lat, max_lon, min_lon = city_edges(LV)\n",
      "plt.xticks([0,len(c[0])-1],[min_lon, max_lon])\n",
      "plt.yticks([0,len(c)-1],[min_lat, max_lat])\n",
      "\n",
      "plt.jet()\n",
      "cb = plt.colorbar() #make color bar\n",
      "cb.set_ticks([1, 0])   #two ticks\n",
      "cb.set_ticklabels(['bad', 'great!'])  # put text labels on them"
     ],
     "language": "python",
     "metadata": {},
     "outputs": [
      {
       "metadata": {},
       "output_type": "display_data",
       "png": "[encoded data removed]",
       "text": [
        "<matplotlib.figure.Figure at 0x7fe234931b50>"
       ]
      }
     ],
     "prompt_number": 23
    },
    {
     "cell_type": "code",
     "collapsed": false,
     "input": [
      "import matplotlib.pyplot as plt\n",
      "%matplotlib inline\n",
      "\n",
      "def plot_bins(category,num_bins, city=LV):\n",
      "    '''\n",
      "    takes a category and city and plots the bins for it\n",
      "    '''\n",
      "    a, b = make_bins(category, num_bins, city)\n",
      "    c = []\n",
      "    max_ratio = 0\n",
      "    for i in xrange(len(a)):\n",
      "        c.append([])\n",
      "        for j in xrange(len(a[i])):\n",
      "            try: \n",
      "                ratio = a[i][j]/float(b[i][j])\n",
      "                c[i].append(ratio)\n",
      "                if ratio > max_ratio: \n",
      "                    max_ratio = ratio\n",
      "#                     print i,j,max_ratio\n",
      "            except ZeroDivisionError:\n",
      "                c[i].append('NA')\n",
      "#     print c\n",
      "    \n",
      "    for i in xrange(len(c)):\n",
      "        for j in xrange(len(c[i])):\n",
      "            if c[i][j] == 'NA':\n",
      "                c[i][j] = max_ratio\n",
      "                \n",
      "    plt.imshow(c, interpolation='none', alpha = 1)\n",
      "\n",
      "    max_lat, min_lat, max_lon, min_lon = city_edges(city)\n",
      "    plt.xticks([0,len(c[0])-1],[min_lon, max_lon])\n",
      "    plt.yticks([0,len(c)-1],[min_lat, max_lat])\n",
      "\n",
      "    plt.jet()\n",
      "    cb = plt.colorbar() #make color bar\n",
      "    cb.set_ticks([max_ratio, 0])   #two ticks\n",
      "    cb.set_ticklabels(['high concentration', 'low concentration'])  # put text labels on them"
     ],
     "language": "python",
     "metadata": {},
     "outputs": [],
     "prompt_number": 123
    },
    {
     "cell_type": "code",
     "collapsed": false,
     "input": [
      "plot_bins('Hotels',10)"
     ],
     "language": "python",
     "metadata": {},
     "outputs": [
      {
       "metadata": {},
       "output_type": "display_data",
       "png": "[encoded data removed]",
       "text": [
        "<matplotlib.figure.Figure at 0x7fe234483450>"
       ]
      }
     ],
     "prompt_number": 114
    },
    {
     "cell_type": "code",
     "collapsed": false,
     "input": [
      "plot_bins('Chinese',50)"
     ],
     "language": "python",
     "metadata": {},
     "outputs": [
      {
       "metadata": {},
       "output_type": "display_data",
       "png": "[encoded data removed]",
       "text": [
        "<matplotlib.figure.Figure at 0x7fe2343ad1d0>"
       ]
      }
     ],
     "prompt_number": 124
    },
    {
     "cell_type": "code",
     "collapsed": false,
     "input": [
      "x,y=make_bins('Chinese',50)"
     ],
     "language": "python",
     "metadata": {},
     "outputs": [],
     "prompt_number": 116
    },
    {
     "cell_type": "code",
     "collapsed": false,
     "input": [
      "x[13][35]"
     ],
     "language": "python",
     "metadata": {},
     "outputs": [
      {
       "metadata": {},
       "output_type": "pyout",
       "prompt_number": 106,
       "text": [
        "1"
       ]
      }
     ],
     "prompt_number": 106
    },
    {
     "cell_type": "code",
     "collapsed": false,
     "input": [
      "y[13][35]"
     ],
     "language": "python",
     "metadata": {},
     "outputs": [
      {
       "metadata": {},
       "output_type": "pyout",
       "prompt_number": 107,
       "text": [
        "1"
       ]
      }
     ],
     "prompt_number": 107
    },
    {
     "cell_type": "markdown",
     "metadata": {},
     "source": [
      "engineered feature - number of reviews for that category in that bin\n",
      "\n",
      "input location - return optimal business?"
     ]
    },
    {
     "cell_type": "code",
     "collapsed": false,
     "input": [
      "def bin_by_review_count(category, num_bins, city=LV):\n",
      "    '''\n",
      "    returns bins of total reviews for businesses of category in city\n",
      "    '''\n",
      "    max_lat, min_lat, max_lon, min_lon = city_edges(city)\n",
      "    dlon = (max_lon - min_lon) / num_bins\n",
      "    dlat = (max_lat - min_lat) / num_bins\n",
      "    \n",
      "    matrix_category_reviews = [list([0]*num_bins) for x in range(num_bins)]\n",
      "    matrix_total_reviews = [list([0]*num_bins) for x in range(num_bins)]\n",
      "    \n",
      "    for i, bus in city['categories'].iteritems():\n",
      "        lat = city['latitude'][i]\n",
      "        lon = city['longitude'][i]\n",
      "        j=0\n",
      "        while j<=num_bins:\n",
      "            found_flag = False\n",
      "            k=0\n",
      "            while k<=num_bins:\n",
      "                if (j*dlat)+min_lat < lat < (((j+1)*dlat)+min_lat) and \\\n",
      "                       ((k*dlon)+min_lon) < lon < (((k+1)*dlon)+min_lon):\n",
      "                    matrix_total_reviews [j][k] +=city['review_count'][i]\n",
      "                    if category in bus:\n",
      "                        matrix_category_reviews[j][k]+=city['review_count'][i]\n",
      "                    found_flag = True\n",
      "                    break\n",
      "                else: \n",
      "                    k+=1\n",
      "            if found_flag == True:\n",
      "                break\n",
      "            j+=1\n",
      "    return matrix_category_reviews, matrix_total_reviews"
     ],
     "language": "python",
     "metadata": {},
     "outputs": [],
     "prompt_number": 127
    },
    {
     "cell_type": "code",
     "collapsed": false,
     "input": [
      "a,b = bin_by_review_count('Chinese',10)"
     ],
     "language": "python",
     "metadata": {},
     "outputs": [],
     "prompt_number": 128
    },
    {
     "cell_type": "code",
     "collapsed": false,
     "input": [
      "a"
     ],
     "language": "python",
     "metadata": {},
     "outputs": [
      {
       "metadata": {},
       "output_type": "pyout",
       "prompt_number": 129,
       "text": [
        "[[0, 0, 0, 0, 0, 0, 0, 0, 0, 0],\n",
        " [0, 0, 112, 24, 19, 450, 0, 0, 0, 0],\n",
        " [0, 0, 273, 66, 66, 77, 0, 11, 0, 0],\n",
        " [0, 262, 107, 117, 816, 232, 55, 34, 0, 0],\n",
        " [0, 124, 648, 7477, 6105, 172, 358, 0, 0, 0],\n",
        " [165, 279, 243, 671, 194, 163, 41, 30, 0, 0],\n",
        " [0, 88, 192, 15, 3, 0, 0, 15, 0, 0],\n",
        " [19, 0, 0, 8, 19, 0, 10, 0, 0, 0],\n",
        " [0, 83, 70, 65, 0, 0, 0, 0, 0, 0],\n",
        " [0, 27, 0, 0, 0, 0, 0, 0, 0, 0]]"
       ]
      }
     ],
     "prompt_number": 129
    },
    {
     "cell_type": "code",
     "collapsed": false,
     "input": [
      "b"
     ],
     "language": "python",
     "metadata": {},
     "outputs": [
      {
       "metadata": {},
       "output_type": "pyout",
       "prompt_number": 130,
       "text": [
        "[[0, 13, 0, 139, 132, 0, 0, 14, 0, 5],\n",
        " [0, 152, 1311, 1688, 4859, 12287, 84, 27, 4, 0],\n",
        " [13, 2006, 11963, 3709, 9201, 3759, 55, 28, 0, 0],\n",
        " [18, 7648, 4712, 8581, 64532, 13236, 1414, 764, 26, 5],\n",
        " [912, 8506, 10811, 41397, 227852, 11241, 2988, 226, 0, 0],\n",
        " [5065, 15545, 10235, 11942, 21796, 23731, 1993, 272, 0, 0],\n",
        " [62, 3118, 10458, 1083, 457, 208, 241, 183, 16, 0],\n",
        " [113, 142, 1555, 1778, 126, 41, 690, 114, 0, 0],\n",
        " [23, 2616, 4015, 1127, 136, 44, 0, 354, 33, 0],\n",
        " [22, 862, 879, 17, 0, 5, 0, 29, 0, 0]]"
       ]
      }
     ],
     "prompt_number": 130
    },
    {
     "cell_type": "code",
     "collapsed": false,
     "input": [
      "def plot_percent_traffic(category, num_bins, city=LV):\n",
      "    '''\n",
      "    plots percent traffic (review_counts) of category in bin\n",
      "    '''\n",
      "    a, b =bin_by_review_count(category, num_bins, city)\n",
      "    c = []\n",
      "    max_ratio = 0\n",
      "    for i in xrange(len(a)):\n",
      "        c.append([])\n",
      "        for j in xrange(len(a[i])):\n",
      "            try: \n",
      "                ratio = a[i][j]/float(b[i][j])\n",
      "                c[i].append(ratio)\n",
      "                if ratio > max_ratio: \n",
      "                    max_ratio = ratio\n",
      "#                     print i,j,max_ratio\n",
      "            except ZeroDivisionError:\n",
      "                c[i].append('NA')\n",
      "#     print c\n",
      "    \n",
      "    for i in xrange(len(c)):\n",
      "        for j in xrange(len(c[i])):\n",
      "            if c[i][j] == 'NA':\n",
      "                c[i][j] = 0\n",
      "                \n",
      "    plt.imshow(c)#, interpolation='none', alpha = 1)\n",
      "\n",
      "    max_lat, min_lat, max_lon, min_lon = city_edges(city)\n",
      "    plt.xticks([0,len(c[0])-1],[min_lon, max_lon])\n",
      "    plt.yticks([0,len(c)-1],[min_lat, max_lat])\n",
      "\n",
      "    plt.jet()\n",
      "    cb = plt.colorbar() #make color bar\n",
      "    cb.set_ticks([0,max_ratio])   #two ticks\n",
      "    cb.set_ticklabels(['low traffic','lots of traffic'])  # put text labels on them"
     ],
     "language": "python",
     "metadata": {},
     "outputs": [],
     "prompt_number": 345
    },
    {
     "cell_type": "code",
     "collapsed": false,
     "input": [
      "plot_percent_traffic('Chinese',10)"
     ],
     "language": "python",
     "metadata": {},
     "outputs": [
      {
       "metadata": {},
       "output_type": "display_data",
       "png": "[encoded data removed]",
       "text": [
        "<matplotlib.figure.Figure at 0x7fe23437c650>"
       ]
      }
     ],
     "prompt_number": 346
    },
    {
     "cell_type": "code",
     "collapsed": false,
     "input": [
      "def find_optimal_bus(latitude, longitude, radius, metric='combined_metric', \n",
      "                     possible_categories=None, num_results=10, city='Las Vegas'):\n",
      "    '''\n",
      "    takes in a coordinate location and finds what category of business \n",
      "    from possible_categories would be best there according to metric\n",
      "    based on information about businesses within radius\n",
      "    '''\n",
      "    bus_data=pd.read_csv('yelp_academic_dataset_business.csv')\n",
      "    city_data = bus_data[bus_data['city']== city]\n",
      "    if possible_categories is None:\n",
      "        possible_categories = []\n",
      "        for i, j in city_data['categories'].iteritems():\n",
      "            possible_categories+=ast.literal_eval(j)\n",
      "        possible_categories=list(set(possible_categories))\n",
      "    if num_results==None:\n",
      "        num_results = len(possible_categories)\n",
      "    \n",
      "    if metric == 'combined_metric':\n",
      "        results_traffic = [(cat, max_traffic_percent(latitude,longitude,cat,radius,city_data)) \\\n",
      "                           for cat in possible_categories]\n",
      "        results_traffic.sort(key=lambda pair: pair[1], reverse=True)\n",
      "        results_traffic = [cat for cat, _ in results_traffic]\n",
      "        results_neighbors = [(cat, min_neighbors(latitude,longitude,cat,radius,city_data)) \\\n",
      "                             for cat in possible_categories]\n",
      "        results_neighbors.sort(key=lambda pair: pair[1], reverse=True)\n",
      "        results_neighbors = [cat for cat, _ in results_neighbors]\n",
      "        results = [(cat, results_traffic.index(cat)+results_neighbors.index(cat)) \\\n",
      "                   for cat in possible_categories]\n",
      "        results.sort(key=lambda pair: pair[1])\n",
      "\n",
      "    else:\n",
      "        results = [(cat, metric(latitude,longitude,cat,radius,city_data)) \\\n",
      "                   for cat in possible_categories]\n",
      "        results.sort(key=lambda pair: pair[1], reverse=True)\n",
      "        \n",
      "    return results[:num_results]"
     ],
     "language": "python",
     "metadata": {},
     "outputs": [],
     "prompt_number": 253
    },
    {
     "cell_type": "code",
     "collapsed": false,
     "input": [
      "found = find_optimal_bus(36.175, -115.13638, radius=1, possible_categories=['Chinese','Japanese','Italian','American','French'])"
     ],
     "language": "python",
     "metadata": {},
     "outputs": [],
     "prompt_number": 269
    },
    {
     "cell_type": "code",
     "collapsed": false,
     "input": [
      "found"
     ],
     "language": "python",
     "metadata": {},
     "outputs": [
      {
       "metadata": {},
       "output_type": "pyout",
       "prompt_number": 282,
       "text": [
        "[('Japanese', 2),\n",
        " ('Italian', 4),\n",
        " ('American', 4),\n",
        " ('French', 4),\n",
        " ('Chinese', 6)]"
       ]
      }
     ],
     "prompt_number": 282
    },
    {
     "cell_type": "code",
     "collapsed": false,
     "input": [
      "[score for cat, score in found if cat == 'Chinese'][0]"
     ],
     "language": "python",
     "metadata": {},
     "outputs": [
      {
       "metadata": {},
       "output_type": "pyout",
       "prompt_number": 304,
       "text": [
        "6"
       ]
      }
     ],
     "prompt_number": 304
    },
    {
     "cell_type": "code",
     "collapsed": false,
     "input": [
      "import scipy.ndimage\n",
      "def get_heatmap(category, categories, radius = 1, city=LV, num_bins = 10):\n",
      "    max_lat, min_lat, max_lon, min_lon = city_edges(city)\n",
      "    dlon = (max_lon - min_lon) / num_bins\n",
      "    dlat = (max_lat - min_lat) / num_bins\n",
      "    \n",
      "    \n",
      "    points = [list([0]*num_bins) for x in range(num_bins)]\n",
      "    image = np.zeros((num_bins, num_bins))\n",
      "    \n",
      "    for x in range(len(points)):\n",
      "        for y in range(len(points[x])):\n",
      "            lat = (y*dlat)+min_lat\n",
      "            lon = (x*dlon)+min_lon\n",
      "            found = find_optimal_bus(lat,lon, radius, \n",
      "                                   possible_categories=categories)\n",
      "            image[y,x] += [score for cat, score in found if cat == 'Chinese'][0]\n",
      "            break\n",
      "        break\n",
      "\n",
      "    return scipy.ndimage.gaussian_filter(image, (10, 10))\n",
      "plt.imshow(get_heatmap(category = 'Chinese',categories=['Chinese','Italian','French','American']), origin='lower');"
     ],
     "language": "python",
     "metadata": {},
     "outputs": [
      {
       "metadata": {},
       "output_type": "display_data",
       "png": "[encoded data removed]",
       "text": [
        "<matplotlib.figure.Figure at 0x7fe234887ed0>"
       ]
      }
     ],
     "prompt_number": 315
    },
    {
     "cell_type": "code",
     "collapsed": false,
     "input": [
      "import scipy.ndimage\n",
      "\n",
      "# def get_points(num_bins = 5, city = LV):\n",
      "#     max_lat, min_lat, max_lon, min_lon = city_edges(city)\n",
      "#     dlon = (max_lon - min_lon) / num_bins\n",
      "#     dlat = (max_lat - min_lat) / num_bins\n",
      "#     points = []\n",
      "#     for i in range(num_bins):\n",
      "#         for j in range(num_bins):\n",
      "#             lat = min_lat + (dlat*i)\n",
      "#             lon = min_lon + (dlon*j)\n",
      "#             points.append((lat, lon))\n",
      "#     return points\n",
      "\n",
      "def get_heatmap(category, categories,num_bins = 5,radius=1, city=LV):\n",
      "    max_lat, min_lat, max_lon, min_lon = city_edges(city)\n",
      "    dlon = (max_lon - min_lon) / num_bins\n",
      "    dlat = (max_lat - min_lat) / num_bins\n",
      "    points = get_points(num_bins, city)\n",
      "    image = np.zeros((num_bins, num_bins))\n",
      "    for x, y in points:\n",
      "        lat, lon = min_lat + (dlat*y),min_lon + (dlon*x)\n",
      "        found = find_optimal_bus(lat,lon, radius, \n",
      "                                 possible_categories=categories)\n",
      "        image[y,x] += [score for cat, score in found if cat == category][0]\n",
      "    print image\n",
      "    return scipy.ndimage.gaussian_filter(image, (10, 10))\n",
      "\n",
      "plt.imshow(get_heatmap(category = 'Chinese',categories=['Chinese','Italian','French','American']))\n",
      "max_lat, min_lat, max_lon, min_lon = city_edges(LV)\n",
      "plt.ylim([min_lat,max_lat])\n",
      "plt.xlim([min_lon,max_lon])"
     ],
     "language": "python",
     "metadata": {},
     "outputs": [
      {
       "ename": "IndexError",
       "evalue": "index -1965 is out of bounds for axis 0 with size 5",
       "output_type": "pyerr",
       "traceback": [
        "\u001b[1;31m---------------------------------------------------------------------------\u001b[0m\n\u001b[1;31mIndexError\u001b[0m                                Traceback (most recent call last)",
        "\u001b[1;32m<ipython-input-350-f23db8fc4b16>\u001b[0m in \u001b[0;36m<module>\u001b[1;34m()\u001b[0m\n\u001b[0;32m     27\u001b[0m     \u001b[1;32mreturn\u001b[0m \u001b[0mscipy\u001b[0m\u001b[1;33m.\u001b[0m\u001b[0mndimage\u001b[0m\u001b[1;33m.\u001b[0m\u001b[0mgaussian_filter\u001b[0m\u001b[1;33m(\u001b[0m\u001b[0mimage\u001b[0m\u001b[1;33m,\u001b[0m \u001b[1;33m(\u001b[0m\u001b[1;36m10\u001b[0m\u001b[1;33m,\u001b[0m \u001b[1;36m10\u001b[0m\u001b[1;33m)\u001b[0m\u001b[1;33m)\u001b[0m\u001b[1;33m\u001b[0m\u001b[0m\n\u001b[0;32m     28\u001b[0m \u001b[1;33m\u001b[0m\u001b[0m\n\u001b[1;32m---> 29\u001b[1;33m \u001b[0mplt\u001b[0m\u001b[1;33m.\u001b[0m\u001b[0mimshow\u001b[0m\u001b[1;33m(\u001b[0m\u001b[0mget_heatmap\u001b[0m\u001b[1;33m(\u001b[0m\u001b[0mcategory\u001b[0m \u001b[1;33m=\u001b[0m \u001b[1;34m'Chinese'\u001b[0m\u001b[1;33m,\u001b[0m\u001b[0mcategories\u001b[0m\u001b[1;33m=\u001b[0m\u001b[1;33m[\u001b[0m\u001b[1;34m'Chinese'\u001b[0m\u001b[1;33m,\u001b[0m\u001b[1;34m'Italian'\u001b[0m\u001b[1;33m,\u001b[0m\u001b[1;34m'French'\u001b[0m\u001b[1;33m,\u001b[0m\u001b[1;34m'American'\u001b[0m\u001b[1;33m]\u001b[0m\u001b[1;33m)\u001b[0m\u001b[1;33m)\u001b[0m\u001b[1;33m\u001b[0m\u001b[0m\n\u001b[0m\u001b[0;32m     30\u001b[0m \u001b[0mmax_lat\u001b[0m\u001b[1;33m,\u001b[0m \u001b[0mmin_lat\u001b[0m\u001b[1;33m,\u001b[0m \u001b[0mmax_lon\u001b[0m\u001b[1;33m,\u001b[0m \u001b[0mmin_lon\u001b[0m \u001b[1;33m=\u001b[0m \u001b[0mcity_edges\u001b[0m\u001b[1;33m(\u001b[0m\u001b[0mLV\u001b[0m\u001b[1;33m)\u001b[0m\u001b[1;33m\u001b[0m\u001b[0m\n\u001b[0;32m     31\u001b[0m \u001b[0mplt\u001b[0m\u001b[1;33m.\u001b[0m\u001b[0mylim\u001b[0m\u001b[1;33m(\u001b[0m\u001b[1;33m[\u001b[0m\u001b[0mmin_lat\u001b[0m\u001b[1;33m,\u001b[0m\u001b[0mmax_lat\u001b[0m\u001b[1;33m]\u001b[0m\u001b[1;33m)\u001b[0m\u001b[1;33m\u001b[0m\u001b[0m\n",
        "\u001b[1;32m<ipython-input-350-f23db8fc4b16>\u001b[0m in \u001b[0;36mget_heatmap\u001b[1;34m(category, categories, num_bins, radius, city)\u001b[0m\n\u001b[0;32m     23\u001b[0m         found = find_optimal_bus(lat,lon, radius, \n\u001b[0;32m     24\u001b[0m                                  possible_categories=categories)\n\u001b[1;32m---> 25\u001b[1;33m         \u001b[0mimage\u001b[0m\u001b[1;33m[\u001b[0m\u001b[1;33m(\u001b[0m\u001b[0my\u001b[0m\u001b[1;33m-\u001b[0m\u001b[0mmin_lat\u001b[0m\u001b[1;33m)\u001b[0m \u001b[1;33m/\u001b[0m \u001b[0mdlat\u001b[0m\u001b[1;33m,\u001b[0m\u001b[1;33m(\u001b[0m\u001b[0mx\u001b[0m\u001b[1;33m-\u001b[0m\u001b[0mmin_lon\u001b[0m\u001b[1;33m)\u001b[0m \u001b[1;33m/\u001b[0m \u001b[0mdlon\u001b[0m\u001b[1;33m]\u001b[0m \u001b[1;33m+=\u001b[0m \u001b[1;33m[\u001b[0m\u001b[0mscore\u001b[0m \u001b[1;32mfor\u001b[0m \u001b[0mcat\u001b[0m\u001b[1;33m,\u001b[0m \u001b[0mscore\u001b[0m \u001b[1;32min\u001b[0m \u001b[0mfound\u001b[0m \u001b[1;32mif\u001b[0m \u001b[0mcat\u001b[0m \u001b[1;33m==\u001b[0m \u001b[0mcategory\u001b[0m\u001b[1;33m]\u001b[0m\u001b[1;33m[\u001b[0m\u001b[1;36m0\u001b[0m\u001b[1;33m]\u001b[0m\u001b[1;33m\u001b[0m\u001b[0m\n\u001b[0m\u001b[0;32m     26\u001b[0m     \u001b[1;32mprint\u001b[0m \u001b[0mimage\u001b[0m\u001b[1;33m\u001b[0m\u001b[0m\n\u001b[0;32m     27\u001b[0m     \u001b[1;32mreturn\u001b[0m \u001b[0mscipy\u001b[0m\u001b[1;33m.\u001b[0m\u001b[0mndimage\u001b[0m\u001b[1;33m.\u001b[0m\u001b[0mgaussian_filter\u001b[0m\u001b[1;33m(\u001b[0m\u001b[0mimage\u001b[0m\u001b[1;33m,\u001b[0m \u001b[1;33m(\u001b[0m\u001b[1;36m10\u001b[0m\u001b[1;33m,\u001b[0m \u001b[1;36m10\u001b[0m\u001b[1;33m)\u001b[0m\u001b[1;33m)\u001b[0m\u001b[1;33m\u001b[0m\u001b[0m\n",
        "\u001b[1;31mIndexError\u001b[0m: index -1965 is out of bounds for axis 0 with size 5"
       ]
      }
     ],
     "prompt_number": 350
    },
    {
     "cell_type": "code",
     "collapsed": false,
     "input": [
      "points = get_points()\n",
      "image = np.zeros((5, 5))\n",
      "for x, y in points:\n",
      "    lat, lon = y,x\n",
      "    found = find_optimal_bus(lat,lon, radius=1, \n",
      "                             possible_categories=['Chinese','Italian','French','American','Indian','Japenese','Mexican'])\n",
      "    score = [score for cat, score in found if cat == 'Chinese'][0]\n",
      "    print score\n",
      "    image[y,x] = float(score)\n",
      "image"
     ],
     "language": "python",
     "metadata": {},
     "outputs": [
      {
       "output_type": "stream",
       "stream": "stdout",
       "text": [
        "7\n"
       ]
      },
      {
       "ename": "IndexError",
       "evalue": "index -115 is out of bounds for axis 0 with size 5",
       "output_type": "pyerr",
       "traceback": [
        "\u001b[1;31m---------------------------------------------------------------------------\u001b[0m\n\u001b[1;31mIndexError\u001b[0m                                Traceback (most recent call last)",
        "\u001b[1;32m<ipython-input-344-7e34ddb6e19f>\u001b[0m in \u001b[0;36m<module>\u001b[1;34m()\u001b[0m\n\u001b[0;32m      7\u001b[0m     \u001b[0mscore\u001b[0m \u001b[1;33m=\u001b[0m \u001b[1;33m[\u001b[0m\u001b[0mscore\u001b[0m \u001b[1;32mfor\u001b[0m \u001b[0mcat\u001b[0m\u001b[1;33m,\u001b[0m \u001b[0mscore\u001b[0m \u001b[1;32min\u001b[0m \u001b[0mfound\u001b[0m \u001b[1;32mif\u001b[0m \u001b[0mcat\u001b[0m \u001b[1;33m==\u001b[0m \u001b[1;34m'Chinese'\u001b[0m\u001b[1;33m]\u001b[0m\u001b[1;33m[\u001b[0m\u001b[1;36m0\u001b[0m\u001b[1;33m]\u001b[0m\u001b[1;33m\u001b[0m\u001b[0m\n\u001b[0;32m      8\u001b[0m     \u001b[1;32mprint\u001b[0m \u001b[0mscore\u001b[0m\u001b[1;33m\u001b[0m\u001b[0m\n\u001b[1;32m----> 9\u001b[1;33m     \u001b[0mimage\u001b[0m\u001b[1;33m[\u001b[0m\u001b[0my\u001b[0m\u001b[1;33m,\u001b[0m\u001b[0mx\u001b[0m\u001b[1;33m]\u001b[0m \u001b[1;33m=\u001b[0m \u001b[0mfloat\u001b[0m\u001b[1;33m(\u001b[0m\u001b[0mscore\u001b[0m\u001b[1;33m)\u001b[0m\u001b[1;33m\u001b[0m\u001b[0m\n\u001b[0m\u001b[0;32m     10\u001b[0m \u001b[0mimage\u001b[0m\u001b[1;33m\u001b[0m\u001b[0m\n",
        "\u001b[1;31mIndexError\u001b[0m: index -115 is out of bounds for axis 0 with size 5"
       ]
      }
     ],
     "prompt_number": 344
    },
    {
     "cell_type": "code",
     "collapsed": false,
     "input": [
      "image[1,1] = 3.\n",
      "image"
     ],
     "language": "python",
     "metadata": {},
     "outputs": [
      {
       "metadata": {},
       "output_type": "pyout",
       "prompt_number": 343,
       "text": [
        "array([[ 0.,  0.,  0., ...,  0.,  0.,  0.],\n",
        "       [ 0.,  3.,  0., ...,  0.,  0.,  0.],\n",
        "       [ 0.,  0.,  0., ...,  0.,  0.,  0.],\n",
        "       ..., \n",
        "       [ 0.,  0.,  0., ...,  0.,  0.,  0.],\n",
        "       [ 0.,  0.,  0., ...,  0.,  0.,  0.],\n",
        "       [ 0.,  0.,  0., ...,  0.,  0.,  0.]])"
       ]
      }
     ],
     "prompt_number": 343
    },
    {
     "cell_type": "markdown",
     "metadata": {},
     "source": [
      "## Recommend type of business for location"
     ]
    },
    {
     "cell_type": "code",
     "collapsed": false,
     "input": [
      "import ast\n",
      "import numpy as np\n",
      "import math as math\n",
      "\n",
      "\n",
      "def find_optimal_bus(latitude, longitude, radius, metric, \n",
      "                     possible_categories=None, num_results=None, city=LV):\n",
      "    '''\n",
      "    takes in a coordinate location and finds what category of business would be best there\n",
      "    \n",
      "    recommendation is according to metric\n",
      "    '''\n",
      "    if possible_categories is None:\n",
      "        possible_categories = []\n",
      "        for i, j in LV['categories'].iteritems():\n",
      "            possible_categories+=ast.literal_eval(j)\n",
      "        possible_categories=list(set(possible_categories))\n",
      "    if num_results==None:\n",
      "        num_results = len(possible_categories)\n",
      "    \n",
      "    results = [(cat, metric(latitude, longitude,cat, radius, city)) \\\n",
      "               for cat in possible_categories]\n",
      "    results.sort(key=lambda pair: pair[1], reverse=True)\n",
      "        \n",
      "    return results[:num_results]\n",
      "    \n",
      "def max_traffic_percent(lat,lon,category,radius, city):\n",
      "    '''\n",
      "    metric of maximum percent of traffic\n",
      "    '''\n",
      "    cat_rev, total_rev = review_count_radius(lat, lon, category, radius, city)\n",
      "    cat_percent = float(cat_rev) / total_rev\n",
      "    return cat_percent\n",
      "\n",
      "def min_traffic_percent(lat,lon,category,radius, city):\n",
      "    '''\n",
      "    metric of minimum percent of traffic\n",
      "    '''\n",
      "    cat_rev, total_rev = review_count_radius(lat, lon, category, radius, city)\n",
      "    cat_percent = float(cat_rev) / total_rev\n",
      "    return -cat_percent\n",
      "\n",
      "def review_count_radius(lat, lon, category, radius, city):\n",
      "    '''\n",
      "    returns category businesses and total businesses within radius in miles\n",
      "    '''\n",
      "    lat_bus = lat\n",
      "    lon_bus = lon\n",
      "    category_reviews = 0\n",
      "    total_reviews = 0\n",
      "    for i, bus in city['categories'].iteritems():\n",
      "        lat = city['latitude'][i]\n",
      "        lon = city['longitude'][i]\n",
      "        \n",
      "        if radius < coord_distance((lon_bus, lat_bus),(lon,lat)):\n",
      "            total_reviews  +=city['review_count'][i]\n",
      "            if category in bus:\n",
      "                category_reviews+=city['review_count'][i]\n",
      "    \n",
      "    return category_reviews, total_reviews\n",
      "\n",
      "def coord_distance(point1, point2, scale='miles'):\n",
      "    '''\n",
      "    finds the distance between two coordinate locations given as\n",
      "    (longitude, latitude)\n",
      "    uses Haversine formula\n",
      "    '''\n",
      "    if len(point1) != 2 or len(point2) != 2:\n",
      "        raise ValueError('Input(s) do not have correct dimensions')\n",
      "    if scale == 'miles': \n",
      "        R = 3963\n",
      "    elif scale == 'kilometers': \n",
      "        R = 6373\n",
      "    else: \n",
      "        raise ValueError('Need valid scale (miles or kilometers)')\n",
      "    dLat = (point1[1] - point2[1]) * np.pi / 180\n",
      "    dLong = (point1[0] - point2[0]) * np.pi / 180\n",
      "    a = np.sin(dLat / 2) * np.sin(dLat / 2) + np.cos(point1[1] * np.pi / 180) \\\n",
      "        * np.cos(point2[1] * np.pi / 180) * np.sin(dLong / 2) * np.sin(dLong / 2)\n",
      "    c = 2 * math.atan2(np.sqrt(a), np.sqrt(1 - a))\n",
      "    return R*c"
     ],
     "language": "python",
     "metadata": {},
     "outputs": [],
     "prompt_number": 247
    },
    {
     "cell_type": "code",
     "collapsed": false,
     "input": [
      "find_optimal_bus(36.175, -115.136389,radius=1,metric=max_traffic_percent,possible_categories=['Restaurant','Grocery','Hotel'])"
     ],
     "language": "python",
     "metadata": {},
     "outputs": [
      {
       "metadata": {},
       "output_type": "pyout",
       "prompt_number": 192,
       "text": [
        "[('Restaurant', 0.6038683706697648),\n",
        " ('Hotel', 0.11433475333591515),\n",
        " ('Grocery', 0.0082818332396968)]"
       ]
      }
     ],
     "prompt_number": 192
    },
    {
     "cell_type": "code",
     "collapsed": false,
     "input": [],
     "language": "python",
     "metadata": {},
     "outputs": [],
     "prompt_number": 193
    },
    {
     "cell_type": "markdown",
     "metadata": {},
     "source": [
      "#### find a business that wasn't around during training time and sprung up later"
     ]
    },
    {
     "cell_type": "code",
     "collapsed": false,
     "input": [
      "restaurants = LV[['Restaurant' in cats for i, cats in LV['categories'].iteritems()]]"
     ],
     "language": "python",
     "metadata": {},
     "outputs": [],
     "prompt_number": 223
    },
    {
     "cell_type": "code",
     "collapsed": false,
     "input": [
      "from datetime import datetime\n",
      "open_dates = []\n",
      "for i, bus_id in restaurants['business_id'].iteritems():\n",
      "    reviews=rev_data[[bus_id == rev_bus_id for i,rev_bus_id in rev_data['business_id'].iteritems()]]\n",
      "    for _, date in reviews['date'].iteritems():\n",
      "        date = datetime.strptime(date, '%Y-%m-%d')\n",
      "        open_dates.append((date, bus_id))\n",
      "        break"
     ],
     "language": "python",
     "metadata": {},
     "outputs": [
      {
       "ename": "KeyboardInterrupt",
       "evalue": "",
       "output_type": "pyerr",
       "traceback": [
        "\u001b[1;31m---------------------------------------------------------------------------\u001b[0m\n\u001b[1;31mKeyboardInterrupt\u001b[0m                         Traceback (most recent call last)",
        "\u001b[1;32m<ipython-input-239-d6849fd4d4c8>\u001b[0m in \u001b[0;36m<module>\u001b[1;34m()\u001b[0m\n\u001b[0;32m      2\u001b[0m \u001b[0mopen_dates\u001b[0m \u001b[1;33m=\u001b[0m \u001b[1;33m[\u001b[0m\u001b[1;33m]\u001b[0m\u001b[1;33m\u001b[0m\u001b[0m\n\u001b[0;32m      3\u001b[0m \u001b[1;32mfor\u001b[0m \u001b[0mi\u001b[0m\u001b[1;33m,\u001b[0m \u001b[0mbus_id\u001b[0m \u001b[1;32min\u001b[0m \u001b[0mrestaurants\u001b[0m\u001b[1;33m[\u001b[0m\u001b[1;34m'business_id'\u001b[0m\u001b[1;33m]\u001b[0m\u001b[1;33m.\u001b[0m\u001b[0miteritems\u001b[0m\u001b[1;33m(\u001b[0m\u001b[1;33m)\u001b[0m\u001b[1;33m:\u001b[0m\u001b[1;33m\u001b[0m\u001b[0m\n\u001b[1;32m----> 4\u001b[1;33m     \u001b[0mreviews\u001b[0m\u001b[1;33m=\u001b[0m\u001b[0mrev_data\u001b[0m\u001b[1;33m[\u001b[0m\u001b[1;33m[\u001b[0m\u001b[0mbus_id\u001b[0m \u001b[1;33m==\u001b[0m \u001b[0mrev_bus_id\u001b[0m \u001b[1;32mfor\u001b[0m \u001b[0mi\u001b[0m\u001b[1;33m,\u001b[0m\u001b[0mrev_bus_id\u001b[0m \u001b[1;32min\u001b[0m \u001b[0mrev_data\u001b[0m\u001b[1;33m[\u001b[0m\u001b[1;34m'business_id'\u001b[0m\u001b[1;33m]\u001b[0m\u001b[1;33m.\u001b[0m\u001b[0miteritems\u001b[0m\u001b[1;33m(\u001b[0m\u001b[1;33m)\u001b[0m\u001b[1;33m]\u001b[0m\u001b[1;33m]\u001b[0m\u001b[1;33m\u001b[0m\u001b[0m\n\u001b[0m\u001b[0;32m      5\u001b[0m     \u001b[1;32mfor\u001b[0m \u001b[0m_\u001b[0m\u001b[1;33m,\u001b[0m \u001b[0mdate\u001b[0m \u001b[1;32min\u001b[0m \u001b[0mreviews\u001b[0m\u001b[1;33m[\u001b[0m\u001b[1;34m'date'\u001b[0m\u001b[1;33m]\u001b[0m\u001b[1;33m.\u001b[0m\u001b[0miteritems\u001b[0m\u001b[1;33m(\u001b[0m\u001b[1;33m)\u001b[0m\u001b[1;33m:\u001b[0m\u001b[1;33m\u001b[0m\u001b[0m\n\u001b[0;32m      6\u001b[0m         \u001b[0mdate\u001b[0m \u001b[1;33m=\u001b[0m \u001b[0mdatetime\u001b[0m\u001b[1;33m.\u001b[0m\u001b[0mstrptime\u001b[0m\u001b[1;33m(\u001b[0m\u001b[0mdate\u001b[0m\u001b[1;33m,\u001b[0m \u001b[1;34m'%Y-%m-%d'\u001b[0m\u001b[1;33m)\u001b[0m\u001b[1;33m\u001b[0m\u001b[0m\n",
        "\u001b[1;31mKeyboardInterrupt\u001b[0m: "
       ]
      }
     ],
     "prompt_number": 239
    },
    {
     "cell_type": "code",
     "collapsed": false,
     "input": [
      "open_dates"
     ],
     "language": "python",
     "metadata": {},
     "outputs": [
      {
       "metadata": {},
       "output_type": "pyout",
       "prompt_number": 240,
       "text": [
        "[(datetime.datetime(2008, 1, 27, 0, 0), '_SM8UKIwBNbmj1r629ipoQ'),\n",
        " (datetime.datetime(2007, 8, 31, 0, 0), 'l6QcUE8XXLrVH6Ydm4GSNw'),\n",
        " (datetime.datetime(2011, 8, 22, 0, 0), 'AgtFQVxo-PGQVsOdY6Nvdg'),\n",
        " (datetime.datetime(2007, 2, 1, 0, 0), 'muqFM9Hoamh_fGL4MPeZqg'),\n",
        " (datetime.datetime(2006, 9, 11, 0, 0), 'AFDFOs2GaIyUArGyEUDQzQ'),\n",
        " (datetime.datetime(2007, 1, 2, 0, 0), 'FV16IeXJp2W6pnghTz2FAw'),\n",
        " (datetime.datetime(2007, 4, 25, 0, 0), 'cvJDHk1ho0DxaF26etcr8Q'),\n",
        " (datetime.datetime(2009, 10, 5, 0, 0), '10UcN8MF1kQiyTJAfHKvfQ'),\n",
        " (datetime.datetime(2012, 1, 3, 0, 0), 'R5e2XWtpa_CA77MIXEyCTg'),\n",
        " (datetime.datetime(2007, 9, 10, 0, 0), 'CoJivG0wxNIBXyOF7MNqSQ'),\n",
        " (datetime.datetime(2008, 11, 15, 0, 0), 'pCobXgTy6DIfBaT4pjlq0w'),\n",
        " (datetime.datetime(2008, 1, 8, 0, 0), 'qbXEkNp310Mc0CIs0YJdSg'),\n",
        " (datetime.datetime(2009, 3, 7, 0, 0), 'V8id7mkt3nJYOD_HthEn1w'),\n",
        " (datetime.datetime(2009, 8, 5, 0, 0), 'JgpKLikZPbbXYPtILy3-wg'),\n",
        " (datetime.datetime(2007, 3, 15, 0, 0), '9-O8qKGQQCYXdBlj4iv7bw'),\n",
        " (datetime.datetime(2007, 2, 18, 0, 0), 'PsOvURXqpy8iZX2J8y429A'),\n",
        " (datetime.datetime(2007, 2, 3, 0, 0), 'Yq8LiVymGA7vBpGCQuDfRw'),\n",
        " (datetime.datetime(2008, 1, 12, 0, 0), 'nzQJqTrcazg23EjdaHgqDg'),\n",
        " (datetime.datetime(2007, 2, 4, 0, 0), 'UKKz4HdQC0aH9j5lLi4u8Q'),\n",
        " (datetime.datetime(2008, 11, 22, 0, 0), 'A2aVN_Yw3xDz4x7gGtmYog'),\n",
        " (datetime.datetime(2008, 11, 16, 0, 0), 'euGwFsKJAkkO7kdgOkT9qg')]"
       ]
      }
     ],
     "prompt_number": 240
    },
    {
     "cell_type": "code",
     "collapsed": false,
     "input": [
      "r = restaurants[restaurants['business_id']=='R5e2XWtpa_CA77MIXEyCTg']"
     ],
     "language": "python",
     "metadata": {},
     "outputs": [],
     "prompt_number": 242
    },
    {
     "cell_type": "code",
     "collapsed": false,
     "input": [
      "latitude = r['latitude']\n",
      "longitude = r['longitude']"
     ],
     "language": "python",
     "metadata": {},
     "outputs": [],
     "prompt_number": 243
    },
    {
     "cell_type": "code",
     "collapsed": false,
     "input": [
      "print latitude\n",
      "print longitude"
     ],
     "language": "python",
     "metadata": {},
     "outputs": [
      {
       "output_type": "stream",
       "stream": "stdout",
       "text": [
        "5344    36.130335\n",
        "Name: latitude, dtype: float64\n",
        "5344   -115.206002\n",
        "Name: longitude, dtype: float64\n"
       ]
      }
     ],
     "prompt_number": 251
    },
    {
     "cell_type": "code",
     "collapsed": false,
     "input": [
      "r['review_count']"
     ],
     "language": "python",
     "metadata": {},
     "outputs": [
      {
       "metadata": {},
       "output_type": "pyout",
       "prompt_number": 246,
       "text": [
        "5344    5\n",
        "Name: review_count, dtype: int64"
       ]
      }
     ],
     "prompt_number": 246
    },
    {
     "cell_type": "code",
     "collapsed": false,
     "input": [],
     "language": "python",
     "metadata": {},
     "outputs": []
    }
   ],
   "metadata": {}
  }
 ]
}