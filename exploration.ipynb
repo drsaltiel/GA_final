{
 "metadata": {
  "name": "",
  "signature": "sha256:6e42720eab9798949f1f7a999d931292b54c7d293a9577a07517e3f3e9eaa870"
 },
 "nbformat": 3,
 "nbformat_minor": 0,
 "worksheets": [
  {
   "cells": [
    {
     "cell_type": "markdown",
     "metadata": {},
     "source": [
      "#### Just some data exploration"
     ]
    },
    {
     "cell_type": "code",
     "collapsed": false,
     "input": [
      "import pandas as pd\n",
      "import json"
     ],
     "language": "python",
     "metadata": {},
     "outputs": [],
     "prompt_number": 3
    },
    {
     "cell_type": "code",
     "collapsed": false,
     "input": [
      "data = pd.DataFrame(columns = ['categories'])\n",
      "with open('yelp_academic_dataset_business.json') as src:\n",
      "    i=0\n",
      "    for line in src:\n",
      "#         bus = pd.read_json(line)\n",
      "        bus_json = json.loads(line)\n",
      "#         print line\n",
      "        if 'business' in bus_json['type']  and  bus_json['review_count']>10: #and bus_json['city'] == 'Pheonix':\n",
      "#             print bus_json['categories']\n",
      "            data[bus_json['business_id']] = [bus_json['categories']]\n",
      "#             data[bus_json['business_id']]['stars'] = [bus_json['stars']]\n",
      "#             data[bus_json['business_id']]['reviews'] = [bus_json['reviews']]\n",
      "            i+=1\n",
      "            break\n",
      "        \n",
      "print data"
     ],
     "language": "python",
     "metadata": {},
     "outputs": [
      {
       "output_type": "stream",
       "stream": "stdout",
       "text": [
        "  categories JwUE5GmEO-sH1FuwJgKBlQ\n",
        "0        NaN          [Restaurants]\n"
       ]
      }
     ],
     "prompt_number": 7
    },
    {
     "cell_type": "code",
     "collapsed": false,
     "input": [
      "with open('yelp_academic_dataset_user.json') as src:\n",
      "    i=0\n",
      "    for line in src:\n",
      "#         bus = pd.read_json(line)\n",
      "        bus_json = json.loads(line)\n",
      "#         print line\n",
      "        print bus_json\n",
      "        break\n",
      "\n",
      "#         print bus_json"
     ],
     "language": "python",
     "metadata": {},
     "outputs": [
      {
       "output_type": "stream",
       "stream": "stdout",
       "text": [
        "{u'yelping_since': u'2012-02', u'votes': {u'funny': 1, u'useful': 5, u'cool': 0}, u'user_id': u'qtrmBGNqCvupHMHL_bKFgQ', u'name': u'Lee', u'elite': [], u'type': u'user', u'compliments': {}, u'fans': 0, u'average_stars': 3.83, u'review_count': 6, u'friends': []}\n"
       ]
      }
     ],
     "prompt_number": 8
    },
    {
     "cell_type": "code",
     "collapsed": false,
     "input": [
      "#select location + attributes for specific city\n",
      "n = 100\n",
      "state = 'AZ'\n",
      "features = ['id', 'stars','location','neighborhoods']\n",
      "city_data = pd.DataFrame(columns = features)\n",
      "with open('yelp_academic_dataset_business.json') as src:\n",
      "    i=0\n",
      "    for line in src:\n",
      "        while i < n:\n",
      "            \n",
      "            bus_json = json.loads(line)\n",
      "            if bus_json['state'] == state:\n",
      "                \n",
      "                city_data['id'] = bus_json['business_id']\n",
      "                city_data['stars'] = bus_json['stars']\n",
      "                city_data['location'] = (bus_json['latitude'],bus_json['longitude'])\n",
      "                city_data['latitude'] = bus_json['latitude']\n",
      "                city_data['longitude'] = bus_json['longitude']\n",
      "#                 city_data['neighborhoods'] = [i for i in bus_json['neighborhoods']]\n",
      "                i+=1\n",
      "        break\n",
      "#             else: continue\n",
      "        \n",
      "city_data.head()"
     ],
     "language": "python",
     "metadata": {},
     "outputs": [
      {
       "html": [
        "<div style=\"max-height:1000px;max-width:1500px;overflow:auto;\">\n",
        "<table border=\"1\" class=\"dataframe\">\n",
        "  <thead>\n",
        "    <tr style=\"text-align: right;\">\n",
        "      <th></th>\n",
        "      <th>id</th>\n",
        "      <th>stars</th>\n",
        "      <th>location</th>\n",
        "      <th>neighborhoods</th>\n",
        "      <th>latitude</th>\n",
        "      <th>longitude</th>\n",
        "    </tr>\n",
        "  </thead>\n",
        "  <tbody>\n",
        "    <tr>\n",
        "      <th>0</th>\n",
        "      <td> vcNAWiLM4dR7D2nwwJ7nCA</td>\n",
        "      <td> 3.5</td>\n",
        "      <td>  33.499313</td>\n",
        "      <td> NaN</td>\n",
        "      <td> 33.499313</td>\n",
        "      <td>-111.983758</td>\n",
        "    </tr>\n",
        "    <tr>\n",
        "      <th>1</th>\n",
        "      <td> vcNAWiLM4dR7D2nwwJ7nCA</td>\n",
        "      <td> 3.5</td>\n",
        "      <td>-111.983758</td>\n",
        "      <td> NaN</td>\n",
        "      <td> 33.499313</td>\n",
        "      <td>-111.983758</td>\n",
        "    </tr>\n",
        "  </tbody>\n",
        "</table>\n",
        "</div>"
       ],
       "metadata": {},
       "output_type": "pyout",
       "prompt_number": 9,
       "text": [
        "                       id  stars    location neighborhoods   latitude  \\\n",
        "0  vcNAWiLM4dR7D2nwwJ7nCA    3.5   33.499313           NaN  33.499313   \n",
        "1  vcNAWiLM4dR7D2nwwJ7nCA    3.5 -111.983758           NaN  33.499313   \n",
        "\n",
        "    longitude  \n",
        "0 -111.983758  \n",
        "1 -111.983758  "
       ]
      }
     ],
     "prompt_number": 9
    },
    {
     "cell_type": "code",
     "collapsed": false,
     "input": [
      "# n=10\n",
      "# with open('yelp_academic_dataset_business.json') as src:\n",
      "#     i=0\n",
      "#     for line in src:\n",
      "#         while i < n:\n",
      "#             print json.loads(line)\n",
      "#             i+=1"
     ],
     "language": "python",
     "metadata": {},
     "outputs": [],
     "prompt_number": 10
    },
    {
     "cell_type": "code",
     "collapsed": false,
     "input": [
      "data=pd.read_csv('yelp_academic_dataset_business.csv')"
     ],
     "language": "python",
     "metadata": {},
     "outputs": [
      {
       "output_type": "stream",
       "stream": "stderr",
       "text": [
        "/home/daniel/anaconda/lib/python2.7/site-packages/pandas/io/parsers.py:1139: DtypeWarning: Columns (1,4,7,14,18,21,27,30,43,49,52,62,64,66,70,84,89,92,100) have mixed types. Specify dtype option on import or set low_memory=False.\n",
        "  data = self._reader.read(nrows)\n"
       ]
      }
     ],
     "prompt_number": 4
    },
    {
     "cell_type": "code",
     "collapsed": false,
     "input": [
      "[data.columns]"
     ],
     "language": "python",
     "metadata": {},
     "outputs": [
      {
       "metadata": {},
       "output_type": "pyout",
       "prompt_number": 88,
       "text": [
        "[Index([u'attributes.Ambience.divey', u'attributes.Dietary Restrictions.vegan', u'attributes.Happy Hour', u'hours.Thursday.open', u'attributes.Order at Counter', u'attributes.Hair Types Specialized In.africanamerican', u'attributes.Hair Types Specialized In.kids', u'attributes.BYOB', u'hours.Friday.open', u'categories', u'latitude', u'attributes.Outdoor Seating', u'attributes.Alcohol', u'attributes.Ambience.classy', u'attributes.Payment Types.mastercard', u'attributes.Parking.lot', u'business_id', u'attributes.Ambience.touristy', u'attributes.Corkage', u'hours.Tuesday.open', u'attributes.Good For.brunch', u'attributes.Payment Types.amex', u'name', u'hours.Monday.open', u'attributes.Waiter Service', u'attributes.Parking.street', u'attributes.Ambience.hipster', u'attributes.BYOB/Corkage', u'attributes.Hair Types Specialized In.straightperms', u'attributes.Music.live', u'attributes.Dietary Restrictions.dairy-free', u'attributes.Music.background_music', u'attributes.Price Range', u'attributes.Good For.breakfast', u'attributes.Parking.garage', u'attributes.Music.karaoke', u'attributes.Good For Dancing', u'review_count', u'attributes.Hair Types Specialized In.asian', u'state', u'attributes.Accepts Credit Cards', u'hours.Friday.close', u'attributes.Good For.lunch', u'attributes.Good For Kids', u'attributes.Parking.valet', u'attributes.Take-out', u'full_address', u'hours.Thursday.close', u'attributes.Hair Types Specialized In.coloring', u'attributes.Payment Types.cash_only', u'attributes.Good For.dessert', u'attributes.Music.video', u'attributes.Dietary Restrictions.halal', u'attributes.Takes Reservations', u'hours.Saturday.open', u'attributes.Ages Allowed', u'attributes.Ambience.trendy', u'attributes.Delivery', u'hours.Wednesday.close', u'attributes.Wi-Fi', u'open', u'city', u'attributes.Payment Types.discover', u'attributes.Wheelchair Accessible', u'attributes.Dietary Restrictions.gluten-free', u'stars', u'attributes.Payment Types.visa', u'type', u'attributes.Caters', u'attributes.Ambience.intimate', u'attributes.Music.playlist', u'attributes.Good For.latenight', u'attributes.Good For.dinner', u'attributes.Coat Check', u'longitude', u'hours.Monday.close', u'attributes.Hair Types Specialized In.extensions', u'hours.Tuesday.close', u'hours.Saturday.close', u'attributes.Good for Kids', u'attributes.Parking.validated', u'hours.Sunday.open', u'attributes.Accepts Insurance', u'attributes.Music.dj', u'attributes.Dietary Restrictions.soy-free', u'attributes.Has TV', u'hours.Sunday.close', u'attributes.Ambience.casual', u'attributes.By Appointment Only', u'attributes.Dietary Restrictions.kosher', u'attributes.Dogs Allowed', u'attributes.Drive-Thru', u'attributes.Dietary Restrictions.vegetarian', u'hours.Wednesday.open', u'attributes.Noise Level', u'attributes.Smoking', u'attributes.Attire', u'attributes.Hair Types Specialized In.curly', u'attributes.Good For Groups', u'neighborhoods', ...], dtype='object')]"
       ]
      }
     ],
     "prompt_number": 88
    },
    {
     "cell_type": "code",
     "collapsed": false,
     "input": [
      "data.head()"
     ],
     "language": "python",
     "metadata": {},
     "outputs": [
      {
       "html": [
        "<div style=\"max-height:1000px;max-width:1500px;overflow:auto;\">\n",
        "<table border=\"1\" class=\"dataframe\">\n",
        "  <thead>\n",
        "    <tr style=\"text-align: right;\">\n",
        "      <th></th>\n",
        "      <th>attributes.Ambience.divey</th>\n",
        "      <th>attributes.Dietary Restrictions.vegan</th>\n",
        "      <th>attributes.Happy Hour</th>\n",
        "      <th>hours.Thursday.open</th>\n",
        "      <th>attributes.Order at Counter</th>\n",
        "      <th>attributes.Hair Types Specialized In.africanamerican</th>\n",
        "      <th>attributes.Hair Types Specialized In.kids</th>\n",
        "      <th>attributes.BYOB</th>\n",
        "      <th>hours.Friday.open</th>\n",
        "      <th>categories</th>\n",
        "      <th>...</th>\n",
        "      <th>attributes.Smoking</th>\n",
        "      <th>attributes.Attire</th>\n",
        "      <th>attributes.Hair Types Specialized In.curly</th>\n",
        "      <th>attributes.Good For Groups</th>\n",
        "      <th>neighborhoods</th>\n",
        "      <th>attributes.Open 24 Hours</th>\n",
        "      <th>attributes.Ambience.romantic</th>\n",
        "      <th>attributes.Hair Types Specialized In.perms</th>\n",
        "      <th>attributes.Music.jukebox</th>\n",
        "      <th>attributes.Ambience.upscale</th>\n",
        "    </tr>\n",
        "  </thead>\n",
        "  <tbody>\n",
        "    <tr>\n",
        "      <th>0</th>\n",
        "      <td>   NaN</td>\n",
        "      <td> NaN</td>\n",
        "      <td> NaN</td>\n",
        "      <td> 08:00</td>\n",
        "      <td> NaN</td>\n",
        "      <td> NaN</td>\n",
        "      <td> NaN</td>\n",
        "      <td> NaN</td>\n",
        "      <td> 08:00</td>\n",
        "      <td>                   ['Doctors', 'Health &amp; Medical']</td>\n",
        "      <td>...</td>\n",
        "      <td> NaN</td>\n",
        "      <td>    NaN</td>\n",
        "      <td> NaN</td>\n",
        "      <td>  NaN</td>\n",
        "      <td> []</td>\n",
        "      <td> NaN</td>\n",
        "      <td>   NaN</td>\n",
        "      <td> NaN</td>\n",
        "      <td> NaN</td>\n",
        "      <td>   NaN</td>\n",
        "    </tr>\n",
        "    <tr>\n",
        "      <th>1</th>\n",
        "      <td> False</td>\n",
        "      <td> NaN</td>\n",
        "      <td> NaN</td>\n",
        "      <td>   NaN</td>\n",
        "      <td> NaN</td>\n",
        "      <td> NaN</td>\n",
        "      <td> NaN</td>\n",
        "      <td> NaN</td>\n",
        "      <td>   NaN</td>\n",
        "      <td>                                   ['Restaurants']</td>\n",
        "      <td>...</td>\n",
        "      <td> NaN</td>\n",
        "      <td> casual</td>\n",
        "      <td> NaN</td>\n",
        "      <td> True</td>\n",
        "      <td> []</td>\n",
        "      <td> NaN</td>\n",
        "      <td> False</td>\n",
        "      <td> NaN</td>\n",
        "      <td> NaN</td>\n",
        "      <td> False</td>\n",
        "    </tr>\n",
        "    <tr>\n",
        "      <th>2</th>\n",
        "      <td> False</td>\n",
        "      <td> NaN</td>\n",
        "      <td> NaN</td>\n",
        "      <td> 06:00</td>\n",
        "      <td> NaN</td>\n",
        "      <td> NaN</td>\n",
        "      <td> NaN</td>\n",
        "      <td> NaN</td>\n",
        "      <td> 06:00</td>\n",
        "      <td>         ['American (Traditional)', 'Restaurants']</td>\n",
        "      <td>...</td>\n",
        "      <td> NaN</td>\n",
        "      <td> casual</td>\n",
        "      <td> NaN</td>\n",
        "      <td> True</td>\n",
        "      <td> []</td>\n",
        "      <td> NaN</td>\n",
        "      <td> False</td>\n",
        "      <td> NaN</td>\n",
        "      <td> NaN</td>\n",
        "      <td> False</td>\n",
        "    </tr>\n",
        "    <tr>\n",
        "      <th>3</th>\n",
        "      <td>   NaN</td>\n",
        "      <td> NaN</td>\n",
        "      <td> NaN</td>\n",
        "      <td> 10:30</td>\n",
        "      <td> NaN</td>\n",
        "      <td> NaN</td>\n",
        "      <td> NaN</td>\n",
        "      <td> NaN</td>\n",
        "      <td> 10:30</td>\n",
        "      <td> ['Food', 'Ice Cream &amp; Frozen Yogurt', 'Fast Fo...</td>\n",
        "      <td>...</td>\n",
        "      <td> NaN</td>\n",
        "      <td> casual</td>\n",
        "      <td> NaN</td>\n",
        "      <td> True</td>\n",
        "      <td> []</td>\n",
        "      <td> NaN</td>\n",
        "      <td>   NaN</td>\n",
        "      <td> NaN</td>\n",
        "      <td> NaN</td>\n",
        "      <td>   NaN</td>\n",
        "    </tr>\n",
        "    <tr>\n",
        "      <th>4</th>\n",
        "      <td>   NaN</td>\n",
        "      <td> NaN</td>\n",
        "      <td> NaN</td>\n",
        "      <td> 11:00</td>\n",
        "      <td> NaN</td>\n",
        "      <td> NaN</td>\n",
        "      <td> NaN</td>\n",
        "      <td> NaN</td>\n",
        "      <td> 11:00</td>\n",
        "      <td>                        ['Chinese', 'Restaurants']</td>\n",
        "      <td>...</td>\n",
        "      <td> NaN</td>\n",
        "      <td> casual</td>\n",
        "      <td> NaN</td>\n",
        "      <td>  NaN</td>\n",
        "      <td> []</td>\n",
        "      <td> NaN</td>\n",
        "      <td>   NaN</td>\n",
        "      <td> NaN</td>\n",
        "      <td> NaN</td>\n",
        "      <td>   NaN</td>\n",
        "    </tr>\n",
        "  </tbody>\n",
        "</table>\n",
        "<p>5 rows \u00d7 105 columns</p>\n",
        "</div>"
       ],
       "metadata": {},
       "output_type": "pyout",
       "prompt_number": 12,
       "text": [
        "  attributes.Ambience.divey attributes.Dietary Restrictions.vegan  \\\n",
        "0                       NaN                                   NaN   \n",
        "1                     False                                   NaN   \n",
        "2                     False                                   NaN   \n",
        "3                       NaN                                   NaN   \n",
        "4                       NaN                                   NaN   \n",
        "\n",
        "  attributes.Happy Hour hours.Thursday.open attributes.Order at Counter  \\\n",
        "0                   NaN               08:00                         NaN   \n",
        "1                   NaN                 NaN                         NaN   \n",
        "2                   NaN               06:00                         NaN   \n",
        "3                   NaN               10:30                         NaN   \n",
        "4                   NaN               11:00                         NaN   \n",
        "\n",
        "  attributes.Hair Types Specialized In.africanamerican  \\\n",
        "0                                                NaN     \n",
        "1                                                NaN     \n",
        "2                                                NaN     \n",
        "3                                                NaN     \n",
        "4                                                NaN     \n",
        "\n",
        "  attributes.Hair Types Specialized In.kids attributes.BYOB hours.Friday.open  \\\n",
        "0                                       NaN             NaN             08:00   \n",
        "1                                       NaN             NaN               NaN   \n",
        "2                                       NaN             NaN             06:00   \n",
        "3                                       NaN             NaN             10:30   \n",
        "4                                       NaN             NaN             11:00   \n",
        "\n",
        "                                          categories  \\\n",
        "0                    ['Doctors', 'Health & Medical']   \n",
        "1                                    ['Restaurants']   \n",
        "2          ['American (Traditional)', 'Restaurants']   \n",
        "3  ['Food', 'Ice Cream & Frozen Yogurt', 'Fast Fo...   \n",
        "4                         ['Chinese', 'Restaurants']   \n",
        "\n",
        "                         ...                          attributes.Smoking  \\\n",
        "0                        ...                                         NaN   \n",
        "1                        ...                                         NaN   \n",
        "2                        ...                                         NaN   \n",
        "3                        ...                                         NaN   \n",
        "4                        ...                                         NaN   \n",
        "\n",
        "  attributes.Attire attributes.Hair Types Specialized In.curly  \\\n",
        "0               NaN                                        NaN   \n",
        "1            casual                                        NaN   \n",
        "2            casual                                        NaN   \n",
        "3            casual                                        NaN   \n",
        "4            casual                                        NaN   \n",
        "\n",
        "  attributes.Good For Groups neighborhoods attributes.Open 24 Hours  \\\n",
        "0                        NaN            []                      NaN   \n",
        "1                       True            []                      NaN   \n",
        "2                       True            []                      NaN   \n",
        "3                       True            []                      NaN   \n",
        "4                        NaN            []                      NaN   \n",
        "\n",
        "  attributes.Ambience.romantic attributes.Hair Types Specialized In.perms  \\\n",
        "0                          NaN                                        NaN   \n",
        "1                        False                                        NaN   \n",
        "2                        False                                        NaN   \n",
        "3                          NaN                                        NaN   \n",
        "4                          NaN                                        NaN   \n",
        "\n",
        "  attributes.Music.jukebox attributes.Ambience.upscale  \n",
        "0                      NaN                         NaN  \n",
        "1                      NaN                       False  \n",
        "2                      NaN                       False  \n",
        "3                      NaN                         NaN  \n",
        "4                      NaN                         NaN  \n",
        "\n",
        "[5 rows x 105 columns]"
       ]
      }
     ],
     "prompt_number": 12
    },
    {
     "cell_type": "code",
     "collapsed": false,
     "input": [],
     "language": "python",
     "metadata": {},
     "outputs": [],
     "prompt_number": 193
    },
    {
     "cell_type": "code",
     "collapsed": false,
     "input": [
      "len(data)"
     ],
     "language": "python",
     "metadata": {},
     "outputs": [
      {
       "metadata": {},
       "output_type": "pyout",
       "prompt_number": 14,
       "text": [
        "42153"
       ]
      }
     ],
     "prompt_number": 14
    },
    {
     "cell_type": "code",
     "collapsed": false,
     "input": [],
     "language": "python",
     "metadata": {},
     "outputs": [],
     "prompt_number": 148
    },
    {
     "cell_type": "code",
     "collapsed": false,
     "input": [
      "len(data['city'] == 'Las Vegas')"
     ],
     "language": "python",
     "metadata": {},
     "outputs": [
      {
       "metadata": {},
       "output_type": "pyout",
       "prompt_number": 16,
       "text": [
        "42153"
       ]
      }
     ],
     "prompt_number": 16
    },
    {
     "cell_type": "code",
     "collapsed": false,
     "input": [
      "len(data[data['city']== 'Las Vegas']) + \\\n",
      "    len(data[data['city']=='Phoenix'])+ \\\n",
      "    len(data[data['city']=='Waterloo'])+ \\\n",
      "    len(data[data['city']=='Madison'])+\\\n",
      "    len(data[data['city']=='Edinburgh'])"
     ],
     "language": "python",
     "metadata": {},
     "outputs": [
      {
       "metadata": {},
       "output_type": "pyout",
       "prompt_number": 17,
       "text": [
        "24202"
       ]
      }
     ],
     "prompt_number": 17
    },
    {
     "cell_type": "code",
     "collapsed": false,
     "input": [
      "len(data[data['city']=='Edinburgh'])"
     ],
     "language": "python",
     "metadata": {},
     "outputs": [
      {
       "metadata": {},
       "output_type": "pyout",
       "prompt_number": 18,
       "text": [
        "2887"
       ]
      }
     ],
     "prompt_number": 18
    },
    {
     "cell_type": "code",
     "collapsed": false,
     "input": [
      "len(data[data['city']=='Phoenix'])"
     ],
     "language": "python",
     "metadata": {},
     "outputs": [
      {
       "metadata": {},
       "output_type": "pyout",
       "prompt_number": 19,
       "text": [
        "7499"
       ]
      }
     ],
     "prompt_number": 19
    },
    {
     "cell_type": "code",
     "collapsed": false,
     "input": [
      "LV = data[data['city']== 'Las Vegas']\n",
      "PH = data[data['city']== 'Phoenix']\n",
      "ED = data[data['city']== 'Edinburgh']\n",
      "WL = data[data['city']== 'Waterloo']\n",
      "MD = data[data['city']== 'Madison']"
     ],
     "language": "python",
     "metadata": {},
     "outputs": [],
     "prompt_number": 5
    },
    {
     "cell_type": "code",
     "collapsed": false,
     "input": [
      "LV.info()"
     ],
     "language": "python",
     "metadata": {},
     "outputs": [
      {
       "output_type": "stream",
       "stream": "stdout",
       "text": [
        "<class 'pandas.core.frame.DataFrame'>\n",
        "Int64Index: 12022 entries, 4831 to 42148\n",
        "Columns: 105 entries, attributes.Ambience.divey to attributes.Ambience.upscale\n",
        "dtypes: bool(1), float64(4), int64(1), object(99)"
       ]
      }
     ],
     "prompt_number": 21
    },
    {
     "cell_type": "markdown",
     "metadata": {},
     "source": [
      "### Plotting Exploration"
     ]
    },
    {
     "cell_type": "code",
     "collapsed": false,
     "input": [
      "import matplotlib.pyplot as plt\n",
      "%matplotlib inline"
     ],
     "language": "python",
     "metadata": {},
     "outputs": [],
     "prompt_number": 22
    },
    {
     "cell_type": "code",
     "collapsed": false,
     "input": [
      "x_LV = LV['latitude']\n",
      "y_LV = LV['longitude']"
     ],
     "language": "python",
     "metadata": {},
     "outputs": [],
     "prompt_number": 23
    },
    {
     "cell_type": "code",
     "collapsed": false,
     "input": [
      "plt.plot(x_LV,y_LV, '.')"
     ],
     "language": "python",
     "metadata": {},
     "outputs": [
      {
       "metadata": {},
       "output_type": "pyout",
       "prompt_number": 24,
       "text": [
        "[<matplotlib.lines.Line2D at 0x7fa8715e7490>]"
       ]
      },
      {
       "metadata": {},
       "output_type": "display_data",
       "png": "[encoded data removed]",
       "text": [
        "<matplotlib.figure.Figure at 0x7fa871c71a10>"
       ]
      }
     ],
     "prompt_number": 24
    },
    {
     "cell_type": "code",
     "collapsed": false,
     "input": [
      "x_ED = ED['latitude']\n",
      "y_ED = ED['longitude']\n",
      "plt.plot(x_ED,y_ED, '.')"
     ],
     "language": "python",
     "metadata": {},
     "outputs": [
      {
       "metadata": {},
       "output_type": "pyout",
       "prompt_number": 25,
       "text": [
        "[<matplotlib.lines.Line2D at 0x7fa8714d06d0>]"
       ]
      },
      {
       "metadata": {},
       "output_type": "display_data",
       "png": "[encoded data removed]",
       "text": [
        "<matplotlib.figure.Figure at 0x7fa87161fad0>"
       ]
      }
     ],
     "prompt_number": 25
    },
    {
     "cell_type": "code",
     "collapsed": false,
     "input": [
      "x_PH = PH['latitude']\n",
      "y_PH = PH['longitude']\n",
      "plt.plot(x_PH,y_PH, '.')"
     ],
     "language": "python",
     "metadata": {},
     "outputs": [
      {
       "metadata": {},
       "output_type": "pyout",
       "prompt_number": 26,
       "text": [
        "[<matplotlib.lines.Line2D at 0x7fa8714133d0>]"
       ]
      },
      {
       "metadata": {},
       "output_type": "display_data",
       "png": "[encoded data removed]",
       "text": [
        "<matplotlib.figure.Figure at 0x7fa8714e7190>"
       ]
      }
     ],
     "prompt_number": 26
    },
    {
     "cell_type": "code",
     "collapsed": false,
     "input": [
      "x_WL = WL['latitude']\n",
      "y_WL = WL['longitude']\n",
      "plt.plot(x_WL,y_WL, '.')"
     ],
     "language": "python",
     "metadata": {},
     "outputs": [
      {
       "metadata": {},
       "output_type": "pyout",
       "prompt_number": 27,
       "text": [
        "[<matplotlib.lines.Line2D at 0x7fa87134e0d0>]"
       ]
      },
      {
       "metadata": {},
       "output_type": "display_data",
       "png": "[encoded data removed]",
       "text": [
        "<matplotlib.figure.Figure at 0x7fa8714dd3d0>"
       ]
      }
     ],
     "prompt_number": 27
    },
    {
     "cell_type": "code",
     "collapsed": false,
     "input": [
      "x_MD = MD['latitude']\n",
      "y_MD = MD['longitude']\n",
      "plt.plot(x_MD,y_MD, '.')"
     ],
     "language": "python",
     "metadata": {},
     "outputs": [
      {
       "metadata": {},
       "output_type": "pyout",
       "prompt_number": 28,
       "text": [
        "[<matplotlib.lines.Line2D at 0x7fa871302c10>]"
       ]
      },
      {
       "metadata": {},
       "output_type": "display_data",
       "png": "[encoded data removed]",
       "text": [
        "<matplotlib.figure.Figure at 0x7fa8713672d0>"
       ]
      }
     ],
     "prompt_number": 28
    },
    {
     "cell_type": "markdown",
     "metadata": {},
     "source": [
      "### Neighborhood Exploration"
     ]
    },
    {
     "cell_type": "code",
     "collapsed": false,
     "input": [
      "set(LV['neighborhoods'])"
     ],
     "language": "python",
     "metadata": {},
     "outputs": [
      {
       "metadata": {},
       "output_type": "pyout",
       "prompt_number": 29,
       "text": [
        "{\"['Anthem']\",\n",
        " \"['Centennial']\",\n",
        " \"['Chinatown', 'Westside']\",\n",
        " \"['Chinatown']\",\n",
        " \"['Downtown', 'The Strip']\",\n",
        " \"['Downtown']\",\n",
        " \"['Eastside', 'Downtown']\",\n",
        " \"['Eastside', 'Southeast', 'University']\",\n",
        " \"['Eastside', 'Southeast']\",\n",
        " \"['Eastside', 'The Strip']\",\n",
        " \"['Eastside', 'University']\",\n",
        " \"['Eastside']\",\n",
        " \"['Northwest', 'Centennial']\",\n",
        " \"['Northwest']\",\n",
        " \"['South Summerlin', 'Spring Valley']\",\n",
        " \"['South Summerlin']\",\n",
        " \"['Southeast', 'Anthem']\",\n",
        " \"['Southeast', 'Eastside']\",\n",
        " \"['Southeast', 'Southwest']\",\n",
        " \"['Southeast', 'University']\",\n",
        " \"['Southeast']\",\n",
        " \"['Southwest', 'Spring Valley']\",\n",
        " \"['Southwest']\",\n",
        " \"['Spring Valley']\",\n",
        " \"['Summerlin', 'Northwest']\",\n",
        " \"['Summerlin', 'South Summerlin']\",\n",
        " \"['Summerlin']\",\n",
        " \"['Sunrise']\",\n",
        " \"['The Lakes', 'Spring Valley']\",\n",
        " \"['The Lakes']\",\n",
        " \"['The Strip']\",\n",
        " \"['University']\",\n",
        " \"['Westside', 'South Summerlin']\",\n",
        " \"['Westside', 'Spring Valley']\",\n",
        " \"['Westside', 'Summerlin', 'South Summerlin']\",\n",
        " \"['Westside', 'Summerlin']\",\n",
        " \"['Westside', 'The Lakes']\",\n",
        " \"['Westside']\",\n",
        " '[]'}"
       ]
      }
     ],
     "prompt_number": 29
    },
    {
     "cell_type": "code",
     "collapsed": false,
     "input": [
      "import ast\n",
      "ast.literal_eval(\"['Westside', 'Summerlin', 'South Summerlin']\")"
     ],
     "language": "python",
     "metadata": {},
     "outputs": [
      {
       "metadata": {},
       "output_type": "pyout",
       "prompt_number": 126,
       "text": [
        "['Westside', 'Summerlin', 'South Summerlin']"
       ]
      }
     ],
     "prompt_number": 126
    },
    {
     "cell_type": "code",
     "collapsed": false,
     "input": [
      "LV[LV['neighborhoods'] == \"['Sunrise']\"].head()"
     ],
     "language": "python",
     "metadata": {},
     "outputs": [
      {
       "html": [
        "<div style=\"max-height:1000px;max-width:1500px;overflow:auto;\">\n",
        "<table border=\"1\" class=\"dataframe\">\n",
        "  <thead>\n",
        "    <tr style=\"text-align: right;\">\n",
        "      <th></th>\n",
        "      <th>attributes.Ambience.divey</th>\n",
        "      <th>attributes.Dietary Restrictions.vegan</th>\n",
        "      <th>attributes.Happy Hour</th>\n",
        "      <th>hours.Thursday.open</th>\n",
        "      <th>attributes.Order at Counter</th>\n",
        "      <th>attributes.Hair Types Specialized In.africanamerican</th>\n",
        "      <th>attributes.Hair Types Specialized In.kids</th>\n",
        "      <th>attributes.BYOB</th>\n",
        "      <th>hours.Friday.open</th>\n",
        "      <th>categories</th>\n",
        "      <th>...</th>\n",
        "      <th>attributes.Smoking</th>\n",
        "      <th>attributes.Attire</th>\n",
        "      <th>attributes.Hair Types Specialized In.curly</th>\n",
        "      <th>attributes.Good For Groups</th>\n",
        "      <th>neighborhoods</th>\n",
        "      <th>attributes.Open 24 Hours</th>\n",
        "      <th>attributes.Ambience.romantic</th>\n",
        "      <th>attributes.Hair Types Specialized In.perms</th>\n",
        "      <th>attributes.Music.jukebox</th>\n",
        "      <th>attributes.Ambience.upscale</th>\n",
        "    </tr>\n",
        "  </thead>\n",
        "  <tbody>\n",
        "    <tr>\n",
        "      <th>5586</th>\n",
        "      <td> NaN</td>\n",
        "      <td> NaN</td>\n",
        "      <td> NaN</td>\n",
        "      <td>   NaN</td>\n",
        "      <td> NaN</td>\n",
        "      <td> NaN</td>\n",
        "      <td> NaN</td>\n",
        "      <td> NaN</td>\n",
        "      <td>   NaN</td>\n",
        "      <td>                     ['Sandwiches', 'Restaurants']</td>\n",
        "      <td>...</td>\n",
        "      <td> NaN</td>\n",
        "      <td>    NaN</td>\n",
        "      <td> NaN</td>\n",
        "      <td>  NaN</td>\n",
        "      <td> ['Sunrise']</td>\n",
        "      <td> NaN</td>\n",
        "      <td> NaN</td>\n",
        "      <td> NaN</td>\n",
        "      <td> NaN</td>\n",
        "      <td> NaN</td>\n",
        "    </tr>\n",
        "    <tr>\n",
        "      <th>5616</th>\n",
        "      <td> NaN</td>\n",
        "      <td> NaN</td>\n",
        "      <td> NaN</td>\n",
        "      <td>   NaN</td>\n",
        "      <td> NaN</td>\n",
        "      <td> NaN</td>\n",
        "      <td> NaN</td>\n",
        "      <td> NaN</td>\n",
        "      <td>   NaN</td>\n",
        "      <td>                         ['Diners', 'Restaurants']</td>\n",
        "      <td>...</td>\n",
        "      <td> NaN</td>\n",
        "      <td> casual</td>\n",
        "      <td> NaN</td>\n",
        "      <td> True</td>\n",
        "      <td> ['Sunrise']</td>\n",
        "      <td> NaN</td>\n",
        "      <td> NaN</td>\n",
        "      <td> NaN</td>\n",
        "      <td> NaN</td>\n",
        "      <td> NaN</td>\n",
        "    </tr>\n",
        "    <tr>\n",
        "      <th>5653</th>\n",
        "      <td> NaN</td>\n",
        "      <td> NaN</td>\n",
        "      <td> NaN</td>\n",
        "      <td> 08:00</td>\n",
        "      <td> NaN</td>\n",
        "      <td> NaN</td>\n",
        "      <td> NaN</td>\n",
        "      <td> NaN</td>\n",
        "      <td> 08:00</td>\n",
        "      <td>                         ['Veterinarians', 'Pets']</td>\n",
        "      <td>...</td>\n",
        "      <td> NaN</td>\n",
        "      <td>    NaN</td>\n",
        "      <td> NaN</td>\n",
        "      <td>  NaN</td>\n",
        "      <td> ['Sunrise']</td>\n",
        "      <td> NaN</td>\n",
        "      <td> NaN</td>\n",
        "      <td> NaN</td>\n",
        "      <td> NaN</td>\n",
        "      <td> NaN</td>\n",
        "    </tr>\n",
        "    <tr>\n",
        "      <th>5654</th>\n",
        "      <td> NaN</td>\n",
        "      <td> NaN</td>\n",
        "      <td> NaN</td>\n",
        "      <td>   NaN</td>\n",
        "      <td> NaN</td>\n",
        "      <td> NaN</td>\n",
        "      <td> NaN</td>\n",
        "      <td> NaN</td>\n",
        "      <td>   NaN</td>\n",
        "      <td>                               ['Food', 'Grocery']</td>\n",
        "      <td>...</td>\n",
        "      <td> NaN</td>\n",
        "      <td>    NaN</td>\n",
        "      <td> NaN</td>\n",
        "      <td>  NaN</td>\n",
        "      <td> ['Sunrise']</td>\n",
        "      <td> NaN</td>\n",
        "      <td> NaN</td>\n",
        "      <td> NaN</td>\n",
        "      <td> NaN</td>\n",
        "      <td> NaN</td>\n",
        "    </tr>\n",
        "    <tr>\n",
        "      <th>5655</th>\n",
        "      <td> NaN</td>\n",
        "      <td> NaN</td>\n",
        "      <td> NaN</td>\n",
        "      <td> 00:00</td>\n",
        "      <td> NaN</td>\n",
        "      <td> NaN</td>\n",
        "      <td> NaN</td>\n",
        "      <td> NaN</td>\n",
        "      <td> 00:00</td>\n",
        "      <td> ['Bars', 'Pubs', 'Nightlife', 'American (New)'...</td>\n",
        "      <td>...</td>\n",
        "      <td> NaN</td>\n",
        "      <td>    NaN</td>\n",
        "      <td> NaN</td>\n",
        "      <td> True</td>\n",
        "      <td> ['Sunrise']</td>\n",
        "      <td> NaN</td>\n",
        "      <td> NaN</td>\n",
        "      <td> NaN</td>\n",
        "      <td> NaN</td>\n",
        "      <td> NaN</td>\n",
        "    </tr>\n",
        "  </tbody>\n",
        "</table>\n",
        "<p>5 rows \u00d7 105 columns</p>\n",
        "</div>"
       ],
       "metadata": {},
       "output_type": "pyout",
       "prompt_number": 32,
       "text": [
        "     attributes.Ambience.divey attributes.Dietary Restrictions.vegan  \\\n",
        "5586                       NaN                                   NaN   \n",
        "5616                       NaN                                   NaN   \n",
        "5653                       NaN                                   NaN   \n",
        "5654                       NaN                                   NaN   \n",
        "5655                       NaN                                   NaN   \n",
        "\n",
        "     attributes.Happy Hour hours.Thursday.open attributes.Order at Counter  \\\n",
        "5586                   NaN                 NaN                         NaN   \n",
        "5616                   NaN                 NaN                         NaN   \n",
        "5653                   NaN               08:00                         NaN   \n",
        "5654                   NaN                 NaN                         NaN   \n",
        "5655                   NaN               00:00                         NaN   \n",
        "\n",
        "     attributes.Hair Types Specialized In.africanamerican  \\\n",
        "5586                                                NaN     \n",
        "5616                                                NaN     \n",
        "5653                                                NaN     \n",
        "5654                                                NaN     \n",
        "5655                                                NaN     \n",
        "\n",
        "     attributes.Hair Types Specialized In.kids attributes.BYOB  \\\n",
        "5586                                       NaN             NaN   \n",
        "5616                                       NaN             NaN   \n",
        "5653                                       NaN             NaN   \n",
        "5654                                       NaN             NaN   \n",
        "5655                                       NaN             NaN   \n",
        "\n",
        "     hours.Friday.open                                         categories  \\\n",
        "5586               NaN                      ['Sandwiches', 'Restaurants']   \n",
        "5616               NaN                          ['Diners', 'Restaurants']   \n",
        "5653             08:00                          ['Veterinarians', 'Pets']   \n",
        "5654               NaN                                ['Food', 'Grocery']   \n",
        "5655             00:00  ['Bars', 'Pubs', 'Nightlife', 'American (New)'...   \n",
        "\n",
        "                            ...                          attributes.Smoking  \\\n",
        "5586                        ...                                         NaN   \n",
        "5616                        ...                                         NaN   \n",
        "5653                        ...                                         NaN   \n",
        "5654                        ...                                         NaN   \n",
        "5655                        ...                                         NaN   \n",
        "\n",
        "     attributes.Attire attributes.Hair Types Specialized In.curly  \\\n",
        "5586               NaN                                        NaN   \n",
        "5616            casual                                        NaN   \n",
        "5653               NaN                                        NaN   \n",
        "5654               NaN                                        NaN   \n",
        "5655               NaN                                        NaN   \n",
        "\n",
        "     attributes.Good For Groups neighborhoods attributes.Open 24 Hours  \\\n",
        "5586                        NaN   ['Sunrise']                      NaN   \n",
        "5616                       True   ['Sunrise']                      NaN   \n",
        "5653                        NaN   ['Sunrise']                      NaN   \n",
        "5654                        NaN   ['Sunrise']                      NaN   \n",
        "5655                       True   ['Sunrise']                      NaN   \n",
        "\n",
        "     attributes.Ambience.romantic attributes.Hair Types Specialized In.perms  \\\n",
        "5586                          NaN                                        NaN   \n",
        "5616                          NaN                                        NaN   \n",
        "5653                          NaN                                        NaN   \n",
        "5654                          NaN                                        NaN   \n",
        "5655                          NaN                                        NaN   \n",
        "\n",
        "     attributes.Music.jukebox attributes.Ambience.upscale  \n",
        "5586                      NaN                         NaN  \n",
        "5616                      NaN                         NaN  \n",
        "5653                      NaN                         NaN  \n",
        "5654                      NaN                         NaN  \n",
        "5655                      NaN                         NaN  \n",
        "\n",
        "[5 rows x 105 columns]"
       ]
      }
     ],
     "prompt_number": 32
    },
    {
     "cell_type": "code",
     "collapsed": false,
     "input": [],
     "language": "python",
     "metadata": {},
     "outputs": [],
     "prompt_number": 143
    },
    {
     "cell_type": "code",
     "collapsed": false,
     "input": [
      "LV_westside = LV[['Westside' in j for i, j in LV['neighborhoods'].iteritems()]]"
     ],
     "language": "python",
     "metadata": {},
     "outputs": [],
     "prompt_number": 78
    },
    {
     "cell_type": "code",
     "collapsed": false,
     "input": [
      "set(LV_westside['neighborhoods'])"
     ],
     "language": "python",
     "metadata": {},
     "outputs": [
      {
       "metadata": {},
       "output_type": "pyout",
       "prompt_number": 81,
       "text": [
        "{\"['Chinatown', 'Westside']\",\n",
        " \"['Westside', 'South Summerlin']\",\n",
        " \"['Westside', 'Spring Valley']\",\n",
        " \"['Westside', 'Summerlin', 'South Summerlin']\",\n",
        " \"['Westside', 'Summerlin']\",\n",
        " \"['Westside', 'The Lakes']\",\n",
        " \"['Westside']\"}"
       ]
      }
     ],
     "prompt_number": 81
    },
    {
     "cell_type": "code",
     "collapsed": false,
     "input": [
      "LV_no_label = LV[['[]' == j for i, j in LV['neighborhoods'].iteritems()]]\n",
      "len(LV_no_label)/float(len(LV))"
     ],
     "language": "python",
     "metadata": {},
     "outputs": [
      {
       "metadata": {},
       "output_type": "pyout",
       "prompt_number": 14,
       "text": [
        "0.1599567459657295"
       ]
      }
     ],
     "prompt_number": 14
    },
    {
     "cell_type": "markdown",
     "metadata": {},
     "source": [
      "###Plotting Neighborhoods"
     ]
    },
    {
     "cell_type": "code",
     "collapsed": false,
     "input": [
      "def find_neighborhoods(city):\n",
      "    hood = []\n",
      "    for line in set(city['neighborhoods']):\n",
      "        hood+=( [ast.literal_eval(line)[i] for i in range(len(ast.literal_eval(line))) ])\n",
      "    return set(hood)"
     ],
     "language": "python",
     "metadata": {},
     "outputs": [],
     "prompt_number": 148
    },
    {
     "cell_type": "code",
     "collapsed": false,
     "input": [
      "import numpy as np\n",
      "import matplotlib.pyplot as plt\n",
      "import matplotlib.cm as cm\n",
      "%matplotlib inline\n",
      "def plot_neighborhoods(city):\n",
      "    neighborhoods = find_neighborhoods(city)\n",
      "    colors = cm.rainbow(np.linspace(0, 1, len(neighborhoods)))\n",
      "    for neighborhood, c in zip(neighborhoods, colors):\n",
      "        hood = city[[neighborhood in j for i, j in city['neighborhoods'].iteritems()]]\n",
      "        y = hood['latitude']\n",
      "        x = hood['longitude']\n",
      "\n",
      "        plt.plot(x,y, '.', color = c, label = neighborhood)\n",
      "#         plt.legend()"
     ],
     "language": "python",
     "metadata": {},
     "outputs": [],
     "prompt_number": 144
    },
    {
     "cell_type": "code",
     "collapsed": false,
     "input": [
      "plot_neighborhoods(LV)"
     ],
     "language": "python",
     "metadata": {},
     "outputs": [
      {
       "metadata": {},
       "output_type": "display_data",
       "png": "[encoded data removed]",
       "text": [
        "<matplotlib.figure.Figure at 0x7f0147f0a5d0>"
       ]
      }
     ],
     "prompt_number": 145
    },
    {
     "cell_type": "code",
     "collapsed": false,
     "input": [
      "plot_neighborhoods(ED)"
     ],
     "language": "python",
     "metadata": {},
     "outputs": [
      {
       "metadata": {},
       "output_type": "display_data",
       "png": "[encoded data removed]",
       "text": [
        "<matplotlib.figure.Figure at 0x7f0147e16710>"
       ]
      }
     ],
     "prompt_number": 146
    },
    {
     "cell_type": "code",
     "collapsed": false,
     "input": [
      "plot_neighborhoods(MD)"
     ],
     "language": "python",
     "metadata": {},
     "outputs": [
      {
       "metadata": {},
       "output_type": "display_data",
       "png": "[encoded data removed]",
       "text": [
        "<matplotlib.figure.Figure at 0x7f0147134690>"
       ]
      }
     ],
     "prompt_number": 147
    },
    {
     "cell_type": "markdown",
     "metadata": {},
     "source": [
      "### Calculating Distances"
     ]
    },
    {
     "cell_type": "code",
     "collapsed": false,
     "input": [
      "\n",
      "def distance(point1, point2):\n",
      "    '''\n",
      "    finds the euclidian distance between two points for an arbitrary number of dimensions\n",
      "    inputs: two points, lists\n",
      "    outputs: distance between points, float\n",
      "    '''\n",
      "    nDimensions = len(point1)\n",
      "    if nDimensions != len(point2):\n",
      "        raise ValueError('Inputs have different dimensions')\n",
      "    distanceSquared = 0\n",
      "    for i in range(nDimensions):\n",
      "        distanceSquared += (point1[i]-point2[i])**2\n",
      "    distance = distanceSquared ** 0.5\n",
      "    return distance"
     ],
     "language": "python",
     "metadata": {},
     "outputs": [],
     "prompt_number": 159
    },
    {
     "cell_type": "code",
     "collapsed": false,
     "input": [
      "import numpy as np\n",
      "import math as math\n",
      "def coord_distance(point1, point2, scale = 'miles'):\n",
      "    '''\n",
      "    finds the distance between two coordinate locations given as\n",
      "    (longitude, latitude)\n",
      "    uses Haversine formula\n",
      "    '''\n",
      "    nDimensions = len(point1)\n",
      "    if nDimensions != 2 or nDimensions != len(point2):\n",
      "        raise ValueError('Input(s) do not have correct dimensions')\n",
      "    if scale == 'miles': R=3963\n",
      "    elif scale == 'kilometers': R=6373\n",
      "    else: raise ValueError('Need valid scale (miles or kilometers)')\n",
      "    dLat = (point1[1] - point2[1])*np.pi / 180\n",
      "    dLong = (point1[0] - point2[0])*np.pi / 180\n",
      "    a = np.sin(dLat/2) * np.sin(dLat/2) + np.cos(point1[1]*np.pi/180) \\\n",
      "        * np.cos(point2[1]*np.pi/180) * np.sin(dLong/2) * np.sin(dLong/2)\n",
      "    c = 2 * math.atan2(np.sqrt(a), np.sqrt(1-a))\n",
      "    return R*c\n",
      "    "
     ],
     "language": "python",
     "metadata": {},
     "outputs": [],
     "prompt_number": 33
    },
    {
     "cell_type": "code",
     "collapsed": false,
     "input": [
      "coord_distance ((89.3, 45.2), (87.4, 43.1), 'kilometers')"
     ],
     "language": "python",
     "metadata": {},
     "outputs": [
      {
       "metadata": {},
       "output_type": "pyout",
       "prompt_number": 187,
       "text": [
        "278.4673608386947"
       ]
      }
     ],
     "prompt_number": 187
    },
    {
     "cell_type": "code",
     "collapsed": false,
     "input": [
      "lat_set = []\n",
      "lon_set = []\n",
      "for k, l in LV['latitude'].iteritems():\n",
      "    lat_set.append( LV['latitude'][k])\n",
      "    lon_set.append( LV['longitude'][k])\n",
      "print max(lat_set), min(lat_set), max(lon_set), min(lon_set)"
     ],
     "language": "python",
     "metadata": {},
     "outputs": [
      {
       "output_type": "stream",
       "stream": "stdout",
       "text": [
        "36.3358863885 35.950985 -114.9198153 -115.369725428\n"
       ]
      }
     ],
     "prompt_number": 197
    },
    {
     "cell_type": "code",
     "collapsed": false,
     "input": [
      "def ave_min_distance(category, city_data):\n",
      "    '''\n",
      "    returns the average minimum distance from any given business to a business of input category\n",
      "    '''\n",
      "    category_businesses = city_data[[category in j for i, j in city_data['categories'].iteritems()]]\n",
      "    category_bus_coordinates = []\n",
      "    for k, l in category_businesses['latitude'].iteritems():\n",
      "        category_bus_coordinates.append((category_businesses['longitude'][k], category_businesses['latitude'][k]))\n",
      "    coordinates_set = []\n",
      "    for k, l in city_data['latitude'].iteritems():\n",
      "        coordinates_set.append((city_data['longitude'][k], city_data['latitude'][k]))\n",
      "    sum_distances = 0\n",
      "    num_distances = 0\n",
      "    for coord in coordinates_set:\n",
      "        closest_dist = min([coord_distance(coord, cat_bus) for cat_bus in category_bus_coordinates if cat_bus != coord])\n",
      "        sum_distances += closest_dist\n",
      "        num_distances += 1\n",
      "    ave_min_distance = sum_distances / num_distances\n",
      "    return(ave_min_distance)"
     ],
     "language": "python",
     "metadata": {},
     "outputs": [],
     "prompt_number": 54
    },
    {
     "cell_type": "code",
     "collapsed": false,
     "input": [
      "def ave_min_distance_of_same_type(category, city_data):\n",
      "    '''\n",
      "    returns the average minimum distance from any given business to a business of the same type in category\n",
      "    '''\n",
      "    category_businesses = city_data[[category in j for i, j in city_data['categories'].iteritems()]]\n",
      "    category_bus_coordinates = []\n",
      "    for k, l in category_businesses['latitude'].iteritems():\n",
      "        category_bus_coordinates.append((category_businesses['longitude'][k], category_businesses['latitude'][k]))\n",
      "#     return category_bus_coordinates\n",
      "    sum_distances = 0\n",
      "    num_distances = 0\n",
      "    for coord in category_bus_coordinates:\n",
      "        cat_other_bus = category_bus_coordinates#.remove(coord) #need to change this to get rid of business itself\n",
      "        closest_dist = min([coord_distance(coord, cat_bus) for cat_bus in cat_other_bus if cat_bus != coord])\n",
      "        sum_distances += closest_dist\n",
      "        num_distances += 1\n",
      "    ave_min_distance = sum_distances / num_distances\n",
      "    return(ave_min_distance)"
     ],
     "language": "python",
     "metadata": {},
     "outputs": [],
     "prompt_number": 55
    },
    {
     "cell_type": "code",
     "collapsed": false,
     "input": [],
     "language": "python",
     "metadata": {},
     "outputs": [],
     "prompt_number": 55
    },
    {
     "cell_type": "code",
     "collapsed": false,
     "input": [
      "ave_min_distance_of_same_type('Chinese', LV)"
     ],
     "language": "python",
     "metadata": {},
     "outputs": [
      {
       "metadata": {},
       "output_type": "pyout",
       "prompt_number": 53,
       "text": [
        "0.37456756703369465"
       ]
      }
     ],
     "prompt_number": 53
    },
    {
     "cell_type": "code",
     "collapsed": false,
     "input": [
      "ave_min_distance('Chinese', LV)"
     ],
     "language": "python",
     "metadata": {},
     "outputs": [
      {
       "metadata": {},
       "output_type": "pyout",
       "prompt_number": 56,
       "text": [
        "0.37388323293942816"
       ]
      }
     ],
     "prompt_number": 56
    },
    {
     "cell_type": "code",
     "collapsed": false,
     "input": [
      "ave_min_distance('Argentine', LV)"
     ],
     "language": "python",
     "metadata": {},
     "outputs": [
      {
       "metadata": {},
       "output_type": "pyout",
       "prompt_number": 57,
       "text": [
        "4.346941531045722"
       ]
      }
     ],
     "prompt_number": 57
    },
    {
     "cell_type": "markdown",
     "metadata": {},
     "source": [
      "find ave distance between business and same type of business as feature for business opportunities\n",
      "\n",
      "try clustering users by how often they review normalized by number of reviews in reviewing time\n",
      "\n",
      "looking at reviews for a business over time to predict which places will be trendy and which are on the way out\n",
      "\n",
      "modeling business popularity shape by type of business"
     ]
    },
    {
     "cell_type": "code",
     "collapsed": false,
     "input": [
      "category_businesses = LV[['Chinese' in j for i, j in LV['categories'].iteritems()]]\n",
      "category_argentine = LV[['Argentine' in j for i, j in LV['categories'].iteritems()]]"
     ],
     "language": "python",
     "metadata": {},
     "outputs": [],
     "prompt_number": 180
    },
    {
     "cell_type": "code",
     "collapsed": false,
     "input": [
      "y_category_businesses = category_businesses['latitude']\n",
      "x_category_businesses = category_businesses['longitude']\n",
      "y_category_argentine = category_argentine['latitude']\n",
      "x_category_argentine = category_argentine['longitude']\n",
      "plt.plot(x_category_businesses,y_category_businesses, '.')\n",
      "plt.plot(x_category_argentine,y_category_argentine, 'r.')"
     ],
     "language": "python",
     "metadata": {},
     "outputs": [
      {
       "metadata": {},
       "output_type": "pyout",
       "prompt_number": 184,
       "text": [
        "[<matplotlib.lines.Line2D at 0x7fa86c756510>]"
       ]
      },
      {
       "metadata": {},
       "output_type": "display_data",
       "png": "[encoded data removed]",
       "text": [
        "<matplotlib.figure.Figure at 0x7fa86c759c10>"
       ]
      }
     ],
     "prompt_number": 184
    },
    {
     "cell_type": "code",
     "collapsed": false,
     "input": [
      "y_category_argentine"
     ],
     "language": "python",
     "metadata": {},
     "outputs": [
      {
       "metadata": {},
       "output_type": "pyout",
       "prompt_number": 185,
       "text": [
        "6374     36.126501\n",
        "29379    36.163564\n",
        "Name: latitude, dtype: float64"
       ]
      }
     ],
     "prompt_number": 185
    },
    {
     "cell_type": "code",
     "collapsed": false,
     "input": [
      "import ast\n",
      "possible_categories = []\n",
      "for i, j in LV['categories'].iteritems():\n",
      "    possible_categories+=ast.literal_eval(j)\n",
      "set(possible_categories)"
     ],
     "language": "python",
     "metadata": {},
     "outputs": [
      {
       "metadata": {},
       "output_type": "pyout",
       "prompt_number": 124,
       "text": [
        "{'Accessories',\n",
        " 'Accountants',\n",
        " 'Active Life',\n",
        " 'Acupuncture',\n",
        " 'Adult',\n",
        " 'Adult Education',\n",
        " 'Adult Entertainment',\n",
        " 'Advertising',\n",
        " 'Afghan',\n",
        " 'African',\n",
        " 'Airlines',\n",
        " 'Airport Shuttles',\n",
        " 'Airports',\n",
        " 'Allergists',\n",
        " 'Amateur Sports Teams',\n",
        " 'American (New)',\n",
        " 'American (Traditional)',\n",
        " 'Amusement Parks',\n",
        " 'Animal Shelters',\n",
        " 'Antiques',\n",
        " 'Apartments',\n",
        " 'Appliances',\n",
        " 'Appliances & Repair',\n",
        " 'Aquariums',\n",
        " 'Arcades',\n",
        " 'Archery',\n",
        " 'Argentine',\n",
        " 'Art Classes',\n",
        " 'Art Galleries',\n",
        " 'Art Schools',\n",
        " 'Art Supplies',\n",
        " 'Arts & Crafts',\n",
        " 'Arts & Entertainment',\n",
        " 'Asian Fusion',\n",
        " 'Auction Houses',\n",
        " 'Audiologist',\n",
        " 'Auto Customization',\n",
        " 'Auto Detailing',\n",
        " 'Auto Glass Services',\n",
        " 'Auto Loan Providers',\n",
        " 'Auto Parts & Supplies',\n",
        " 'Auto Repair',\n",
        " 'Automotive',\n",
        " 'Baby Gear & Furniture',\n",
        " 'Bagels',\n",
        " 'Bail Bondsmen',\n",
        " 'Bakeries',\n",
        " 'Bankruptcy Law',\n",
        " 'Banks & Credit Unions',\n",
        " 'Barbeque',\n",
        " 'Barbers',\n",
        " 'Barre Classes',\n",
        " 'Bars',\n",
        " 'Bartenders',\n",
        " 'Bartending Schools',\n",
        " 'Beauty & Spas',\n",
        " 'Bed & Breakfast',\n",
        " 'Beer, Wine & Spirits',\n",
        " 'Bespoke Clothing',\n",
        " 'Bike Rentals',\n",
        " 'Bike Repair/Maintenance',\n",
        " 'Bikes',\n",
        " 'Bistros',\n",
        " 'Blow Dry/Out Services',\n",
        " 'Boating',\n",
        " 'Body Shops',\n",
        " 'Books, Mags, Music & Video',\n",
        " 'Bookstores',\n",
        " 'Boot Camps',\n",
        " 'Botanical Gardens',\n",
        " 'Bowling',\n",
        " 'Boxing',\n",
        " 'Brasseries',\n",
        " 'Brazilian',\n",
        " 'Breakfast & Brunch',\n",
        " 'Breweries',\n",
        " 'Bridal',\n",
        " 'British',\n",
        " 'Bubble Tea',\n",
        " 'Buddhist Temples',\n",
        " 'Buffets',\n",
        " 'Building Supplies',\n",
        " 'Burgers',\n",
        " 'Buses',\n",
        " 'Butcher',\n",
        " 'CPR Classes',\n",
        " 'CSA',\n",
        " 'Cafes',\n",
        " 'Cajun/Creole',\n",
        " 'Campgrounds',\n",
        " 'Candy Stores',\n",
        " 'Cantonese',\n",
        " 'Car Dealers',\n",
        " 'Car Rental',\n",
        " 'Car Stereo Installation',\n",
        " 'Car Wash',\n",
        " 'Cards & Stationery',\n",
        " 'Career Counseling',\n",
        " 'Caribbean',\n",
        " 'Carpet Cleaning',\n",
        " 'Carpet Installation',\n",
        " 'Carpeting',\n",
        " 'Casinos',\n",
        " 'Caterers',\n",
        " 'Champagne Bars',\n",
        " 'Check Cashing/Pay-day Loans',\n",
        " 'Cheesesteaks',\n",
        " 'Chicken Wings',\n",
        " 'Child Care & Day Care',\n",
        " \"Children's Clothing\",\n",
        " 'Chinese',\n",
        " 'Chiropractors',\n",
        " 'Chocolatiers & Shops',\n",
        " 'Churches',\n",
        " 'Cinema',\n",
        " 'Climbing',\n",
        " 'Clowns',\n",
        " 'Cocktail Bars',\n",
        " 'Coffee & Tea',\n",
        " 'College Counseling',\n",
        " 'Colleges & Universities',\n",
        " 'Colombian',\n",
        " 'Comedy Clubs',\n",
        " 'Comfort Food',\n",
        " 'Comic Books',\n",
        " 'Commercial Real Estate',\n",
        " 'Community Service/Non-Profit',\n",
        " 'Computers',\n",
        " 'Contractors',\n",
        " 'Convenience Stores',\n",
        " 'Cooking Classes',\n",
        " 'Cosmetic Dentists',\n",
        " 'Cosmetic Surgeons',\n",
        " 'Cosmetics & Beauty Supply',\n",
        " 'Cosmetology Schools',\n",
        " 'Costumes',\n",
        " 'Counseling & Mental Health',\n",
        " 'Couriers & Delivery Services',\n",
        " 'Courthouses',\n",
        " 'Creperies',\n",
        " 'Criminal Defense Law',\n",
        " 'Cuban',\n",
        " 'Cultural Center',\n",
        " 'Cupcakes',\n",
        " 'DJs',\n",
        " 'DUI Law',\n",
        " 'Damage Restoration',\n",
        " 'Dance Clubs',\n",
        " 'Dance Schools',\n",
        " 'Dance Studios',\n",
        " 'Data Recovery',\n",
        " 'Day Spas',\n",
        " 'Delis',\n",
        " 'Dentists',\n",
        " 'Department Stores',\n",
        " 'Departments of Motor Vehicles',\n",
        " 'Dermatologists',\n",
        " 'Desserts',\n",
        " 'Diagnostic Imaging',\n",
        " 'Diagnostic Services',\n",
        " 'Dim Sum',\n",
        " 'Diners',\n",
        " 'Disc Golf',\n",
        " 'Discount Store',\n",
        " 'Dive Bars',\n",
        " 'Diving',\n",
        " 'Divorce & Family Law',\n",
        " 'Do-It-Yourself Food',\n",
        " 'Doctors',\n",
        " 'Dog Parks',\n",
        " 'Dog Walkers',\n",
        " 'Donuts',\n",
        " 'Door Sales/Installation',\n",
        " 'Doulas',\n",
        " 'Driving Schools',\n",
        " 'Drugstores',\n",
        " 'Dry Cleaning & Laundry',\n",
        " 'Drywall Installation & Repair',\n",
        " 'Ear Nose & Throat',\n",
        " 'Education',\n",
        " 'Educational Services',\n",
        " 'Electricians',\n",
        " 'Electronics',\n",
        " 'Electronics Repair',\n",
        " 'Elementary Schools',\n",
        " 'Embroidery & Crochet',\n",
        " 'Employment Agencies',\n",
        " 'Employment Law',\n",
        " 'Endodontists',\n",
        " 'Estate Planning Law',\n",
        " 'Ethiopian',\n",
        " 'Ethnic Food',\n",
        " 'Event Photography',\n",
        " 'Event Planning & Services',\n",
        " 'Eyelash Service',\n",
        " 'Eyewear & Opticians',\n",
        " 'Fabric Stores',\n",
        " 'Falafel',\n",
        " 'Family Practice',\n",
        " 'Farmers Market',\n",
        " 'Fashion',\n",
        " 'Fast Food',\n",
        " 'Fertility',\n",
        " 'Festivals',\n",
        " 'Filipino',\n",
        " 'Financial Advising',\n",
        " 'Financial Services',\n",
        " 'First Aid Classes',\n",
        " 'Fish & Chips',\n",
        " 'Fitness & Instruction',\n",
        " 'Flooring',\n",
        " 'Florists',\n",
        " 'Flowers & Gifts',\n",
        " 'Fondue',\n",
        " 'Food',\n",
        " 'Food Court',\n",
        " 'Food Delivery Services',\n",
        " 'Food Stands',\n",
        " 'Food Trucks',\n",
        " 'Formal Wear',\n",
        " 'Framing',\n",
        " 'French',\n",
        " 'Fruits & Veggies',\n",
        " 'Funeral Services & Cemeteries',\n",
        " 'Furniture Reupholstery',\n",
        " 'Furniture Stores',\n",
        " 'Garage Door Services',\n",
        " 'Gardeners',\n",
        " 'Gas & Service Stations',\n",
        " 'Gastroenterologist',\n",
        " 'Gastropubs',\n",
        " 'Gay Bars',\n",
        " 'Gelato',\n",
        " 'General Dentistry',\n",
        " 'General Litigation',\n",
        " 'German',\n",
        " 'Gift Shops',\n",
        " 'Glass & Mirrors',\n",
        " 'Gluten-Free',\n",
        " 'Go Karts',\n",
        " 'Golf',\n",
        " 'Golf Equipment',\n",
        " 'Graphic Design',\n",
        " 'Greek',\n",
        " 'Grocery',\n",
        " 'Guest Houses',\n",
        " 'Gun/Rifle Ranges',\n",
        " 'Guns & Ammo',\n",
        " 'Gymnastics',\n",
        " 'Gyms',\n",
        " 'Hair Extensions',\n",
        " 'Hair Removal',\n",
        " 'Hair Salons',\n",
        " 'Hair Stylists',\n",
        " 'Halal',\n",
        " 'Handyman',\n",
        " 'Hardware Stores',\n",
        " 'Hats',\n",
        " 'Hawaiian',\n",
        " 'Health & Medical',\n",
        " 'Health Markets',\n",
        " 'Heating & Air Conditioning/HVAC',\n",
        " 'Herbs & Spices',\n",
        " 'Hiking',\n",
        " 'Himalayan/Nepalese',\n",
        " 'Hindu Temples',\n",
        " 'Hobby Shops',\n",
        " 'Home & Garden',\n",
        " 'Home Cleaning',\n",
        " 'Home Decor',\n",
        " 'Home Health Care',\n",
        " 'Home Inspectors',\n",
        " 'Home Organization',\n",
        " 'Home Services',\n",
        " 'Home Theatre Installation',\n",
        " 'Home Window Tinting',\n",
        " 'Hookah Bars',\n",
        " 'Horse Boarding',\n",
        " 'Horse Racing',\n",
        " 'Horseback Riding',\n",
        " 'Hospice',\n",
        " 'Hospitals',\n",
        " 'Hostels',\n",
        " 'Hot Dogs',\n",
        " 'Hot Pot',\n",
        " 'Hot Tub & Pool',\n",
        " 'Hotels',\n",
        " 'Hotels & Travel',\n",
        " 'Hypnosis/Hypnotherapy',\n",
        " 'IT Services & Computer Repair',\n",
        " 'Ice Cream & Frozen Yogurt',\n",
        " 'Immigration Law',\n",
        " 'Indian',\n",
        " 'Insulation Installation',\n",
        " 'Insurance',\n",
        " 'Interior Design',\n",
        " 'Internal Medicine',\n",
        " 'Internet Cafes',\n",
        " 'Internet Service Providers',\n",
        " 'Investing',\n",
        " 'Irish',\n",
        " 'Irrigation',\n",
        " 'Italian',\n",
        " 'Japanese',\n",
        " 'Jazz & Blues',\n",
        " 'Jewelry',\n",
        " 'Jewelry Repair',\n",
        " 'Juice Bars & Smoothies',\n",
        " 'Junk Removal & Hauling',\n",
        " 'Karaoke',\n",
        " 'Keys & Locksmiths',\n",
        " 'Kids Activities',\n",
        " 'Kitchen & Bath',\n",
        " 'Knitting Supplies',\n",
        " 'Korean',\n",
        " 'Kosher',\n",
        " 'Laboratory Testing',\n",
        " 'Lactation Services',\n",
        " 'Landmarks & Historical Buildings',\n",
        " 'Landscape Architects',\n",
        " 'Landscaping',\n",
        " 'Laser Eye Surgery/Lasik',\n",
        " 'Laser Hair Removal',\n",
        " 'Laser Tag',\n",
        " 'Latin American',\n",
        " 'Lawyers',\n",
        " 'Leather Goods',\n",
        " 'Lebanese',\n",
        " 'Leisure Centers',\n",
        " 'Libraries',\n",
        " 'Life Coach',\n",
        " 'Lighting Fixtures & Equipment',\n",
        " 'Limos',\n",
        " 'Lingerie',\n",
        " 'Live/Raw Food',\n",
        " 'Local Flavor',\n",
        " 'Local Services',\n",
        " 'Lounges',\n",
        " 'Luggage',\n",
        " 'Magicians',\n",
        " 'Makeup Artists',\n",
        " 'Malaysian',\n",
        " 'Marketing',\n",
        " 'Martial Arts',\n",
        " 'Mass Media',\n",
        " 'Massage',\n",
        " 'Massage Schools',\n",
        " 'Massage Therapy',\n",
        " 'Maternity Wear',\n",
        " 'Mattresses',\n",
        " 'Meat Shops',\n",
        " 'Medical Centers',\n",
        " 'Medical Spas',\n",
        " 'Medical Supplies',\n",
        " 'Meditation Centers',\n",
        " 'Mediterranean',\n",
        " \"Men's Clothing\",\n",
        " \"Men's Hair Salons\",\n",
        " 'Mexican',\n",
        " 'Middle Eastern',\n",
        " 'Middle Schools & High Schools',\n",
        " 'Midwives',\n",
        " 'Mini Golf',\n",
        " 'Mobile Phone Repair',\n",
        " 'Mobile Phones',\n",
        " 'Modern European',\n",
        " 'Mongolian',\n",
        " 'Moroccan',\n",
        " 'Mortgage Brokers',\n",
        " 'Motorcycle Dealers',\n",
        " 'Motorcycle Gear',\n",
        " 'Motorcycle Rental',\n",
        " 'Motorcycle Repair',\n",
        " 'Mountain Biking',\n",
        " 'Movers',\n",
        " 'Museums',\n",
        " 'Music & DVDs',\n",
        " 'Music Venues',\n",
        " 'Musical Instruments & Teachers',\n",
        " 'Nail Salons',\n",
        " 'Nanny Services',\n",
        " 'Naturopathic/Holistic',\n",
        " 'Neurologist',\n",
        " 'Newspapers & Magazines',\n",
        " 'Nightlife',\n",
        " 'Notaries',\n",
        " 'Nurseries & Gardening',\n",
        " 'Nutritionists',\n",
        " 'Obstetricians & Gynecologists',\n",
        " 'Occupational Therapy',\n",
        " 'Office Cleaning',\n",
        " 'Office Equipment',\n",
        " 'Officiants',\n",
        " 'Oil Change Stations',\n",
        " 'Ophthalmologists',\n",
        " 'Optometrists',\n",
        " 'Oral Surgeons',\n",
        " 'Orthodontists',\n",
        " 'Orthopedists',\n",
        " 'Orthotics',\n",
        " 'Outdoor Gear',\n",
        " 'Outlet Stores',\n",
        " 'Paintball',\n",
        " 'Painters',\n",
        " 'Pakistani',\n",
        " 'Parks',\n",
        " 'Party & Event Planning',\n",
        " 'Party Bus Rentals',\n",
        " 'Party Equipment Rentals',\n",
        " 'Party Supplies',\n",
        " 'Pawn Shops',\n",
        " 'Pediatric Dentists',\n",
        " 'Pediatricians',\n",
        " 'Performing Arts',\n",
        " 'Periodontists',\n",
        " 'Permanent Makeup',\n",
        " 'Persian/Iranian',\n",
        " 'Personal Chefs',\n",
        " 'Personal Injury Law',\n",
        " 'Personal Shopping',\n",
        " 'Peruvian',\n",
        " 'Pest Control',\n",
        " 'Pet Boarding/Pet Sitting',\n",
        " 'Pet Groomers',\n",
        " 'Pet Services',\n",
        " 'Pet Stores',\n",
        " 'Pet Training',\n",
        " 'Pets',\n",
        " 'Photo Booth Rentals',\n",
        " 'Photographers',\n",
        " 'Photography Stores & Services',\n",
        " 'Physical Therapy',\n",
        " 'Piercing',\n",
        " 'Pilates',\n",
        " 'Pizza',\n",
        " 'Playgrounds',\n",
        " 'Plumbing',\n",
        " 'Plus Size Fashion',\n",
        " 'Podiatrists',\n",
        " 'Police Departments',\n",
        " 'Pool Cleaners',\n",
        " 'Pool Halls',\n",
        " 'Portuguese',\n",
        " 'Post Offices',\n",
        " 'Preschools',\n",
        " 'Pressure Washers',\n",
        " 'Pretzels',\n",
        " 'Print Media',\n",
        " 'Printing Services',\n",
        " 'Private Investigation',\n",
        " 'Private Tutors',\n",
        " 'Professional Services',\n",
        " 'Professional Sports Teams',\n",
        " 'Propane',\n",
        " 'Property Management',\n",
        " 'Psychiatrists',\n",
        " 'Psychics & Astrologers',\n",
        " 'Public Relations',\n",
        " 'Public Services & Government',\n",
        " 'Public Transportation',\n",
        " 'Pubs',\n",
        " 'RV Dealers',\n",
        " 'RV Parks',\n",
        " 'RV Rental',\n",
        " 'Race Tracks',\n",
        " 'Radio Stations',\n",
        " 'Radiologists',\n",
        " 'Rafting/Kayaking',\n",
        " 'Ramen',\n",
        " 'Real Estate',\n",
        " 'Real Estate Agents',\n",
        " 'Real Estate Law',\n",
        " 'Real Estate Services',\n",
        " 'Recording & Rehearsal Studios',\n",
        " 'Recreation Centers',\n",
        " 'Reflexology',\n",
        " 'Rehabilitation Center',\n",
        " 'Reiki',\n",
        " 'Religious Organizations',\n",
        " 'Resorts',\n",
        " 'Restaurants',\n",
        " 'Roofing',\n",
        " 'Russian',\n",
        " 'Salad',\n",
        " 'Salvadoran',\n",
        " 'Sandwiches',\n",
        " 'Screen Printing',\n",
        " 'Screen Printing/T-Shirt Printing',\n",
        " 'Seafood',\n",
        " 'Seafood Markets',\n",
        " 'Security Services',\n",
        " 'Security Systems',\n",
        " 'Self Storage',\n",
        " 'Session Photography',\n",
        " 'Sewing & Alterations',\n",
        " 'Shades & Blinds',\n",
        " 'Shanghainese',\n",
        " 'Shaved Ice',\n",
        " 'Shipping Centers',\n",
        " 'Shoe Repair',\n",
        " 'Shoe Stores',\n",
        " 'Shopping',\n",
        " 'Shopping Centers',\n",
        " 'Signmaking',\n",
        " 'Singaporean',\n",
        " 'Skate Parks',\n",
        " 'Skating Rinks',\n",
        " 'Skin Care',\n",
        " 'Skydiving',\n",
        " 'Smog Check Stations',\n",
        " 'Soccer',\n",
        " 'Social Clubs',\n",
        " 'Solar Installation',\n",
        " 'Soul Food',\n",
        " 'Soup',\n",
        " 'Southern',\n",
        " 'Spanish',\n",
        " 'Special Education',\n",
        " 'Specialty Food',\n",
        " 'Specialty Schools',\n",
        " 'Speech Therapists',\n",
        " 'Sporting Goods',\n",
        " 'Sports Bars',\n",
        " 'Sports Clubs',\n",
        " 'Sports Wear',\n",
        " 'Spray Tanning',\n",
        " 'Stadiums & Arenas',\n",
        " 'Steakhouses',\n",
        " 'Street Vendors',\n",
        " 'Summer Camps',\n",
        " 'Surf Shop',\n",
        " 'Surfing',\n",
        " 'Sushi Bars',\n",
        " 'Swimming Lessons/Schools',\n",
        " 'Swimming Pools',\n",
        " 'Swimwear',\n",
        " 'Synagogues',\n",
        " 'Szechuan',\n",
        " 'Taiwanese',\n",
        " 'Talent Agencies',\n",
        " 'Tanning',\n",
        " 'Tanning Beds',\n",
        " 'Tapas Bars',\n",
        " 'Tapas/Small Plates',\n",
        " 'Tattoo',\n",
        " 'Tattoo Removal',\n",
        " 'Tax Services',\n",
        " 'Taxis',\n",
        " 'Tea Rooms',\n",
        " 'Television Service Providers',\n",
        " 'Television Stations',\n",
        " 'Tennis',\n",
        " 'Tex-Mex',\n",
        " 'Thai',\n",
        " 'Thrift Stores',\n",
        " 'Ticket Sales',\n",
        " 'Tires',\n",
        " 'Tobacco Shops',\n",
        " 'Tours',\n",
        " 'Towing',\n",
        " 'Toy Stores',\n",
        " 'Traditional Chinese Medicine',\n",
        " 'Trainers',\n",
        " 'Trampoline Parks',\n",
        " 'Transportation',\n",
        " 'Travel Services',\n",
        " 'Tree Services',\n",
        " 'Trophy Shops',\n",
        " 'Truck Rental',\n",
        " 'Turkish',\n",
        " 'Ukrainian',\n",
        " 'Uniforms',\n",
        " 'Urgent Care',\n",
        " 'Urologists',\n",
        " 'Used, Vintage & Consignment',\n",
        " 'Utilities',\n",
        " 'Vacation Rental Agents',\n",
        " 'Vacation Rentals',\n",
        " 'Vape Shops',\n",
        " 'Vegan',\n",
        " 'Vegetarian',\n",
        " 'Venezuelan',\n",
        " 'Venues & Event Spaces',\n",
        " 'Veterinarians',\n",
        " 'Video/Film Production',\n",
        " 'Videographers',\n",
        " 'Videos & Video Game Rental',\n",
        " 'Vietnamese',\n",
        " 'Vinyl Records',\n",
        " 'Watch Repair',\n",
        " 'Watches',\n",
        " 'Waxing',\n",
        " 'Web Design',\n",
        " 'Wedding Planning',\n",
        " 'Weight Loss Centers',\n",
        " 'Wheel & Rim Repair',\n",
        " 'Wholesale Stores',\n",
        " 'Wigs',\n",
        " 'Window Washing',\n",
        " 'Windows Installation',\n",
        " 'Windshield Installation & Repair',\n",
        " 'Wine Bars',\n",
        " 'Wineries',\n",
        " \"Women's Clothing\",\n",
        " 'Yelp Events',\n",
        " 'Yoga',\n",
        " 'Zoos'}"
       ]
      }
     ],
     "prompt_number": 124
    },
    {
     "cell_type": "code",
     "collapsed": false,
     "input": [
      "category_grocery = LV[['Grocery' in j for i, j in LV['categories'].iteritems()]]"
     ],
     "language": "python",
     "metadata": {},
     "outputs": [],
     "prompt_number": 190
    },
    {
     "cell_type": "code",
     "collapsed": false,
     "input": [
      "ave_min_distance('Grocery', LV)"
     ],
     "language": "python",
     "metadata": {},
     "outputs": [
      {
       "metadata": {},
       "output_type": "pyout",
       "prompt_number": 191,
       "text": [
        "0.3218912850786858"
       ]
      }
     ],
     "prompt_number": 191
    },
    {
     "cell_type": "code",
     "collapsed": false,
     "input": [
      "len(category_grocery)"
     ],
     "language": "python",
     "metadata": {},
     "outputs": [
      {
       "metadata": {},
       "output_type": "pyout",
       "prompt_number": 192,
       "text": [
        "200"
       ]
      }
     ],
     "prompt_number": 192
    },
    {
     "cell_type": "code",
     "collapsed": false,
     "input": [
      "y_category_businesses = category_grocery['latitude']\n",
      "x_category_businesses = category_grocery['longitude']\n",
      "plt.plot(x_category_businesses,y_category_businesses, '.')"
     ],
     "language": "python",
     "metadata": {},
     "outputs": [
      {
       "metadata": {},
       "output_type": "pyout",
       "prompt_number": 193,
       "text": [
        "[<matplotlib.lines.Line2D at 0x7fa86c754e10>]"
       ]
      },
      {
       "metadata": {},
       "output_type": "display_data",
       "png": "[encoded data removed]",
       "text": [
        "<matplotlib.figure.Figure at 0x7fa86c7aad50>"
       ]
      }
     ],
     "prompt_number": 193
    },
    {
     "cell_type": "code",
     "collapsed": false,
     "input": [],
     "language": "python",
     "metadata": {},
     "outputs": []
    }
   ],
   "metadata": {}
  }
 ]
}